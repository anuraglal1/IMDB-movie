{
 "cells": [
  {
   "cell_type": "code",
   "execution_count": 1,
   "metadata": {
    "collapsed": true
   },
   "outputs": [],
   # importing all the relevant libraries.
   "source": [
    "import pandas as pd\n",
    "import numpy as np\n",
    "from pandas import DataFrame,Series\n",
    "import matplotlib.pyplot as plt\n",
    "%matplotlib inline\n",
    "import seaborn as sns"
   ]
  },
  {
   "cell_type": "code",
   "execution_count": 2,
   "metadata": {},
   "outputs": [
    {
     "data": {
      "text/html": [
       "<div>\n",
       "<style>\n",
       "    .dataframe thead tr:only-child th {\n",
       "        text-align: right;\n",
       "    }\n",
       "\n",
       "    .dataframe thead th {\n",
       "        text-align: left;\n",
       "    }\n",
       "\n",
       "    .dataframe tbody tr th {\n",
       "        vertical-align: top;\n",
       "    }\n",
       "</style>\n",
       "<table border=\"1\" class=\"dataframe\">\n",
       "  <thead>\n",
       "    <tr style=\"text-align: right;\">\n",
       "      <th></th>\n",
       "      <th>color</th>\n",
       "      <th>director_name</th>\n",
       "      <th>num_critic_for_reviews</th>\n",
       "      <th>duration</th>\n",
       "      <th>director_facebook_likes</th>\n",
       "      <th>actor_3_facebook_likes</th>\n",
       "      <th>actor_2_name</th>\n",
       "      <th>actor_1_facebook_likes</th>\n",
       "      <th>gross</th>\n",
       "      <th>genres</th>\n",
       "      <th>actor_1_name</th>\n",
       "      <th>movie_title</th>\n",
       "      <th>num_voted_users</th>\n",
       "      <th>cast_total_facebook_likes</th>\n",
       "      <th>actor_3_name</th>\n",
       "      <th>facenumber_in_poster</th>\n",
       "      <th>plot_keywords</th>\n",
       "      <th>movie_imdb_link</th>\n",
       "      <th>num_user_for_reviews</th>\n",
       "      <th>language</th>\n",
       "      <th>country</th>\n",
       "      <th>content_rating</th>\n",
       "      <th>budget</th>\n",
       "      <th>title_year</th>\n",
       "      <th>actor_2_facebook_likes</th>\n",
       "      <th>imdb_score</th>\n",
       "      <th>aspect_ratio</th>\n",
       "      <th>movie_facebook_likes</th>\n",
       "    </tr>\n",
       "  </thead>\n",
       "  <tbody>\n",
       "    <tr>\n",
       "      <th>0</th>\n",
       "      <td>Color</td>\n",
       "      <td>James Cameron</td>\n",
       "      <td>723.0</td>\n",
       "      <td>178.0</td>\n",
       "      <td>0.0</td>\n",
       "      <td>855.0</td>\n",
       "      <td>Joel David Moore</td>\n",
       "      <td>1000.0</td>\n",
       "      <td>760505847.0</td>\n",
       "      <td>Action|Adventure|Fantasy|Sci-Fi</td>\n",
       "      <td>CCH Pounder</td>\n",
       "      <td>Avatar</td>\n",
       "      <td>886204</td>\n",
       "      <td>4834</td>\n",
       "      <td>Wes Studi</td>\n",
       "      <td>0.0</td>\n",
       "      <td>avatar|future|marine|native|paraplegic</td>\n",
       "      <td>http://www.imdb.com/title/tt0499549/?ref_=fn_t...</td>\n",
       "      <td>3054.0</td>\n",
       "      <td>English</td>\n",
       "      <td>USA</td>\n",
       "      <td>PG-13</td>\n",
       "      <td>237000000.0</td>\n",
       "      <td>2009.0</td>\n",
       "      <td>936.0</td>\n",
       "      <td>7.9</td>\n",
       "      <td>1.78</td>\n",
       "      <td>33000</td>\n",
       "    </tr>\n",
       "    <tr>\n",
       "      <th>1</th>\n",
       "      <td>Color</td>\n",
       "      <td>Gore Verbinski</td>\n",
       "      <td>302.0</td>\n",
       "      <td>169.0</td>\n",
       "      <td>563.0</td>\n",
       "      <td>1000.0</td>\n",
       "      <td>Orlando Bloom</td>\n",
       "      <td>40000.0</td>\n",
       "      <td>309404152.0</td>\n",
       "      <td>Action|Adventure|Fantasy</td>\n",
       "      <td>Johnny Depp</td>\n",
       "      <td>Pirates of the Caribbean: At World's End</td>\n",
       "      <td>471220</td>\n",
       "      <td>48350</td>\n",
       "      <td>Jack Davenport</td>\n",
       "      <td>0.0</td>\n",
       "      <td>goddess|marriage ceremony|marriage proposal|pi...</td>\n",
       "      <td>http://www.imdb.com/title/tt0449088/?ref_=fn_t...</td>\n",
       "      <td>1238.0</td>\n",
       "      <td>English</td>\n",
       "      <td>USA</td>\n",
       "      <td>PG-13</td>\n",
       "      <td>300000000.0</td>\n",
       "      <td>2007.0</td>\n",
       "      <td>5000.0</td>\n",
       "      <td>7.1</td>\n",
       "      <td>2.35</td>\n",
       "      <td>0</td>\n",
       "    </tr>\n",
       "    <tr>\n",
       "      <th>2</th>\n",
       "      <td>Color</td>\n",
       "      <td>Sam Mendes</td>\n",
       "      <td>602.0</td>\n",
       "      <td>148.0</td>\n",
       "      <td>0.0</td>\n",
       "      <td>161.0</td>\n",
       "      <td>Rory Kinnear</td>\n",
       "      <td>11000.0</td>\n",
       "      <td>200074175.0</td>\n",
       "      <td>Action|Adventure|Thriller</td>\n",
       "      <td>Christoph Waltz</td>\n",
       "      <td>Spectre</td>\n",
       "      <td>275868</td>\n",
       "      <td>11700</td>\n",
       "      <td>Stephanie Sigman</td>\n",
       "      <td>1.0</td>\n",
       "      <td>bomb|espionage|sequel|spy|terrorist</td>\n",
       "      <td>http://www.imdb.com/title/tt2379713/?ref_=fn_t...</td>\n",
       "      <td>994.0</td>\n",
       "      <td>English</td>\n",
       "      <td>UK</td>\n",
       "      <td>PG-13</td>\n",
       "      <td>245000000.0</td>\n",
       "      <td>2015.0</td>\n",
       "      <td>393.0</td>\n",
       "      <td>6.8</td>\n",
       "      <td>2.35</td>\n",
       "      <td>85000</td>\n",
       "    </tr>\n",
       "    <tr>\n",
       "      <th>3</th>\n",
       "      <td>Color</td>\n",
       "      <td>Christopher Nolan</td>\n",
       "      <td>813.0</td>\n",
       "      <td>164.0</td>\n",
       "      <td>22000.0</td>\n",
       "      <td>23000.0</td>\n",
       "      <td>Christian Bale</td>\n",
       "      <td>27000.0</td>\n",
       "      <td>448130642.0</td>\n",
       "      <td>Action|Thriller</td>\n",
       "      <td>Tom Hardy</td>\n",
       "      <td>The Dark Knight Rises</td>\n",
       "      <td>1144337</td>\n",
       "      <td>106759</td>\n",
       "      <td>Joseph Gordon-Levitt</td>\n",
       "      <td>0.0</td>\n",
       "      <td>deception|imprisonment|lawlessness|police offi...</td>\n",
       "      <td>http://www.imdb.com/title/tt1345836/?ref_=fn_t...</td>\n",
       "      <td>2701.0</td>\n",
       "      <td>English</td>\n",
       "      <td>USA</td>\n",
       "      <td>PG-13</td>\n",
       "      <td>250000000.0</td>\n",
       "      <td>2012.0</td>\n",
       "      <td>23000.0</td>\n",
       "      <td>8.5</td>\n",
       "      <td>2.35</td>\n",
       "      <td>164000</td>\n",
       "    </tr>\n",
       "    <tr>\n",
       "      <th>4</th>\n",
       "      <td>NaN</td>\n",
       "      <td>Doug Walker</td>\n",
       "      <td>NaN</td>\n",
       "      <td>NaN</td>\n",
       "      <td>131.0</td>\n",
       "      <td>NaN</td>\n",
       "      <td>Rob Walker</td>\n",
       "      <td>131.0</td>\n",
       "      <td>NaN</td>\n",
       "      <td>Documentary</td>\n",
       "      <td>Doug Walker</td>\n",
       "      <td>Star Wars: Episode VII - The Force Awakens    ...</td>\n",
       "      <td>8</td>\n",
       "      <td>143</td>\n",
       "      <td>NaN</td>\n",
       "      <td>0.0</td>\n",
       "      <td>NaN</td>\n",
       "      <td>http://www.imdb.com/title/tt5289954/?ref_=fn_t...</td>\n",
       "      <td>NaN</td>\n",
       "      <td>NaN</td>\n",
       "      <td>NaN</td>\n",
       "      <td>NaN</td>\n",
       "      <td>NaN</td>\n",
       "      <td>NaN</td>\n",
       "      <td>12.0</td>\n",
       "      <td>7.1</td>\n",
       "      <td>NaN</td>\n",
       "      <td>0</td>\n",
       "    </tr>\n",
       "  </tbody>\n",
       "</table>\n",
       "</div>"
      ],
      # fecting the data and framing through pandas and dataframes.
      "text/plain": [
       "   color      director_name  num_critic_for_reviews  duration  \\\n",
       "0  Color      James Cameron                   723.0     178.0   \n",
       "1  Color     Gore Verbinski                   302.0     169.0   \n",
       "2  Color         Sam Mendes                   602.0     148.0   \n",
       "3  Color  Christopher Nolan                   813.0     164.0   \n",
       "4    NaN        Doug Walker                     NaN       NaN   \n",
       "\n",
       "   director_facebook_likes  actor_3_facebook_likes      actor_2_name  \\\n",
       "0                      0.0                   855.0  Joel David Moore   \n",
       "1                    563.0                  1000.0     Orlando Bloom   \n",
       "2                      0.0                   161.0      Rory Kinnear   \n",
       "3                  22000.0                 23000.0    Christian Bale   \n",
       "4                    131.0                     NaN        Rob Walker   \n",
       "\n",
       "   actor_1_facebook_likes        gross                           genres  \\\n",
       "0                  1000.0  760505847.0  Action|Adventure|Fantasy|Sci-Fi   \n",
       "1                 40000.0  309404152.0         Action|Adventure|Fantasy   \n",
       "2                 11000.0  200074175.0        Action|Adventure|Thriller   \n",
       "3                 27000.0  448130642.0                  Action|Thriller   \n",
       "4                   131.0          NaN                      Documentary   \n",
       "\n",
       "      actor_1_name                                        movie_title  \\\n",
       "0      CCH Pounder                                            Avatar    \n",
       "1      Johnny Depp          Pirates of the Caribbean: At World's End    \n",
       "2  Christoph Waltz                                           Spectre    \n",
       "3        Tom Hardy                             The Dark Knight Rises    \n",
       "4      Doug Walker  Star Wars: Episode VII - The Force Awakens    ...   \n",
       "\n",
       "   num_voted_users  cast_total_facebook_likes          actor_3_name  \\\n",
       "0           886204                       4834             Wes Studi   \n",
       "1           471220                      48350        Jack Davenport   \n",
       "2           275868                      11700      Stephanie Sigman   \n",
       "3          1144337                     106759  Joseph Gordon-Levitt   \n",
       "4                8                        143                   NaN   \n",
       "\n",
       "   facenumber_in_poster                                      plot_keywords  \\\n",
       "0                   0.0             avatar|future|marine|native|paraplegic   \n",
       "1                   0.0  goddess|marriage ceremony|marriage proposal|pi...   \n",
       "2                   1.0                bomb|espionage|sequel|spy|terrorist   \n",
       "3                   0.0  deception|imprisonment|lawlessness|police offi...   \n",
       "4                   0.0                                                NaN   \n",
       "\n",
       "                                     movie_imdb_link  num_user_for_reviews  \\\n",
       "0  http://www.imdb.com/title/tt0499549/?ref_=fn_t...                3054.0   \n",
       "1  http://www.imdb.com/title/tt0449088/?ref_=fn_t...                1238.0   \n",
       "2  http://www.imdb.com/title/tt2379713/?ref_=fn_t...                 994.0   \n",
       "3  http://www.imdb.com/title/tt1345836/?ref_=fn_t...                2701.0   \n",
       "4  http://www.imdb.com/title/tt5289954/?ref_=fn_t...                   NaN   \n",
       "\n",
       "  language country content_rating       budget  title_year  \\\n",
       "0  English     USA          PG-13  237000000.0      2009.0   \n",
       "1  English     USA          PG-13  300000000.0      2007.0   \n",
       "2  English      UK          PG-13  245000000.0      2015.0   \n",
       "3  English     USA          PG-13  250000000.0      2012.0   \n",
       "4      NaN     NaN            NaN          NaN         NaN   \n",
       "\n",
       "   actor_2_facebook_likes  imdb_score  aspect_ratio  movie_facebook_likes  \n",
       "0                   936.0         7.9          1.78                 33000  \n",
       "1                  5000.0         7.1          2.35                     0  \n",
       "2                   393.0         6.8          2.35                 85000  \n",
       "3                 23000.0         8.5          2.35                164000  \n",
       "4                    12.0         7.1           NaN                     0  "
      ]
     },
     "execution_count": 2,
     "metadata": {},
     "output_type": "execute_result"
    }
   ],
   "source": [
    "pd.options.display.max_columns = 999\n",
    "import warnings\n",
    "warnings.filterwarnings(\"ignore\")\n",
    "df = pd.read_csv('/home/anurag/ML/Python-Machine-Learning-Projects-Data-Science-Projects/IMDB Score Predictor/movie_metadata.csv' , error_bad_lines=False)\n",
    "df.head()"
   ]
  },
  {
   "cell_type": "code",
   "execution_count": 3,
   "metadata": {},
   "outputs": [
    {
     "data": {
      "text/plain": [
       "(5043, 28)"
      ]
     },
     "execution_count": 3,
     "metadata": {},
     "output_type": "execute_result"
    }
   ],
   "source": [
    "df.shape"
   ]
  },
  {
   "cell_type": "code",
   "execution_count": 4,
   "metadata": {},
   "outputs": [
    {
     "data": {
      "text/plain": [
       "Index(['color', 'director_name', 'num_critic_for_reviews', 'duration',\n",
       "       'director_facebook_likes', 'actor_3_facebook_likes', 'actor_2_name',\n",
       "       'actor_1_facebook_likes', 'gross', 'genres', 'actor_1_name',\n",
       "       'movie_title', 'num_voted_users', 'cast_total_facebook_likes',\n",
       "       'actor_3_name', 'facenumber_in_poster', 'plot_keywords',\n",
       "       'movie_imdb_link', 'num_user_for_reviews', 'language', 'country',\n",
       "       'content_rating', 'budget', 'title_year', 'actor_2_facebook_likes',\n",
       "       'imdb_score', 'aspect_ratio', 'movie_facebook_likes'],\n",
       "      dtype='object')"
      ]
     },
     "execution_count": 4,
     "metadata": {},
     "output_type": "execute_result"
    }
   ],
   "source": [
    "df.columns"
   ]
  },
  {
   "cell_type": "code",
   "execution_count": 5,
   "metadata": {},
   "outputs": [
    {
     "name": "stdout",
     "output_type": "stream",
     "text": [
      "<class 'pandas.core.frame.DataFrame'>\n",
      "RangeIndex: 5043 entries, 0 to 5042\n",
      "Data columns (total 28 columns):\n",
      "color                        5024 non-null object\n",
      "director_name                4939 non-null object\n",
      "num_critic_for_reviews       4993 non-null float64\n",
      "duration                     5028 non-null float64\n",
      "director_facebook_likes      4939 non-null float64\n",
      "actor_3_facebook_likes       5020 non-null float64\n",
      "actor_2_name                 5030 non-null object\n",
      "actor_1_facebook_likes       5036 non-null float64\n",
      "gross                        4159 non-null float64\n",
      "genres                       5043 non-null object\n",
      "actor_1_name                 5036 non-null object\n",
      "movie_title                  5043 non-null object\n",
      "num_voted_users              5043 non-null int64\n",
      "cast_total_facebook_likes    5043 non-null int64\n",
      "actor_3_name                 5020 non-null object\n",
      "facenumber_in_poster         5030 non-null float64\n",
      "plot_keywords                4890 non-null object\n",
      "movie_imdb_link              5043 non-null object\n",
      "num_user_for_reviews         5022 non-null float64\n",
      "language                     5031 non-null object\n",
      "country                      5038 non-null object\n",
      "content_rating               4740 non-null object\n",
      "budget                       4551 non-null float64\n",
      "title_year                   4935 non-null float64\n",
      "actor_2_facebook_likes       5030 non-null float64\n",
      "imdb_score                   5043 non-null float64\n",
      "aspect_ratio                 4714 non-null float64\n",
      "movie_facebook_likes         5043 non-null int64\n",
      "dtypes: float64(13), int64(3), object(12)\n",
      "memory usage: 1.1+ MB\n"
     ]
    }
   ],
   "source": [
    "df.info()"
   ]
  },
  {
   "cell_type": "code",
   "execution_count": 6,
   "metadata": {},
   "outputs": [
    {
     "data": {
      "text/plain": [
       "gross                        884\n",
       "budget                       492\n",
       "aspect_ratio                 329\n",
       "content_rating               303\n",
       "plot_keywords                153\n",
       "title_year                   108\n",
       "director_name                104\n",
       "director_facebook_likes      104\n",
       "num_critic_for_reviews        50\n",
       "actor_3_name                  23\n",
       "actor_3_facebook_likes        23\n",
       "num_user_for_reviews          21\n",
       "color                         19\n",
       "duration                      15\n",
       "facenumber_in_poster          13\n",
       "actor_2_name                  13\n",
       "actor_2_facebook_likes        13\n",
       "language                      12\n",
       "actor_1_name                   7\n",
       "actor_1_facebook_likes         7\n",
       "country                        5\n",
       "movie_facebook_likes           0\n",
       "genres                         0\n",
       "movie_title                    0\n",
       "num_voted_users                0\n",
       "movie_imdb_link                0\n",
       "imdb_score                     0\n",
       "cast_total_facebook_likes      0\n",
       "dtype: int64"
      ]
     },
     "execution_count": 6,
     "metadata": {},
     "output_type": "execute_result"
    }
   ],
   "source": [
    "df.isnull().sum().sort_values(ascending = False)"
   ]
  },
  {
   "cell_type": "code",
   "execution_count": 7,
   "metadata": {
    "collapsed": true
   },
   "outputs": [],
   "source": [
    "df.dropna(how = 'any',axis = 0,inplace = True)"
   ]
  },
  {
   "cell_type": "code",
   "execution_count": 8,
   "metadata": {},
   "outputs": [
    {
     "data": {
      "text/plain": [
       "movie_facebook_likes         0\n",
       "aspect_ratio                 0\n",
       "director_name                0\n",
       "num_critic_for_reviews       0\n",
       "duration                     0\n",
       "director_facebook_likes      0\n",
       "actor_3_facebook_likes       0\n",
       "actor_2_name                 0\n",
       "actor_1_facebook_likes       0\n",
       "gross                        0\n",
       "genres                       0\n",
       "actor_1_name                 0\n",
       "movie_title                  0\n",
       "num_voted_users              0\n",
       "cast_total_facebook_likes    0\n",
       "actor_3_name                 0\n",
       "facenumber_in_poster         0\n",
       "plot_keywords                0\n",
       "movie_imdb_link              0\n",
       "num_user_for_reviews         0\n",
       "language                     0\n",
       "country                      0\n",
       "content_rating               0\n",
       "budget                       0\n",
       "title_year                   0\n",
       "actor_2_facebook_likes       0\n",
       "imdb_score                   0\n",
       "color                        0\n",
       "dtype: int64"
      ]
     },
     "execution_count": 8,
     "metadata": {},
     "output_type": "execute_result"
    }
   ],
   "source": [
    "df.isnull().sum().sort_values(ascending = False)"
   ]
  },
  {
   "cell_type": "code",
   "execution_count": 9,
   "metadata": {},
   "outputs": [
    {
     "data": {
      "text/plain": [
       "(3756, 28)"
      ]
     },
     "execution_count": 9,
     "metadata": {},
     "output_type": "execute_result"
    }
   ],
   "source": [
    "df.shape"
   ]
  },
  {
   "cell_type": "code",
   "execution_count": 10,
   "metadata": {
    "collapsed": true
   },
   "outputs": [],
   "source": [
    "numerical_features = df.select_dtypes(exclude=['object']).columns\n",
    "categorical_features = df.select_dtypes(include=['object']).columns"
   ]
  },
  {
   "cell_type": "code",
   "execution_count": 11,
   "metadata": {
    "collapsed": true
   },
   "outputs": [],
   "source": [
    "num_data = df[numerical_features]\n",
    "cat_data = df[categorical_features]"
   ]
  },
  {
   "cell_type": "code",
   "execution_count": 12,
   "metadata": {},
   "outputs": [
    {
     "data": {
      "text/plain": [
       "((3756, 16), (3756, 12))"
      ]
     },
     "execution_count": 12,
     "metadata": {},
     "output_type": "execute_result"
    }
   ],
   "source": [
    "num_data.shape,cat_data.shape"
   ]
  },
  {
   "cell_type": "code",
   "execution_count": 13,
   "metadata": {},
   "outputs": [
    {
     "data": {
      "text/html": [
       "<div>\n",
       "<style>\n",
       "    .dataframe thead tr:only-child th {\n",
       "        text-align: right;\n",
       "    }\n",
       "\n",
       "    .dataframe thead th {\n",
       "        text-align: left;\n",
       "    }\n",
       "\n",
       "    .dataframe tbody tr th {\n",
       "        vertical-align: top;\n",
       "    }\n",
       "</style>\n",
       "<table border=\"1\" class=\"dataframe\">\n",
       "  <thead>\n",
       "    <tr style=\"text-align: right;\">\n",
       "      <th></th>\n",
       "      <th>num_critic_for_reviews</th>\n",
       "      <th>duration</th>\n",
       "      <th>director_facebook_likes</th>\n",
       "      <th>actor_3_facebook_likes</th>\n",
       "      <th>actor_1_facebook_likes</th>\n",
       "      <th>gross</th>\n",
       "      <th>num_voted_users</th>\n",
       "      <th>cast_total_facebook_likes</th>\n",
       "      <th>facenumber_in_poster</th>\n",
       "      <th>num_user_for_reviews</th>\n",
       "      <th>budget</th>\n",
       "      <th>title_year</th>\n",
       "      <th>actor_2_facebook_likes</th>\n",
       "      <th>imdb_score</th>\n",
       "      <th>aspect_ratio</th>\n",
       "      <th>movie_facebook_likes</th>\n",
       "    </tr>\n",
       "  </thead>\n",
       "  <tbody>\n",
       "    <tr>\n",
       "      <th>0</th>\n",
       "      <td>723.0</td>\n",
       "      <td>178.0</td>\n",
       "      <td>0.0</td>\n",
       "      <td>855.0</td>\n",
       "      <td>1000.0</td>\n",
       "      <td>760505847.0</td>\n",
       "      <td>886204</td>\n",
       "      <td>4834</td>\n",
       "      <td>0.0</td>\n",
       "      <td>3054.0</td>\n",
       "      <td>237000000.0</td>\n",
       "      <td>2009.0</td>\n",
       "      <td>936.0</td>\n",
       "      <td>7.9</td>\n",
       "      <td>1.78</td>\n",
       "      <td>33000</td>\n",
       "    </tr>\n",
       "    <tr>\n",
       "      <th>1</th>\n",
       "      <td>302.0</td>\n",
       "      <td>169.0</td>\n",
       "      <td>563.0</td>\n",
       "      <td>1000.0</td>\n",
       "      <td>40000.0</td>\n",
       "      <td>309404152.0</td>\n",
       "      <td>471220</td>\n",
       "      <td>48350</td>\n",
       "      <td>0.0</td>\n",
       "      <td>1238.0</td>\n",
       "      <td>300000000.0</td>\n",
       "      <td>2007.0</td>\n",
       "      <td>5000.0</td>\n",
       "      <td>7.1</td>\n",
       "      <td>2.35</td>\n",
       "      <td>0</td>\n",
       "    </tr>\n",
       "    <tr>\n",
       "      <th>2</th>\n",
       "      <td>602.0</td>\n",
       "      <td>148.0</td>\n",
       "      <td>0.0</td>\n",
       "      <td>161.0</td>\n",
       "      <td>11000.0</td>\n",
       "      <td>200074175.0</td>\n",
       "      <td>275868</td>\n",
       "      <td>11700</td>\n",
       "      <td>1.0</td>\n",
       "      <td>994.0</td>\n",
       "      <td>245000000.0</td>\n",
       "      <td>2015.0</td>\n",
       "      <td>393.0</td>\n",
       "      <td>6.8</td>\n",
       "      <td>2.35</td>\n",
       "      <td>85000</td>\n",
       "    </tr>\n",
       "    <tr>\n",
       "      <th>3</th>\n",
       "      <td>813.0</td>\n",
       "      <td>164.0</td>\n",
       "      <td>22000.0</td>\n",
       "      <td>23000.0</td>\n",
       "      <td>27000.0</td>\n",
       "      <td>448130642.0</td>\n",
       "      <td>1144337</td>\n",
       "      <td>106759</td>\n",
       "      <td>0.0</td>\n",
       "      <td>2701.0</td>\n",
       "      <td>250000000.0</td>\n",
       "      <td>2012.0</td>\n",
       "      <td>23000.0</td>\n",
       "      <td>8.5</td>\n",
       "      <td>2.35</td>\n",
       "      <td>164000</td>\n",
       "    </tr>\n",
       "    <tr>\n",
       "      <th>5</th>\n",
       "      <td>462.0</td>\n",
       "      <td>132.0</td>\n",
       "      <td>475.0</td>\n",
       "      <td>530.0</td>\n",
       "      <td>640.0</td>\n",
       "      <td>73058679.0</td>\n",
       "      <td>212204</td>\n",
       "      <td>1873</td>\n",
       "      <td>1.0</td>\n",
       "      <td>738.0</td>\n",
       "      <td>263700000.0</td>\n",
       "      <td>2012.0</td>\n",
       "      <td>632.0</td>\n",
       "      <td>6.6</td>\n",
       "      <td>2.35</td>\n",
       "      <td>24000</td>\n",
       "    </tr>\n",
       "  </tbody>\n",
       "</table>\n",
       "</div>"
      ],
      "text/plain": [
       "   num_critic_for_reviews  duration  director_facebook_likes  \\\n",
       "0                   723.0     178.0                      0.0   \n",
       "1                   302.0     169.0                    563.0   \n",
       "2                   602.0     148.0                      0.0   \n",
       "3                   813.0     164.0                  22000.0   \n",
       "5                   462.0     132.0                    475.0   \n",
       "\n",
       "   actor_3_facebook_likes  actor_1_facebook_likes        gross  \\\n",
       "0                   855.0                  1000.0  760505847.0   \n",
       "1                  1000.0                 40000.0  309404152.0   \n",
       "2                   161.0                 11000.0  200074175.0   \n",
       "3                 23000.0                 27000.0  448130642.0   \n",
       "5                   530.0                   640.0   73058679.0   \n",
       "\n",
       "   num_voted_users  cast_total_facebook_likes  facenumber_in_poster  \\\n",
       "0           886204                       4834                   0.0   \n",
       "1           471220                      48350                   0.0   \n",
       "2           275868                      11700                   1.0   \n",
       "3          1144337                     106759                   0.0   \n",
       "5           212204                       1873                   1.0   \n",
       "\n",
       "   num_user_for_reviews       budget  title_year  actor_2_facebook_likes  \\\n",
       "0                3054.0  237000000.0      2009.0                   936.0   \n",
       "1                1238.0  300000000.0      2007.0                  5000.0   \n",
       "2                 994.0  245000000.0      2015.0                   393.0   \n",
       "3                2701.0  250000000.0      2012.0                 23000.0   \n",
       "5                 738.0  263700000.0      2012.0                   632.0   \n",
       "\n",
       "   imdb_score  aspect_ratio  movie_facebook_likes  \n",
       "0         7.9          1.78                 33000  \n",
       "1         7.1          2.35                     0  \n",
       "2         6.8          2.35                 85000  \n",
       "3         8.5          2.35                164000  \n",
       "5         6.6          2.35                 24000  "
      ]
     },
     "execution_count": 13,
     "metadata": {},
     "output_type": "execute_result"
    }
   ],
   "source": [
    "num_data.head()"
   ]
  },
  {
   "cell_type": "code",
   "execution_count": 14,
   "metadata": {
    "collapsed": true
   },
   "outputs": [],
   "source": [
    "num_data.drop(['title_year'],axis = 1, inplace = True)"
   ]
  },
  {
   "cell_type": "code",
   "execution_count": 15,
   "metadata": {
    "collapsed": true
   },
   "outputs": [],
   "source": [
    "numerical_features = numerical_features.drop('title_year')"
   ]
  },
  {
   "cell_type": "code",
   "execution_count": 16,
   "metadata": {},
   "outputs": [
    {
     "data": {
      "text/plain": [
       "15"
      ]
     },
     "execution_count": 16,
     "metadata": {},
     "output_type": "execute_result"
    }
   ],
   "source": [
    "numerical_features.size"
   ]
  },
  {
   "cell_type": "code",
   "execution_count": 17,
   "metadata": {},
   "outputs": [
    {
     "data": {
      "image/png": "iVBORw0KGgoAAAANSUhEUgAAAe4AAAF6CAYAAADf4LsDAAAABHNCSVQICAgIfAhkiAAAAAlwSFlz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\nliSpQQxuSZIaxOCWJKlB/j+/sWNaTmuoSAAAAABJRU5ErkJggg==\n",
      "text/plain": [
       "<Figure size 576x432 with 1 Axes>"
      ]
     },
     "metadata": {},
     "output_type": "display_data"
    }
   ],
   "source": [
    "plt.figure(figsize=(8,6))\n",
    "plt.scatter(range(num_data.shape[0]), np.sort(num_data.imdb_score.values))\n",
    "plt.xlabel('index', fontsize=12)\n",
    "plt.ylabel('IMDB_SCORE', fontsize=12)\n",
    "plt.show()"
   ]
  },
  {
   "cell_type": "code",
   "execution_count": 18,
   "metadata": {},
   "outputs": [
    {
     "data": {
      "image/png": "iVBORw0KGgoAAAANSUhEUgAAAskAAAHmCAYAAACBJxOTAAAABHNCSVQICAgIfAhkiAAAAAlwSFlz\nAAALEgAACxIB0t1+/AAAADl0RVh0U29mdHdhcmUAbWF0cGxvdGxpYiB2ZXJzaW9uIDMuMC4yLCBo\ndHRwOi8vbWF0cGxvdGxpYi5vcmcvOIA7rQAAGvBJREFUeJzt3X3Q5XdZ3/HPRZZnkESyZEKSdalG\na+gMge5ksVCLBBCoGnQqk2yViOksnYkOVDsVmHZAW2awg1BkLG0k1KAsIfIwZBzkoZGC1GFhEyLk\nAeoKySZrSBZ5CFGKJlz94/6l3v12yf149txn9/WauWfP+Z3fOefaI2bf+93vOae6OwAAwN950LwH\nAACArUYkAwDAQCQDAMBAJAMAwEAkAwDAQCQDAMBAJAMAwEAkAwDAQCQDAMBg27wHSJJTTz21d+7c\nOe8xAAA4zl177bVf7u7tK523JSJ5586dOXDgwLzHAADgOFdVt67mPNstAABgIJIBAGAgkgEAYCCS\nAQBgIJIBAGAgkgEAYCCSAQBgIJIBAGAgkgEAYCCSAQBgIJIBAGAgkgEAYCCSAQBgIJIBAGAgkgEA\nYCCSAQBgIJIBAGAgkgEAYCCSAQBgsG3eAwDAotq3/9Ca77Nn944ZTAJsNivJAAAwEMkAADAQyQAA\nMBDJAAAwEMkAADAQyQAAMBDJAAAwEMkAADAQyQAAMBDJAAAwEMkAADAQyQAAMBDJAAAwEMkAADAQ\nyQAAMBDJAAAwEMkAADAQyQAAMBDJAAAwEMkAADBYMZKr6mFV9cmq+tOqurGqfnU6/oSq2l9VB6vq\nnVX1kOn4Q6frB6fbd872twAAAJtrNSvJ30ryzO5+UpJzkzy3qp6a5NeTvKG7vy/JV5NcMp1/SZKv\nTsffMJ0HAAALY8VI7iX3TFcfPP10kmcmedd0/IokL5guXzBdz3T7+VVVmzYxAADM2LbVnFRVJyW5\nNsn3JfmtJH+e5Gvdfe90yu1Jzpgun5HktiTp7nur6utJHpvky8Nj7k2yN0l27Nixsd8FABzFvv2H\n1nT+nt3+PAKWrOqNe919X3efm+TMJOcl+fsbfeLuvqy7d3X3ru3bt2/04QAAYNOs6dMtuvtrST6S\n5IeSnFxV969En5nk8HT5cJKzkmS6/TFJ/nJTpgUAgGNgNZ9usb2qTp4uPzzJs5PcnKVY/mfTaRcn\ned90+erpeqbb/6i7ezOHBgCAWVrNnuTTk1wx7Ut+UJKruvsPquqmJFdW1X9I8ukkl0/nX57kd6vq\nYJKvJLlwBnMDAMDMrBjJ3f2ZJE8+yvEvZGl/8nj8fyf56U2ZDgAA5sA37gEAwEAkAwDAQCQDAMBA\nJAMAwEAkAwDAQCQDAMBAJAMAwEAkAwDAQCQDAMBAJAMAwEAkAwDAQCQDAMBAJAMAwEAkAwDAQCQD\nAMBAJAMAwEAkAwDAQCQDAMBAJAMAwEAkAwDAYNu8BwAAvrN9+w+t6fw9u3fMaBI4sVhJBgCAgUgG\nAICBSAYAgIFIBgCAgTfuATA33pQGbFVWkgEAYCCSAQBgIJIBAGAgkgEAYCCSAQBgIJIBAGAgkgEA\nYCCSAQBgIJIBAGAgkgEAYCCSAQBgIJIBAGAgkgEAYCCSAQBgIJIBAGAgkgEAYCCSAQBgIJIBAGAg\nkgEAYCCSAQBgIJIBAGAgkgEAYCCSAQBgIJIBAGAgkgEAYCCSAQBgIJIBAGAgkgEAYCCSAQBgIJIB\nAGCwYiRX1VlV9ZGquqmqbqyql07HX11Vh6vq+unn+cvu84qqOlhVn6+qH53lbwAAADbbtlWcc2+S\nX+7u66rq0UmuraoPT7e9obtft/zkqjonyYVJnpjk8Un+e1V9f3fft5mDAwDArKy4ktzdd3T3ddPl\nbyS5OckZD3CXC5Jc2d3f6u4vJjmY5LzNGBYAAI6FNe1JrqqdSZ6cZP906Beq6jNV9daqOmU6dkaS\n25bd7fYcJaqram9VHaiqA0eOHFnz4AAAMCurjuSqelSSdyd5WXffneTNSb43yblJ7kjyG2t54u6+\nrLt3dfeu7du3r+WuAAAwU6uK5Kp6cJYC+e3d/Z4k6e47u/u+7v52kt/O322pOJzkrGV3P3M6BgAA\nC2E1n25RSS5PcnN3v37Z8dOXnfaTSW6YLl+d5MKqemhVPSHJ2Uk+uXkjAwDAbK3m0y2eluRnk3y2\nqq6fjr0yyUVVdW6STnJLkpckSXffWFVXJbkpS5+McalPtgAAYJGsGMnd/fEkdZSb3v8A93lNktds\nYC4AAJgb37gHAAADkQwAAAORDAAAA5EMAAADkQwAAAORDAAAA5EMAAADkQwAAAORDAAAA5EMAAAD\nkQwAAAORDAAAA5EMAAADkQwAAAORDAAAA5EMAACDbfMeAACYn337D63p/D27d8xoEtharCQDAMBA\nJAMAwEAkAwDAQCQDAMBAJAMAwEAkAwDAQCQDAMBAJAMAwEAkAwDAQCQDAMBAJAMAwEAkAwDAQCQD\nAMBAJAMAwEAkAwDAYNu8BwBga9q3/9Ca77Nn944ZTAJw7FlJBgCAgUgGAICBSAYAgIFIBgCAgUgG\nAICBSAYAgIFIBgCAgUgGAICBSAYAgIFIBgCAgUgGAICBSAYAgIFIBgCAgUgGAICBSAYAgIFIBgCA\ngUgGAICBSAYAgIFIBgCAgUgGAICBSAYAgIFIBgCAgUgGAIDBipFcVWdV1Ueq6qaqurGqXjod/+6q\n+nBV/dn06ynT8aqq36yqg1X1map6yqx/EwAAsJlWs5J8b5Jf7u5zkjw1yaVVdU6Slye5prvPTnLN\ndD1Jnpfk7Olnb5I3b/rUAAAwQytGcnff0d3XTZe/keTmJGckuSDJFdNpVyR5wXT5giRv6yWfSHJy\nVZ2+6ZMDAMCMrGlPclXtTPLkJPuTnNbdd0w3fSnJadPlM5Lctuxut0/HxsfaW1UHqurAkSNH1jg2\nAADMzqojuaoeleTdSV7W3Xcvv627O0mv5Ym7+7Lu3tXdu7Zv376WuwIAwEytKpKr6sFZCuS3d/d7\npsN33r+NYvr1run44SRnLbv7mdMxAABYCKv5dItKcnmSm7v79ctuujrJxdPli5O8b9nxF02fcvHU\nJF9fti0DAAC2vG2rOOdpSX42yWer6vrp2CuTvDbJVVV1SZJbk7xwuu39SZ6f5GCSv07y4k2dGAAA\nZmzFSO7ujyep73Dz+Uc5v5NcusG5AABgbnzjHgAADFaz3QIAIEmyb/+hNZ2/Z/eOGU0Cs2UlGQAA\nBiIZAAAGIhkAAAYiGQAABiIZAAAGIhkAAAYiGQAABiIZAAAGIhkAAAYiGQAABiIZAAAGIhkAAAYi\nGQAABiIZAAAGIhkAAAYiGQAABiIZAAAGIhkAAAYiGQAABiIZAAAGIhkAAAYiGQAABiIZAAAGIhkA\nAAYiGQAABiIZAAAGIhkAAAYiGQAABiIZAAAGIhkAAAYiGQAABtvmPQAA67Nv/6E1nb9n944ZTQJw\n/LGSDAAAA5EMAAADkQwAAAORDAAAA5EMAAADkQwAAAORDAAAA5EMAAADkQwAAAPfuAcAk7V+iyFw\n/LKSDAAAA5EMAAADkQwAAAORDAAAA5EMAAADkQwAAAORDAAAA5EMAAADkQwAAAORDAAAA5EMAAAD\nkQwAAIMVI7mq3lpVd1XVDcuOvbqqDlfV9dPP85fd9oqqOlhVn6+qH53V4AAAMCurWUn+nSTPPcrx\nN3T3udPP+5Okqs5JcmGSJ073+c9VddJmDQsAAMfCipHc3R9L8pVVPt4FSa7s7m919xeTHExy3gbm\nAwCAY24je5J/oao+M23HOGU6dkaS25adc/t07P9TVXur6kBVHThy5MgGxgAAgM213kh+c5LvTXJu\nkjuS/MZaH6C7L+vuXd29a/v27escAwAANt+6Irm77+zu+7r720l+O3+3peJwkrOWnXrmdAwAABbG\nuiK5qk5fdvUnk9z/yRdXJ7mwqh5aVU9IcnaST25sRAAAOLa2rXRCVb0jyTOSnFpVtyd5VZJnVNW5\nSTrJLUlekiTdfWNVXZXkpiT3Jrm0u++bzegAADAbK0Zyd190lMOXP8D5r0nymo0MBQAA8+Qb9wAA\nYCCSAQBgIJIBAGCw4p5kAI6NffsPzXsEACZWkgEAYCCSAQBgIJIBAGAgkgEAYOCNewBwHPEGUNgc\nVpIBAGAgkgEAYGC7BQCwpax1y8ie3TtmNAknMivJAAAwEMkAADCw3QIAjiGfPgGLwUoyAAAMrCQD\nsDCswgLHipVkAAAYiGQAABiIZAAAGIhkAAAYiGQAABiIZAAAGIhkAAAYiGQAABiIZAAAGIhkAAAY\niGQAABiIZAAAGIhkAAAYiGQAABiIZAAAGIhkAAAYiGQAABiIZAAAGIhkAAAYiGQAABiIZAAAGIhk\nAAAYiGQAABiIZAAAGIhkAAAYiGQAABiIZAAAGIhkAAAYiGQAABiIZAAAGIhkAAAYiGQAABiIZAAA\nGIhkAAAYiGQAABiIZAAAGIhkAAAYiGQAABiIZAAAGKwYyVX11qq6q6puWHbsu6vqw1X1Z9Ovp0zH\nq6p+s6oOVtVnquopsxweAABmYTUryb+T5LnDsZcnuaa7z05yzXQ9SZ6X5OzpZ2+SN2/OmAAAcOys\nGMnd/bEkXxkOX5DkiunyFUlesOz423rJJ5KcXFWnb9awAABwLGxb5/1O6+47pstfSnLadPmMJLct\nO+/26dgdGVTV3iytNmfHjh3rHAOArWTf/kPzHgFgU2z4jXvd3Ul6Hfe7rLt3dfeu7du3b3QMAADY\nNOuN5Dvv30Yx/XrXdPxwkrOWnXfmdAwAABbGeiP56iQXT5cvTvK+ZcdfNH3KxVOTfH3ZtgwAAFgI\nK+5Jrqp3JHlGklOr6vYkr0ry2iRXVdUlSW5N8sLp9PcneX6Sg0n+OsmLZzAzAADM1IqR3N0XfYeb\nzj/KuZ3k0o0OBQAA8+Qb9wAAYCCSAQBgIJIBAGAgkgEAYCCSAQBgIJIBAGAgkgEAYLDi5yQDAKzX\nvv2H5j0CrIuVZAAAGIhkAAAYiGQAABiIZAAAGIhkAAAY+HQLgFVYzzv09+zeMYNJADgWrCQDAMDA\nSjLACcLn1QKsnpVkAAAYiGQAABiIZAAAGIhkAAAYiGQAABiIZAAAGIhkAAAYiGQAABiIZAAAGIhk\nAAAYiGQAABiIZAAAGIhkAAAYiGQAABhsm/cAAADH0r79h9Z0/p7dO2Y0CVuZlWQAABiIZAAAGIhk\nAAAYiGQAABiIZAAAGIhkAAAYiGQAABiIZAAAGIhkAAAYiGQAABiIZAAAGIhkAAAYiGQAABiIZAAA\nGIhkAAAYiGQAABiIZAAAGIhkAAAYiGQAABiIZAAAGIhkAAAYiGQAABiIZAAAGGyb9wAAABuxb/+h\neY/AcchKMgAADDa0klxVtyT5RpL7ktzb3buq6ruTvDPJziS3JHlhd391Y2MCAMCxsxkryT/S3ed2\n967p+suTXNPdZye5ZroOAAALYxZ7ki9I8ozp8hVJ/keSX5nB8wD8X2vdk7hn944ZTQLA8WCjK8md\n5ENVdW1V7Z2Ondbdd0yXv5TktKPdsar2VtWBqjpw5MiRDY4BAACbZ6MryU/v7sNV9bgkH66qzy2/\nsbu7qvpod+zuy5JcliS7du066jkAADAPG1pJ7u7D0693JXlvkvOS3FlVpyfJ9OtdGx0SAACOpXVH\nclU9sqoeff/lJM9JckOSq5NcPJ12cZL3bXRIAAA4ljay3eK0JO+tqvsfZ193f6CqPpXkqqq6JMmt\nSV648TEBAODYWXckd/cXkjzpKMf/Msn5GxkK4HjgW8AAFpdv3AMAgIFIBgCAgUgGAICBSAYAgIFI\nBgCAgUgGAICBSAYAgIFIBgCAgUgGAIDBRr6WGmDV1vrtc3t275jRJEt8Gx4AD8RKMgAADEQyAAAM\nRDIAAAxEMgAADEQyAAAMRDIAAAx8BBwAwCbaah95yfpYSQYAgIFIBgCAgUgGAICBPcnAur6i2R46\nAI5nIhnYktYT7gCwWWy3AACAgUgGAICBSAYAgIFIBgCAgTfuAQA8AG8kPjFZSQYAgIFIBgCAgUgG\nAICBSAYAgIFIBgCAgUgGAICBSAYAgIFIBgCAgUgGAICBSAYAgIGvpYZNsNavLN2ze8eWevz18DWt\nABzPrCQDAMBAJAMAwEAkAwDAQCQDAMDAG/fgKLwpDQBObCIZAGDBbMVPPTre2G4BAAADkQwAAAOR\nDAAAA3uS2XT2SQEAi04kw3HIp3MALA7/zd6abLcAAICBlWQWju0cAMCsWUkGAICBlWSYA/vPAGBr\ns5IMAAADK8lbjP22AMBm0xdrJ5IX3LH4Z3v/jwIAnGhmFslV9dwkb0xyUpK3dPdrZ/Vcx5K/iW0+\n+3MBYGuZ9Z/Ni9BHM9mTXFUnJfmtJM9Lck6Si6rqnFk8FwAAbLZZrSSfl+Rgd38hSarqyiQXJLlp\nRs+3brP+m5JV0vnzfwMAYK1mFclnJLlt2fXbk+xefkJV7U2yd7p6T1V9fkazbGWnJvnyvIdYyT+f\n9wBHtxCv3RbltVs/r936ee02xuu3fl679ZvZazfntvie1Zw0tzfudfdlSS6b1/NvBVV1oLt3zXuO\nReS1Wz+v3fp57dbPa7cxXr/189qt34n+2s3qc5IPJzlr2fUzp2MAALDlzSqSP5Xk7Kp6QlU9JMmF\nSa6e0XMBAMCmmsl2i+6+t6p+IckHs/QRcG/t7htn8VwL7oTebrJBXrv189qtn9du/bx2G+P1Wz+v\n3fqd0K9ddfe8ZwAAgC1lVtstAABgYYlkAAAYiOQ5qKqzquojVXVTVd1YVS+d90yLoqoeVlWfrKo/\nnV67X533TIumqk6qqk9X1R/Me5ZFUlW3VNVnq+r6qjow73kWSVWdXFXvqqrPVdXNVfVD855pEVTV\nD0z/e7v/5+6qetm851oUVfWvpj8nbqiqd1TVw+Y906KoqpdOr9uNJ/L/5uxJnoOqOj3J6d19XVU9\nOsm1SV7Q3VvuGwm3mqqqJI/s7nuq6sFJPp7kpd39iTmPtjCq6peS7EryXd39Y/OeZ1FU1S1JdnW3\nLyVYo6q6Iskfd/dbpk88ekR3f23ecy2SqjopSx+luru7b533PFtdVZ2RpT8fzunub1bVVUne392/\nM9/Jtr6q+gdJrszStyf/TZIPJPmX3X1wroPNgZXkOejuO7r7uunyN5LcnKVvKWQFveSe6eqDpx9/\n01ulqjozyT9N8pZ5z8KJoaoek+SHk1yeJN39NwJ5Xc5P8ucCeU22JXl4VW1L8ogkfzHneRbFDybZ\n391/3d33Jvlokp+a80xzIZLnrKp2Jnlykv3znWRxTNsFrk9yV5IPd7fXbvX+U5J/k+Tb8x5kAXWS\nD1XVtVW1d97DLJAnJDmS5L9N23zeUlWPnPdQC+jCJO+Y9xCLorsPJ3ldkkNJ7kjy9e7+0HynWhg3\nJPnHVfXYqnpEkufn//2CuBOGSJ6jqnpUkncneVl33z3veRZFd9/X3edm6Zscz5v+aYgVVNWPJbmr\nu6+d9ywL6und/ZQkz0tyaVX98LwHWhDbkjwlyZu7+8lJ/irJy+c70mKZtqj8RJLfn/csi6KqTkly\nQZb+kvb4JI+sqp+Z71SLobtvTvLrST6Upa0W1ye5b65DzYlInpNpP+27k7y9u98z73kW0fRPth9J\n8tx5z7IgnpbkJ6a9tVcmeWZV/d58R1oc08pUuvuuJO/N0n49VnZ7ktuX/YvPu7IUzaze85Jc1913\nznuQBfKsJF/s7iPd/bdJ3pPkH815poXR3Zd39z/s7h9O8tUk/2veM82DSJ6D6c1nlye5ubtfP+95\nFklVba+qk6fLD0/y7CSfm+9Ui6G7X9HdZ3b3ziz90+0fdbeVlVWoqkdOb7LNtFXgOVn6J0lW0N1f\nSnJbVf3AdOj8JN6kvDYXxVaLtTqU5KlV9Yjpz9zzs/T+H1ahqh43/bojS/uR9813ovmYyddSs6Kn\nJfnZJJ+d9tYmySu7+/1znGlRnJ7kiumd3g9KclV3+ygzZu20JO9d+rM225Ls6+4PzHekhfKLSd4+\nbRv4QpIXz3mehTH9pezZSV4y71kWSXfvr6p3Jbkuyb1JPp0T/CuW1+jdVfXYJH+b5NIT9c22PgIO\nAAAGtlsAAMBAJAMAwEAkAwDAQCQDAMBAJAMAwEAkAwDAQCQDrENV3VhVz9iEx3n1/d98WFU7q6qr\nymfYA8yZ/xADrEN3P3HeMwAwO1aSAXhAVraBE5FIBliHqrqlqp41bZf4/ar6var6RlV9tqq+v6pe\nUVV3VdVtVfWcZfd7QlV9dDr3w0lOPcrD/3xV/UVV3VFV/3oVs5xXVQeq6u6qurOqXr/stqdX1Z9U\n1demWX5uOv6YqnpbVR2pqlur6t9W1YOm236uqv5nVb2hqv4yyaun4z9fVTdX1Ver6oNV9T0behEB\ntjCRDLBxP57kd5OckuTTST6Ypf++npHk15L812Xn7ktybZbi+N8nufgoj/cjSc5O8pwkv1JVz1rh\n+d+Y5I3d/V1JvjfJVUkyRewfJnlTku1Jzk1y/XSfNyV5TJK/l+SfJHlRkhcve8zdSb6Q5LQkr6mq\nC5K8MslPTY/1x0nescJcAAurunveMwAsnKq6Jcm/SPL0JE/r7mdPx388S/H4mO6+r6oeneTuLAX0\nd2UpPB/T3X81nb8vybe7+2eqameSLyb5we7+3HT7f0zy2O6+5AFm+ViSjyR5U3d/ednxVyQ5r7t/\ncjj/pCTfTHJud980HXtJkou6+xnTavOvdfeOZff5wyTv6u7Lp+sPSnLPNOuta339ALY6K8kAG3fn\nssvfTPLl7r5v2fUkeVSSxyf56v2BPDlaYN423P74FZ7/kiTfn+RzVfWpqvqx6fhZSf78KOefmuTB\nw3PfmqWV76PNkCTfk+SN07aNryX5SpIa7gNw3BDJAMfOHUlOqapHLju24yjnnTXc/hcP9KDd/Wfd\nfVGSxyX59STvmp7jtixtvxh9OcnfZil8lz/P4eUPO9zntiQv6e6Tl/08vLv/5IFmA1hUIhngGJm2\nJRxI8qtV9ZCqenqW9jOP/l1VPaKqnpilfcLvfKDHraqfqart3f3tJF+bDn87yduTPKuqXlhV26rq\nsVV17rTKfVWW9ho/etq7/EtJfu8Bnua/JHnFNNP9b/z76dX/7gEWi0gGOLb2ZOlNcV9J8qokbzvK\nOR9NcjDJNUle190fWuExn5vkxqq6J0tv4ruwu7/Z3YeSPD/JL0/Pd32SJ033+cUkf5WlPdIfz9Ib\nCt/6nZ6gu9+bpVXqK6vq7iQ3JHneir9bgAXljXsAADCwkgwAAAORDLAAquoPq+qeo/y8ct6zARyP\nbLcAAICBlWQAABiIZAAAGIhkAAAYiGQAABj8H7hdldaKXgO8AAAAAElFTkSuQmCC\n",
      "text/plain": [
       "<Figure size 864x576 with 1 Axes>"
      ]
     },
     "metadata": {},
     "output_type": "display_data"
    }
   ],
   "source": [
    "plt.figure(figsize=(12,8))\n",
    "sns.distplot(num_data.imdb_score.values, bins=50, kde=False)\n",
    "plt.xlabel('imdb_score', fontsize=12)\n",
    "plt.show()"
   ]
  },
  {
   "cell_type": "code",
   "execution_count": 19,
   "metadata": {},
   "outputs": [
    {
     "data": {
      "text/plain": [
       "5.0"
      ]
     },
     "execution_count": 19,
     "metadata": {},
     "output_type": "execute_result"
    }
   ],
   "source": [
    "np.floor((num_data.shape[1]/3))"
   ]
  },
  {
   "cell_type": "code",
   "execution_count": 20,
   "metadata": {
    "collapsed": true
   },
   "outputs": [],
   "source": [
    "def scatter_with_IMDB(num_data):\n",
    "    sns.set(style=\"ticks\")\n",
    "    \n",
    "    fig, ax = plt.subplots(figsize=(20,20), ncols=3, nrows= (num_data.shape[1]/3 + 1))\n",
    "    col = 0\n",
    "    row = 0\n",
    "    for feat in num_data.columns.tolist():\n",
    "        ax[row,col].set(ylabel='IMDB Score', xlabel=feat)\n",
    "        ax[row,col].scatter(x=num_data[feat], y=num_data['imdb_score'], color=\"b\")\n",
    "        col = col + 1\n",
    "        if (col == 3):\n",
    "            col = 0\n",
    "            row = row + 1\n",
    "        "
   ]
  },
  {
   "cell_type": "code",
   "execution_count": 21,
   "metadata": {
    "collapsed": true
   },
   "outputs": [],
   "source": [
    "#scatter_with_IMDB(num_data)"
   ]
  },
  {
   "cell_type": "code",
   "execution_count": 22,
   "metadata": {},
   "outputs": [
    {
     "data": {
      "text/plain": [
       "<matplotlib.axes._subplots.AxesSubplot at 0x7fd44398fcc0>"
      ]
     },
     "execution_count": 22,
     "metadata": {},
     "output_type": "execute_result"
    },
    {
     "data": {
      "image/png": "iVBORw0KGgoAAAANSUhEUgAABJYAAAJCCAYAAACS6E1wAAAABHNCSVQICAgIfAhkiAAAAAlwSFlz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\n",
      "text/plain": [
       "<Figure size 1440x720 with 6 Axes>"
      ]
     },
     "metadata": {},
     "output_type": "display_data"
    }
   ],
   "source": [
    "fig, ax = plt.subplots(figsize=(20,10), ncols=2, nrows=3)\n",
    "sns.set_style(\"whitegrid\")\n",
    "#sns.boxplot(x=\"imdb_score\", data=num_data,orient = 'v',ax = ax[0][0])\n",
    "sns.boxplot(x=\"num_critic_for_reviews\", data=num_data,orient = 'v',ax = ax[0][0])\n",
    "sns.boxplot(x=\"duration\", data=num_data,orient = 'v',ax = ax[0][1])\n",
    "#sns.boxplot(x=\"director_facebook_likes\", data=num_data,orient = 'v',ax = ax[1][0])\n",
    "sns.boxplot(x=\"gross\", data=num_data,orient = 'v',ax = ax[1][0])\n",
    "sns.boxplot(x=\"num_voted_users\", data=num_data,orient = 'v',ax = ax[1][1])\n",
    "#sns.boxplot(x=\"num_user_for_reviews\", data=num_data,orient = 'v',ax = ax[2][0])\n",
    "#sns.boxplot(x=\"title_year\", data=num_data,orient = 'v',ax = ax[2][1])\n",
    "sns.boxplot(x=\"movie_facebook_likes\", data=num_data,orient = 'v',ax = ax[2][1])\n"
   ]
  },
  {
   "cell_type": "markdown",
   "metadata": {},
   "source": [
    "# Outliers"
   ]
  },
  {
   "cell_type": "code",
   "execution_count": 23,
   "metadata": {
    "collapsed": true
   },
   "outputs": [],
   "source": [
    "import numpy as np\n",
    "\n",
    "def outliers_iqr(ys):\n",
    "    quartile_1, quartile_3 = np.percentile(ys, [25, 75])\n",
    "    iqr = quartile_3 - quartile_1\n",
    "    lower_bound = quartile_1 - (iqr * 1.5)\n",
    "    upper_bound = quartile_3 + (iqr * 1.5)\n",
    "    return np.where((ys > upper_bound) | (ys < lower_bound))"
   ]
  },
  {
   "cell_type": "code",
   "execution_count": 24,
   "metadata": {
    "collapsed": true
   },
   "outputs": [],
   "source": [
    "test = outliers_iqr(num_data['imdb_score'])"
   ]
  },
  {
   "cell_type": "code",
   "execution_count": 25,
   "metadata": {
    "collapsed": true
   },
   "outputs": [],
   "source": [
    "test = list(test)"
   ]
  },
  {
   "cell_type": "code",
   "execution_count": 26,
   "metadata": {
    "collapsed": true
   },
   "outputs": [],
   "source": [
    "num_data.drop(num_data.index[test],inplace = True)\n",
    "cat_data.drop(cat_data.index[test],inplace = True)"
   ]
  },
  {
   "cell_type": "code",
   "execution_count": 27,
   "metadata": {
    "collapsed": true
   },
   "outputs": [],
   "source": [
    "a = num_data[(num_data.num_voted_users < 10000)].index"
   ]
  },
  {
   "cell_type": "code",
   "execution_count": 28,
   "metadata": {
    "collapsed": true
   },
   "outputs": [],
   "source": [
    "num_data.drop(a,inplace = True)\n",
    "cat_data.drop(a,inplace = True)"
   ]
  },
  {
   "cell_type": "code",
   "execution_count": 29,
   "metadata": {},
   "outputs": [
    {
     "data": {
      "text/plain": [
       "(3167, 15)"
      ]
     },
     "execution_count": 29,
     "metadata": {},
     "output_type": "execute_result"
    }
   ],
   "source": [
    "num_data.shape"
   ]
  },
  {
   "cell_type": "code",
   "execution_count": 30,
   "metadata": {
    "collapsed": true
   },
   "outputs": [],
   "source": [
    "#scatter_with_IMDB(num_data)"
   ]
  },
  {
   "cell_type": "code",
   "execution_count": 31,
   "metadata": {},
   "outputs": [
    {
     "data": {
      "text/plain": [
       "<matplotlib.collections.PathCollection at 0x7fd443813780>"
      ]
     },
     "execution_count": 31,
     "metadata": {},
     "output_type": "execute_result"
    },
    {
     "data": {
      "image/png": "iVBORw0KGgoAAAANSUhEUgAAAW4AAAEJCAYAAAC0U81tAAAABHNCSVQICAgIfAhkiAAAAAlwSFlz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\nAGAYghsADPP/8Gc0aqnpL3UAAAAASUVORK5CYII=\n",
      "text/plain": [
       "<Figure size 432x288 with 1 Axes>"
      ]
     },
     "metadata": {},
     "output_type": "display_data"
    }
   ],
   "source": [
    "plt.scatter(  num_data['budget'] , num_data['imdb_score']  )"
   ]
  },
  {
   "cell_type": "code",
   "execution_count": 32,
   "metadata": {},
   "outputs": [
    {
     "data": {
      "image/png": "iVBORw0KGgoAAAANSUhEUgAAAXwAAAELCAYAAADawD2zAAAABHNCSVQICAgIfAhkiAAAAAlwSFlz\nAAALEgAACxIB0t1+/AAAADl0RVh0U29mdHdhcmUAbWF0cGxvdGxpYiB2ZXJzaW9uIDMuMC4yLCBo\ndHRwOi8vbWF0cGxvdGxpYi5vcmcvOIA7rQAAIABJREFUeJztnXt4FdW5/7+TnZ1kJ1xCMEIJ8ZJY\nIdIY4g0EW0sUUEIgcqlFUSteejw9IIrxBxUrtlQ4pvVY6+mptXqEg6WCYlARoRo89kBCrSQQMGBr\nwEC4CgRCrjs76/dHnM3svWfNrJk9s6/v53l4HrL3zFrvXPJm5rve9V0SY4yBIAiCiHkSwh0AQRAE\nERoo4RMEQcQJlPAJgiDiBEr4BEEQcQIlfIIgiDiBEj5BEEScQAmfIAgiTqCETxAEESdQwicIgogT\nEsMdgJLa2lokJycLbdvZ2Sm8bSihuIxBcRkjEuOKxJiA+Imrs7MTI0eOFNo2ohJ+cnIy8vLyhLat\nr68X3jaUUFzGoLiMEYlxRWJMQPzEVV9fL7wtSToEQRBxAiV8giCIOIESPkEQRJxACZ8gCCJOoIRP\nEAQRJ9ia8FesWIHJkyejuLgYr732mp1dEQRBEDrYVpb5xRdfYO3atVi7di2cTifuv/9+jBs3Dhdf\nfLFdXcYEFTVNKN+0D4eb2zEk3YWyicNQWpgV7rAIwhbofg8ttj3hf/nll7jyyivhcrmQmJiIa6+9\nFps3b7aru5igoqYJi9bVoam5HQxAU3M7Fq2rQ0VNU7hDIwjLofs99NiW8C+//HJ89tlnOH36NNrb\n2/HJJ5/g6NGjdnUXE5Rv2od2t8fns3a3B+Wb9oUpIoKwD7rfQ49k5yLma9euxerVq+FyuXDZZZch\nKSkJTzzxBHd7I9YKHR0dSElJsSpUywgmrkkrGqB2MSQA79+TE7a47ITiMkYkxmU2Jjvv92Dishs7\n4hKduWurtcLMmTMxc+ZMAMBzzz2HQYMGaW4f79YKQ9KPoKm5XeVzV0CbSu2zv8sJSQKa29xcHVQZ\nVyTppnrnK1yxxuL9ZRdmYzJyv4cyLruJWWuFkydPAgAOHz6MzZs3o6SkxM7uop6yicPgcjp8PnM5\nHSibOMznM3/ts7ndjdNtbiEdNJp002iKlTCO6P1OWIetT/hz585Fc3MzEhMT8dRTT6Ffv352dhf1\nyE+uek+0atqnElkHVXsS1tJNI606IppiJYwjer8T1mFrwv/Tn/5kZ/MxSWlhlu4Nf1jlNVh0G6Of\nh5NoipUwh8j9TlhHRNkjE2Ka9ZB0l6r26b8N73O1fRMkCZcu3BCSpyzlMWamJeKnk/uhtDAr4Nj7\nu5xobnerHgMR/UTSWFK8QNYKEYSoZq2mfSrR0kF5+3oYC4lO7n+Mx1u7sWhdHRZX1AUce2tXN5wJ\nks/+pPHGBjQ+Ex4o4UcQonXJpYVZWDYtH1npLkgA0l1ODEh1QgKQle7Csmn53Ccl/30dkhSwjZ21\n0LxjXL39YMDnbg9Dn5REb6x6x0ZED1SDHx5I0okgjGjWwWifyn0vXbjBUCzBwmvXw5kO0tzmRs3P\nJtgSCxE+aHwmPFDCjyC09PWKmibhBK+mjQ5LUf8+QZJUk60VOrl/HOOGZ3L7c9gYBxF58O51ut72\nQpJOBDFueKbq5x7GhPVNnjZa2dCi+r1akrVCJ1eLY1V1I7e/0TkDVNvhnRMiuqEa/PBACT+C2LL3\nBPc7UX2Tp42u2HGa+z3Q+4RtpU6uN1dAJkEClk3Lx4GT6q/yWueEiF78x5JofCY0kKQTQejpl8HU\n359o7db8vocx7F9erNu+KKJaLGO9v/yPvFEbVDtE9EE1+KGHnvBDQEVNE8Yur8SlCzdg7PJKrjSj\np18yALmL3sfiijpuHzwnvMy0RO0+JGjaMYjEr0RUi9WLizRdwgrM3MOxCCV8mzFSb6xXXw/0au6r\nqht9kr6yDzVcTgfuuWqAtw+nI7AUkzGgbO3OgLjM1kuLHIt/XKTpEnZANf/noYRvM0bqjZW6JqBe\nIy+zevtBzT5kZG20KKevt4+0JHUlz93DAuIyWy+tptHOHn1RgGarjIs0XcIOqOb/PKTh24zRemN/\nXfMSTp28stqF15YEYOvCIgBAff1Z7+dnVOwKeG0FUy8totEq4yJNl7ADqvk/T1wm/FB6eKSnOnG6\nzbwfDK8+Xfn0z6tpljV/D2O48BvPGj2GpLuE6/Qraprw9Lt7vMeX7nJicsG3sGXviYBza+U5V6vv\nV+vTbHv+8xaiFfKq6cWOmn+rzm2or5FjyZIlS2xr3SBff/01MjPF6q6NbKtE1vNOtXUBAFo6uvG/\nX5zA0AEuDP9W8PbNyrgqapqwYdcR9PjlS6dDwpIpI4T6O3GuA7sOnQn4/M7RF6FoeO+CMgPTkvCX\n+mNQm6wqf9Tq7sFHe4/hg7qj3IFdZ4KEyQXfwm8r/+k9P2rbupwOTLpyMP7jwy/Q2nX+Vbmjuwe7\nDp1BS0dvRZB8bo+ebfdpU3nOL0jsNHQd1a6fWp+i15N3P2SmOXDd5ZGXHEXve7vvczMxhRo5roFp\nSfjfL06gW/GL6HI68LOSK0ydi2DPrRyXVdfIyPmPOw0/lHpe+aZ9cPtnewBpSYnCf8WXluZj9uiL\nvE/0DknC7NEXYWlpvneb0sIs9Kj044/bw9DD+U6SgPKZBdiy94RQnf6WvSfg9uj3yfPJMXvORer7\njbStN28hWiHd+jxWjw9ZdW7DcY3iTtKxWs/zfyW7I78P8vJ6P+dVzZxpdxt6lVtamu+T4AFgcUUd\nXt/eqPpUbwqdengPY0h3OdHW1Y1H3qjlviXw9lXjcHM7KhtacP/6SuFXWtHrpGcfrdeePG/Bn2iR\nSUi39sXK8SGrzm04rlHcPeFbWe+tVu71wravvVa/PNJTnUGViS2uqMOqaguTPc4ff3+Xk7uNcilF\nI/Cqjfq7nHhh29eGzoPodZLAn1cg0p48P0BJNJX30bwG+7Dq3IbjGsVdwrey3lvtlazTw1QlDGVf\njCGoVzllSaYVOB2S9/g1KkFN4XI6MGtUtuo5l6Te86VE7zyI1PcDvWMPIueTdz/I8wOURJNMQvMa\n7MOqcxuOaxR3Cd9KPc+o1S/Q6xvDK4sUfZXTal+EdMVT/IBUJ8pnFHiPv1mloshIu2q19ktL81XP\nOa8vrfOgdv14iJaOqsUmzw8QaS8SZRKa12AfVp3bcFyjuNPwAV89T9ZkH3mj1rAmyyv34pVSAr1P\nibyl+/q7nF65Rsm3L0xDW1cPmprbNSdjiZCV7vLW5qshsnyiEockoYcxbnkkAIxdfl6j/4/bR/os\nXm2mXM7/+i1YszMoa2U1fbe+/qwlSy6KaP7Kbfq7nJCk3j+8kTxGEO9YNSYQ6rkncVeWqSTYsii1\ncq9kh4Tbr8vGP46d8/lcpqWjG53d6rUyclmjP6da3d6yw2Ce7UVK0dSOSQt5K7XyyI/qj+Ev9ce8\nSdL//A5MS8KWvcegVHWMlMvJ16/LE3g+gym7A4A1f9uPZX/5yufe6PL0qJ7/qSOHeEtk1eLTur/8\nt+no7kGHu4e7PZVlihMvcVFZpiDBarJqr2TzxlzgI2GoYeFYqzCyDbHe04T/MQ1IdSLd5QxYSlHk\nTcPdwwJKN5Xnt7QwC/PGXGD6lVbL6jnYV+MVO04HtM37G8izcBa5v/TKTK0sX43U8QYidMSlpCNj\nhSbr/0pWX1/v8/mlCzeEJcH7I9sQiyDymslbGlEE5fktyumLnxRfF3Q7SnoYC/o1mVeWaSQOkc+D\nsby2MiYiPojrhB+KZdZ4um+o6ZucgLHLK73jAB7GkKVifcD7fnFFHVZvPwgPY3BIElzOBLS5edO4\ntElNcuCKJzd695ekBtw5qncymZE6d73rF0zNfJ8kCS1dYn+qtcrr9O4vkTET0TECpf5v59KVenHQ\n2EPkEtcJv2ziMCxaV+fz6mtlWVRFTRNau8SfFO3C6ZDQ2tWDs529iUVOBHId+d+/OoW3Pmvyngf/\n79f+vRFbvzzlbc/DGNrc5t9blHYMQO/bx6rqRuw/cQ47Gs9445D7B9TfTrSun6xhi7alpKKmCe3d\ngceXAMDhkHxkKq37ReT+UttGiVb7/seofLCwa+lKNSobWvBi9VemzjURWuJaw7e7LKp80z4h+wEl\nojU4Srth4LymrmZDnJaUCF4YPOsD5ffKZG8nW788ZUh31rp+wWjY5Zv2QW1cvf83Jayi94vI/eW/\njXKcRK99EZsJq5euVENtvIPGCyKTuH7CB+wtizKjlzIAB75ZapCn/yttj0XQ09uDreu3G726fLXr\nF4yGzdumuc1t+H4R2d7sPShyLFYvXakGb7yDxgsij7hP+Ga0R/99LhnoQlXDKW8Vh8t5AMumXWm4\npl2G54Evo6bDqlkVL5kyAqWFWREzjmCW9FSnTy2/Xi37kHQX15aaARj59GbvuVHuK49f8P78mdG/\n/cc+Zo3K9vFFUrv/AHCvpX88evdXgiTh0oUbVM+b2n1c3XDaG+vonAE4cLJd9bwr95UkqNp8mLUr\nsWIsYHFFHf60vRE9rEH1vNvdf6RCdfgGa5XV9jl4ut0nSXT3MGzecxRTRg5B/ZGz3HI+s1yZ1Q/T\nr872ianszZ0BVsUf1R/D8ZYO1Bxs1o0hQQpPuageToeEru4ebi0/oH5NPB4GR4KketzyubkoIxV7\nj7b47Ms7B2bq+r2eR9/8zADsOnQGX5/rRNHwQapxf7T3GD7YfRTtigFxZbxKO2mRORPKeRLK86Z3\nHzMAB0+3q9pOi5wzM+fLqrkDeufd7v71oDr8MGFG5xXRTQGgB7312bzlBIOhusHXupc3VuDu6fX1\nERlHYNC2KeBhdOavbO+c6tS/9eTxB3+LaZFadncPQ1pSIjc+eTlHketpVv/meR7Jn6vG7WGqf6TU\nlp/U0v/Vjlt53kTvY7X9teY/BDNeYNXcAb3zbnf/kYytks5rr72GtWvXQpIkXH755Vi2bBmSk5Pt\n7NIQZnReI7qkXRqmv+au1Y+oPs9Y77iA0XkDPYxBgvjbQQ9jPnbPeuMUvPEHkVp2raUctfZTi8MM\nvHMvf26FnS5P/9c7b2bvTa39gh0vsGrugN55t7v/SMa2hH/s2DGsXLkS77//PlJSUvDwww9jw4YN\nmDZtmuV9mdXdeBqorBmr1aQb0eX7u5xIS040pePrMXZ5pde7xiopRm/sQI0UZwK6upnwHxZljfxP\n1+3ixi5rzyL15LxrwttX9HsAcH3zJmLmHtNbntLoXAbe2I1aXLxz4nImoPDnm03fM3IMdsxf0Zq3\nYOT8iywLarT/WMFWScfj8aCjowPd3d3o6OjAhRdeaHkfwXiUq9mTOh0SznV0ey+8f036uOGZcCaI\nyRgtnd24ZKA9N0tTcztWVTfa8sfECO3uHkNVPuOG9y7t9uiaWs1k52EMDGL15DzLZL24ROJuc/fg\nzperTN1js0Zlcz9fXFFnKNk7E6SAGnqte79s4jA4HYH3aZu7R3UwW4QE9J5ru2x9ee2OG55p6Pxr\nnXcz/ceSpbRtg7Z9+vRBQkICHnroIaxcuRKXXXYZHnjgAc19zAza3rfi795BFpnuHoa6pjO474ZL\nNdsY/q1+GDrAhbqmMzjX0e3VsNs42mZ3D8PJc12QJHgNrrRgDDjc3BGRg6Hh4uS5Lmz78iTOdhib\nkKacZ/Czkit8nu78r6NWpQ1g3PP/4On2gIFRkXusaPggfH2uE3uazoJ9cwx3frM85QMrPhO+L9Jd\nTjzzjSau/B3RuvfLZxbg1f/bjw6OUZ8/DknCmNwMzftVkoD/mn11wPm+MC0RT08NvsZf7ffxZyVX\n4PXtjYZ+x+XzvrvpTMB5N9O/1VU64Ry0lRizpwj7zJkzmDt3Lp5//nn07dsXDz/8MCZOnIipU6dy\n96mtrRXW+Ds6OpCSkoJJKxq4GvD79+QYjpvXnrJdIDQVLWb6CmV8ZjAbn5HrqXdP6F1jO2Ly59YV\nDabal+97wNrjVPalFdtGleNVxmQHZn/H7Y7LLHbElZeXJ7SdbRr+tm3bMHToUGRkZAAAJkyYgJqa\nGs2En5ycLBx4fX098vLyMCT9CFd3E20L6H09fuLtOt1fkFAmUjN9pac6cba9O2InUwWjHatdTzVt\nl6fFMgD3rz/CrdG3Myb/p0SHtF/3GjH0Jl+lp1F9fT32dfRD+aZ9mvMF9nX0ExqjUDsWrdgmrWgI\nWPsgMy0RP538Hdvq1c3+jss5Qo1w1ttrxWW2PVFs0/CHDBmCnTt3or29HYwxVFVVITc31/J+rNDd\nKmqasGDtzgCPl1DhSJCExwX0ONPmjthkHwypSYG3Kk/DHjc8k7sMYlNzu271jghqmrpWTP56s56e\nrETZRmVDi7d9NZSat+h94H8sWrHJxySPHzEAx1u7bV3b12ptPZrWJrYa2xJ+QUEBJk6ciNtuuw0l\nJSXo6enB7bffbnk/VvjhlG/aB4/Vs6MM0Dc5EeUzC4S2lbVsXsWBOf9K4/X0MqnOhKBX4RLhH8db\nAz7j1U1v2XtCcz0CKy51n5RE1XtMtJZ7aWk+Zo++yHvu9E6h3Iaab42MfO9v2XuCWyc/e/RFGJB6\nfonLdJcT5TMLfI7FPzYR7KxXt9rzKh7q7XnYWoc/b948zJs3z84uAATvh6NXZ2ukztwMZ9p7PVrm\nv1GrG8eXyyYBMOZHL6Kb95h8K2g3aZFsBVp103avR2B0PV61z5XzEQD+nAS9tgHf+QKPcO4j/zkQ\nWojMlTASX7BY6XkVD/X2PGLaS0dUp9Orrbf72Z9BrAZedDu1/fRITXKYkrQSE4BQ5fxhizeiq7vH\nW3nBi1npvWPm2mmtSSwjzxPo73LC7enxxiFxng5Earn17kMtTZ6hd26G1hhGgiShoqZJKHEqf3dE\nxwJCUa9uhfZupN7f319I1JMnUolZawUjOl3ZxGFwWKShRytmxy9C+YDf2X1+TVkPY2jt8gRcN+U8\nCjPJ3uV0YNaobCTq/GbI8wSa290+504tL4rqzWUTh2mO5eglXb0xDA9jQlq1/++OSLIPRb26Vdq7\nkXr/rV+e8h6/hzGsqm7E4oo6i44o9MRswjei05UWZuHXgho6EVn09LAA739/7x09lDX+y6b1ShmP\njM300bolv21F2jSqN5cWZqFPSnAv3coxDD0/HR5GfXZE10sOFqu0d96YAG/swx89T55IJmYlHaM6\nnYiGrkek18DHIgy+Xjdm1tqVx0WU8NbaFW3frK8Mb2zACPIYBk/L19OqjWrZRtZLDgYrtXe1MQHe\n+fInmqvgYi7hyxqcVo2y0v9cxqpKk2QH0BGe6s64RHnd7ny5yvAfWyPXvaKmSVjP9h9vSVesNxvM\neJJ/7Fo+Q2bX/DW6jkNmmrVpxGhcVo0diB53KKrS7CKmJB2lxqeGv06nxIq/2gyU7EONXDN+58tV\nppZiHJ0zQGg7+d4ye580t7txus2tqz2Lei/JYw1a9ela9et6PjwBHlMJkuo4lzNBwj1XiZ1DEYzG\nZeXYAc+TyR8jcygijZhK+Frao1Gdjoh8Ziv8UbSSvdYD2YGTYk+yvHtLgvg6xEp42rP/WgdqKMca\ntOrTza75q7Zf+cwC/HpmgWoNf1FOXxNnQB2jcVk5dqDW/tjcDJ+5L7MFPHkimZiSdHhankiNMhFd\nSIDwL97+ZcXcWnJR/deOGm21NvXeIPz9+fXq082u+cvbT+2z+vqzmjEbwWxcVmF3++EmphK+iMYX\n7eu7Er0Y0W21tHfemq8vVp/AByt7PWW03hC0/OH1UGrpS97ZI3RfKuvt1daX9fe54Y0XRKr3e6TG\nFSvElKSjp/FV1DShtcuYLS8ReTgdvt4vvQmdv33Zmzs1V0Hy14oXV9Rhw74W7z6M8Suvxg3PFNZ+\n1fatqGlC2dqdhh5ClLGqad5KnxveeEGker9HalyxQkw94ctPMbyZeLy1X4nIIE1gtq8kAeUzfL1f\nyjft0/THEb3mslZ89EyH0PZA77rFsrQk33cpzgQhy4kte09gy94ThucNKGOV/y+yrfKc6f2uhItI\njStWiKmED2hrcPHglRHN7Pn5Lfq+LSo131ZeV6N2DDxtWcR/Jti4g11fOVL16kiNKxaIuYSvxF/b\nFH3yIsLDJQs3CFW8+PvBWHldEyQJPWCqFglqpCuqVoz6zwSj/wPGJvhFkgZulRd9OD3to5WYTfiy\ntim/7oZ77VdCDJEFaMrW7gTQ+yS4uKLO0j/iRuvsz3V0e/Vx5f2mvzi6ol5+7U5NWcfpkAAGU9KP\nf1/hRu33ctG6Xm8aI8naqnbijZgatFVi1A+EiB7cPcyrX4fb10SOhXe/yZ46A1KdvbNt4Vs/XlqY\nhfKZBUh3nX9TSEty+GxbPqMA5TMLvPXhRrC6Vj1YrPLDiWdP+2CI2Sd80utjG/n6RoKvida9JuKp\nI6pZy0sciqyHCwTW7EcCVvnhxLOnfTDEZMI34nlCRCeyt7uId71V8PrSutf8tXMrdGfRY+7vcqLw\n55u96/emu5xYMmWET39G4rHbiz4c7cQbMSfpBOt5QkQHsre7qBeOERKAAD98nneNHAuPccMzvf+3\nys9dxMvFmSChpbPbZ7H25nY3ytbu9PZnJB67veiNjjFQvb45Yi7hk3bfS5LDPkc/ZwI0JzpZhd56\nr+1uDw6cbDe8/qoe/VOdeGRsZoBni793jUifW/ae8P7fKt1ZXnOWh0OS0CclUXWdZuX4h5F47Pai\nN/qmYLevTqwSc5IOaXi9uD0MB5bzPWSCobsHXl3arjVjgV79+4BOP4eb273rr1oVS3Obm+uHr9Tb\nRbzxlfejlbrz0tJ8vF7dqHq8PYxp+urL/RmJx24vejNQvb5xYi7h87xy7F6IPNIwu/5tuNs22g8D\nkLvofcwalY30VKePhGGWBElCZUML8vJ6pYyn393j0+6AVCeeKhkh5J8ustasUndWW6sBAMbmZuD1\nB64P2E+rPV5ssn8Qb+xBTQcPh2ZuxiOI0CamJJ2Kmia0dKp75cRTso835LVGrUj2cnsvbPsaiyvq\nUPbmzoB2T7e5UfbmTu7asf5orTXr7/XEW89h65encOfLVT6faenYWus0y/5Basmep4OHWjM36xFE\naBNTCb980z5V3ZIgjNLpYVi9/SDXh8ftYd61Y2UdOd3l9PGLV6Jca5anO+uNP/l7/mvp2KWFWeib\nLPYCL7L+bqg1c5GxOKq7N05MSTrB6PfxJvkQ+uhVeslrx/onPa3xBqu9nrTaOyPowCm6/m4oNfNw\nrlMQy8TUE34weiIle8Iosj7vLyv4l3TK6N2fVuvhou1Z0W9FTRPGLq/EpQs3qJ4To4QydsD6+COV\nmEr4ZROH9fqOEESI8NeS73y5CjxrHz29W+/+HZubYSg2EZ9+K3T4yoYWS2r0lYQqdsC6OQbRQEwl\n/NLCLJTPKODqqARhB0otWWttXT05pLQwC2lJ6iqrMwEBVTp6qOnus0dfZLkOv2LHact9bUIVOxBf\nvjwxpeED5nzJicghWsdSrNKSebp7t0lD0FDo7ida1Svjgj0noRoziCdfHt2E397ejldffRVHjhzB\n0qVLceDAAezfvx/jxo0LRXxBI1IrTUQO0eqBJDJnYHFFHZaW5mt60vDmkZjVqpV99Xc5IUm9E8us\nrGPPTEvEcZWkHy2+NvHky6Mr6SxatAhJSUmora0FAAwaNAjPP/+87YFZhdn1RonwEKpk73RIIdcz\nV1U34s6Xq7h6MW/NZWeCZEqr9temm9vdON3mtlynvueqAVHtaxNPvjy693xjYyMeeOABJCb2vgy4\nXC6wKHoCU2qBRHyjrDcvn1GA524f6eNDHwq2fnmKqxfz1lzuk5Jo6klcr5bdKp26KKdvVPvaxJMv\nj66kk5SUhI6ODkjfGEU1NjYiKSlJt+GGhgY88sgj3p8PHjyIefPm4Uc/+pH5aE0ia4Gk58cOci2L\nkeupVm8eKfeFll6s5Ytjtk0j24gQ7b420R6/KLoJf+7cubj//vtx5MgRLFiwADU1NVi2bJluwzk5\nOVi/fj0AwOPx4Hvf+x7Gjx8ffMQc1HRRAF5fEockhf2XmrAOM9dS9tAvLcxCRU0TfrpuF9oiZI1j\nLf+b/hpvIVrjASLjVzydWsT73nebI0JjAnr+ONHqlxMt6+tqJnzGGHJycvDb3/4WO3fuBGMMTzzx\nBDIyjNUDV1VVITs7G1lZ9pwAtfUty97c6bMOaDQOBBLWInvo//2rU/jT9kbY6cKRIEG4fb31bVu7\nugMWbgf013UdNzwTq6obhfo10q7oNiLtKuNT+zka1qmNpvV1NTV8SZLw4IMPYsCAAfj+97+PcePG\nGU72ALBhwwZMnjzZdJB6qGmVbg8zvegzEbu0uz1Yvf2g4WQvW9+L2O5npbvw3A9GwuXUHxb297/p\nkxL4DOb2MFMe9Uovfq1+jbYruo1Iu3pEQz18NNXx60o6V1xxBXbt2oUrr7zSVAddXV2orKzEggUL\ndLft7OxEfX29ULsdHR2or69HZUMLlV1GMeGouzf6ticBeOyGTKzYcZpbcy5v9/49Od/8dBbtOnKR\nBOCPU78F4Czq688C4Ov1h5vbUV9fj46ODvznhr9hxY7TqqWQ8rb/ueFv3N8LtX7999eKQXQb0Xb1\nkNusbGjxXoPMtETcc9UAFOX05e4n5wi7MXouQhWXGroJf+fOnXj33XcxZMgQuFzn9b53331XqINP\nPvkEI0aMwAUXXKC7bXJyMvLy8oTara+vx76Ofnix+iuh7YnIwyFJGJjq4CauSCE91YkXqwOra/wZ\nku7y3r8VNU26f8yU25//7Ai3JjwvLw//ueFvurH0d/XGa6RfIzGIbiParh5D0l3e33X5uI+3duPF\n6lPIGsIfbK2vrxfOJ8Fg9FxYHZeRPx6675yvvPIK/vKXv2DFihX4/e9/7/0nyoYNG1BcrO/EZwat\nV0SnQ4IzFOvwEaaZNSob91w1AJF8lVxOBxiDbrL318PLN+3TTPZOh3ptvV5NuJqNgf+2ksSPV6S+\nXKQu3Uztupk5MXKbkSybRFMdv27Cz8rKQktLC7Zs2YItW7agpaVFePC1ra0N27Ztw4QJE4IOVA2t\nV8TyGQUon1lA9fcRzNLSfBTnxScIAAAgAElEQVTl9A1b9VSqisYuAXA5E3zqsbVshnl121r35oBU\nJ8pnFJjyndeSlORttco4RerLRerSzdSui/jj8PxyItn+IJrq+HUlnRUrVmDt2rXeksqysjL84Ac/\nwF133aXbeGpqKrZv3x58lBy0ys7mv1ELlzMBCRYubk1YyyULNyBB6k2wenq3UZ6/fSRKC7Mwdnml\n6j2Sle7C1oVF3P1lyXDJO3t0ZRn/EryKmiauRYTc750vV2H+G7Xez5VLGGrVhPNsDJTHo7ZEoryN\naBISqUuXv3/mvd043NzufdrWS/pmEmGk2x9ESx2/7hP+m2++iTVr1uDhhx/Gww8/jDfeeANr1qwJ\nRWy66L0itrt70NplrCqACC09DJYnewBe24BxwzNVv+d9LlPZ0IKytTtVfW2U+FsUyCV6vIHhccMz\ncefLVQGummpLGKohYmMQKolBPtbjrd222wpHk2wSyQjZiTgcDtX/hxuyTSB4yPourzRRq2QR6NXK\nRct6lVqyXunhlr0nuBbKWtbKMiI2BqGSGEKpq0eTbBLJ6Eo606ZNw8yZM72Szocffojp06fbHpgo\nZJsQ32hZLGjpu3rar5ZWrtWeXrtWaM6icovdyTDUunq0yCaRjG7Cv/fee3Hdddfhs88+AwAsW7YM\nV1xxhe2BiSJPaaZkH58wfDMZSuUGSJAk9HMl4rTKIKZsZ5zuZxk8bngm3t7RZPh+SpAkXXtkuV8j\n+E/ZvyO/D0JQaagZgzxmEem6OhGIbsKvra3FZZddhhEjRgAAzp07h507d6KgoMD24PTwn9JMxCe8\neVQexnCuoxtOh6TqQgnAR6P3n9pvBCusO/yXMFSbsv/Ctg5kDQm0WbALLduAsonDAn7/SFePbHQ1\n/CVLliAtLc37c2pqKpYsWWJnTMLo6aVUn0O4exjSkhLhsKlay6p2lVU6Mmr3dyfHZsEutHR6WVe/\nMC2RdPUoQfcJnzHmtUYGgISEBHR3R8bMSJ5WKAHYv7wYlwq8YhOxj1YdfTBI6LVcDmZ/f7tmJZFQ\ne64XQ2lhFoalnA3JjFYieHSf8LOzs7Fy5Uq43W643W6sWLEC2dnZoYhNF55WKH+emhQ5FUWEdRh9\nqk6QJE2LYbMkSBLSU823m57qxOKKOuQueh+XLNyA3EXvY3FFnfd7vfs7FERCDIR16Cb8p59+GjU1\nNfje976HG2+8Ebt27cIvfvGLUMSmi1Zt7uKKOqrBj0FcTgdmjco2NEXfwxhau7ott9rwMIYzJhcn\nAYDTbW6sqm706v8exrCqutGb9NXu72SOJYNdUP17bKEr6QwcOBD/8R//EYpYDCNrhWoVBAvW7Axz\ndITVZCmu7zUXZ3BnlKrh9jAMSHUiNSnRsIHX2NwM7DncojoJizdlLEEC+qU4caa9t/rnVGun8ASz\n1dsPYmlpvur9fUd+n5Bq5Fq/Y0T0oZvwn332Wfzrv/4rkpOTcf/992Pfvn1YtGgRpk6dGor4dOHV\n5tKCJ7GFBPhYIZiZf9Hc5kbNz3p9nUT3kwDvYKqRvhgDap867yFlZDxJee/639/hsNWl+vfYQTfh\nb926FY8//jj+8pe/ICsrCy+++CLuvPPOiEn4Mv61wkRswQDkPbkx4CnZiEgj3xdaXjf+KDV6kSUD\nZRiAy594H12cclAt7KgoipYl+Ah70dXwPZ5eHfzjjz/GLbfcgr59+QsOhAu5Vripud3r6UHEHmqS\niGg6lXVnPa8bf851dHu9YcomDjM0DqCX7Hm/fLNGWVsUofb7YZfnDRHZ6Cb873//+7jllluwZ88e\nXH/99Th16hSSk5NDEZswZpZOI+IHhyR568ON3ivuHubjAqm2BKHchyhyzfpzt4/E7NEXefd1SBJm\nj74IS0vzhdsSIZK95InQoivpPPbYY7j//vvRt29fOBwOpKSk4He/+10oYhMmEjyxicilhzGvfKE1\ndwPQ9+Thec33MCa8XKOy9r60MMvyBO9PJNTzE5GBbsIHgPT0dO//U1NTkZqaaltAZjCirRLxh4h2\nL2+j5w3T3+VUrdZh6H1CF5GKLl24wRYdfXFFHVZvPwgPY3BIEmaNysbS0nzyvCG8CNkjRzpmlk4j\n4odLBro0tXtZ39erOa+oaUJrF3+Wuei4gB06+uKKOm5NP9XSEzJCT/iRjvyUtGDNTirHJAKobjiN\nAyfbVbV7pb4vw6tmKd+0j2vC5t9mD2NwOiTNgVulJ02wrN5+kPu5LBlRlQ4hlPA3b96Mzz77DJIk\n4eqrr/Z640cSpYVZeESxZBxByHgY4+rVSn0fOF9zXl9fH+API6p59zAW4JHDq+G3SkfnPejIn1Mt\nPQEIJPwlS5agsbERxcW9N/Cf//xnbNu2DU899ZTtwRmFtPzoQHRw0yockoTB/VMM69j+tes8/V6k\nTbt1dN74gV0uoUR0oqvhV1dX45VXXsH06dMxffp0vPzyy6iurg5FbIYxWidNhIdQi26jcwYY1rEr\nG1oCatdF/Hh4bdqto/Nq962u6SeiG92Ef/HFF+Pw4cPen48cOYKLL77Y1qDMUlqYhfKZBUhXOCOm\nJTnIFz/G0bu+B062G14TdcWO0wGav9vD0CeF762vNh4gY/earEtL80NS009EN1xJ51/+5V8AAK2t\nrZg0aRKuvPJKAMCuXbu8/49E1LRK8sWPHpRrGRh5E9CSiZTe7aIJlremLa8OHwgcD/DHbh19aWk+\nJXhCE27CnzNnTijjsI2KGuPrk0YjkgQkQKwOPJJJkCRcunCDsNcNoF1DD/T+IRi7vJJbmXLny1XY\n+uUp789jczOQmZaI4ypJXysiI3q8nrcNr6Y+mDYJgpvwr7vuulDGYQsVNU1xU7kjAbigjxPHWrrC\nHUpQKOvIRVDq4GVrd8Ldo76fci1WZRL0T/YAsPXLU7ionwMup0PYhsGIHq+1TmxpYZa3pl5GrqkH\ngDuHqf/K6rVJEIBGwi8sLPRZ2tCfHTt22BKQlZRv2hcXT/cA0MMQ9cleDbmmPTXJgbYuj8/1zFJ5\nil3yzh5uJY1a3bt/spdpPOvB87ePFJrboRaHFnrrxGrV1N857FJTbRIEoJHwa2pqAADPP/88MjMz\nvXbI77zzDk6cOBGa6IKEvEKiH7Wadh5KjdyKuneRuR3+Pv0i6Hnb6NXUm2mTIACBOvzKykq88847\n3p/vuOMOTJkyBQ8//LCtgRlB1i6bmtu99cgOSYqbp/tYhgG4ZOEG7lO0v249bngmtuw9wb32CZKE\nipom4adevbkdQ9JdhvV2vZp8MzX15JdDiKBblpmamop33nkHHo8HPT09eOeddyLKPE3p9Q0Y14CJ\n6EDNe0bN531VdaNmgvYw5tPO2NwM1e1GDu61AC+bOAxOh3qidTokXDLQpbkurRp6NflmaurJL4cQ\nQTfh/+pXv8LGjRsxZswYjBkzBh988AF+9atfhSI2IcgLP37w93A3e+2V7bz+wPUBSX9sbgaWTex9\nAygtzEJakvqLcFpSIqobTqt+x9Ph5Ta1avLN1NTbXedPxAa6ks7QoUPxX//1X6YaP3v2LBYvXowv\nvvgCkiThmWeeQWFhoam2eJBGGV8or3cw1165r7xmrRLl2rFnOIPAZ9rdXOlI7w1TrybfTE09+eUQ\neugm/IMHD2LVqlVoampCd/f5uuTf//73uo3/8pe/xHe/+1288MIL6OrqQkdHR3DRqkD+OfGFUpMO\n5tob0ba19PGjZzrIw4aIGnQlnZ/85CfIysrC7NmzMWfOHO8/PVpaWvDpp59ixowZAICkpCT069cv\n+Ij9IC/86MSRIBn2PUqQ4KNJm732RrVtLX2cPGyIaEL3CT85ORl333234YYPHTqEjIwMLFq0CHv3\n7sWIESPwxBNPWD7gq/Qqpyf9yEECkJ7qxGkVK4IBqU48VTICAPDMe7txorUbQ9JduGSgC9UNp7ly\nSA/znUSkvPb+VTq8e0HL74aHWj9yxZD8ndFZsQQRDiTGtMXGd999F1999RXGjh2LpKQk7+cjRozQ\nbLiurg633347Vq9ejYKCAixduhR9+vTB/PnzufvU1tYKL5De0dGBlJQUn89uXdEgtC+hjQTg/Xty\nMGlFg+nSVrkNPYxex40CbQLgxh5MXJFAJMYViTEB8RWX/9oNPHSf8L/44gusX78e1dXV3pm3kiRh\n5cqVmvsNHjwYgwcPRkFBAQDglltuwR/+8AfNfZKTk4UDV1ugwiHtp3JMC2Cw5o/npBUNqp4uynkT\nCVLvk7tvnT2/b/9r7l8Dr2cvkSBJAXGpedAMSxH/JQolavd9uInEmID4iUtZYKCHbsL/4IMP8OGH\nH/o83YuQmZmJwYMHo6GhATk5OaiqqkJubq6hNoySk5mKfxxvtbUPQgz5z66/p4u/54tsfaPcbmxu\nhqrlgX/5pJrnjJ69hPxAIPf3969O4a3PmgI8aP5tdAYiMFcQRFDoDtp++9vfRktLi6nGn3zySTz2\n2GMoKSlBfX2913LZLhpOtNnaPmEOZd27Vu28vB2vNt6/fFKr1t0ftaqZdrcHq7cfVPWgWbFDvb6e\nIKIZ3Sf8lpYW3HrrrcjPz4fTeX5hEZGyzLy8PKxbty64CA1Ack7kIte969XOy9+r1cb7Y+R69xj0\np+H54RNENKOb8OfOnRuKOCyB50FChB9Rn3s973oZLesCXrtq8O6ZzDTdXw0vPD8f8qUnIg3duzqa\nfPFnjcr20XSJyMGIx5Gel7u/dm8Wl9OBqy7qrzpecO1QsYlZaj70ytjIl56IJLga/qxZswD0+uJf\nddVV3n/yz5GI7EFCWIsds0blNnlzr/x9c5QY0e7VUHrNHDipLjF9ekhsToeIn4/WsRBEKOE+4a9e\nvRrAeV/8aGFpaT5er26MOmtkOe9FWtwSgC+XTcIlFq8L3MMYDiwvRn19Pbdmnqf3ByvbKf31eX73\nohq+qJ8PeT4RkYBulU40kp7qVP08kv1NGCIv2QO9MS2uqLP83Pl74uhtoyTYWC5duAFjl1eioqaJ\n24eohi/qyUO+9EQkEHMJv6KmCec6Ap/OnI7eKe88b3OCz6rqRuRkWmeJ4UyQdD1xtPxugvWpkb3z\nF62rw7jhmap933PVAKG2RPx8yJeeiBRiLuGXb9qnupB1WlIilpbmo3xGAQZw3gAIPg0n2nw82oOh\nT0pigCeOES93f7/4BAlwOY3fyu1uD7bsPaHad1FOX6E25Nh558WMdw9B2IV47VmUwNNKZU9z2fCK\nt+YpoY6HsQCPdrO6frOKoZpRL3eeX7zR63q4uV217/r6s8JtaK1928MYJXsiYoi5hM/zLpfXRqVa\nffOMfHozmtvdkBDceENqkgNjl1ficHM7MtMS8dPJvbbZam6URuFdf951N7rGrRoVNU3c+QWk3ROR\nRMxJOnqaKiV78zR/85YU7Bls7fJ416E93tqNsrU7UfbmTp+1af3XrxWFNx4wa1S26n3hv8atUeQ6\nfLX7irR7ItKIuYSvp6kSkYe7h8Ht8U2YZmvXeeMBS0vzufdFMHXyvDp80u6JSCTmJB0ZepKPfpqa\n270ynJFFRfwXLJGTuZbWbrZOnrcfT7v3t3OmxVKIUBJzCV9+xSZiBw9jXrsCkeSoZncg3xNa69Oa\nwUh7anbORo6LIIIl5iQdkanuhC+RIH6JzI8QtVRQuwdk2cZozb8eRtrjxR+sVQRBiBJzCZ+msBuH\nAV7Ne0CqE+kuZ++atC5nyOYslM8o8MbAQ1Sm490DcgmmkZp/PYy0x4uf5EciVMScpMNbOJvgIy8v\nqCyLXDKld83i8k37bD+fWekun1r43EXvqyZB0YF4PZlFS+M3g+gcAl5pKBUYEKEipp7webYKBB9n\ngoRxwzOxaF2dT1lk2Zs7UbZ2p2ritBKHhAD5g2edIGqpoCezyBq/FWWgRgj2uAgiWGIq4fNsFeIZ\nhyRBAt+GuE9KIrbsPRGgebs9zPZzKQF49IbMgKdjf+sEhyRh9uiLDFXpaMksWhq/nQR7XAQRLDEl\n6ZB+H0gPY9i/vBiXcmwQmtvcqlYHoYLnWcOzThBFS2bR0vjtJtjjIohgiKmEz9Nu4xlZt85MS8Rx\nFY93vSUH7cRoKaT/UoJW2y+oxWO0T6tiJAg7iClJR8SqNp5Q2hDfc9UArrWAKEZvFmeCxC23NFoK\naaXuLlpKabTPcI0NEIQoMZXwyVbBF6UNcVFOXx9dW+QcJUjw0cGfu32kqi2x/P3s0Rf5bF8+s8Bb\nbglFn2ZKIa3U3UVLKY32Ga6xAYIQJaYkHUB7+ny84a/NK3VtnqavpIcBWxcWBbRhVIO2QtKwWncX\nKaU02mc4xwYIQoSYSfgVNU14+t09VIOvQLaEzkp34Y78PsjLO/+d6HjHpQs3aGrRapo1YI3VsRIt\n3d0ufxqjNgxW2zYQhNXEhKRTUdOEsjd3UrLn0NTcjhe2fe2jJZdNHCZkZ6ClRatp1lZaHSvh6e6X\nDHRhVXWjdyxC9qdZXBG8n5JRGwarbRsIwmpiIuGXb9oXYK9L+NLpYT5acmlhFtKSxF/w1LRoNc3a\nSqtjJTzdvbrhtOr2VvjTGLVhsNq2gSCsJiYknWjQSOVn6XD+WfI/T/Kyj2b3N3LerbhGarr7fM54\njVWlpkaXXjS6PUGEkphI+P1dTu9qTEaQJCBUJegMvcZk4ZSdEiQJiyvqsGXvCRxubjdcg++vRRuZ\n9+C/r1L7T089CMZ6/wAZ1fzJn4YgxIl6SaeipgmtXeb8c0I93+h0m5trcWAVDo0OZH1b1teNJHtl\nTb+MmmatVnvvr2P7a/+n29xobneb0vzJn4YgxIn6hM/T7yUJeP72kRHh9a7Err8xsi/Lr2eer3s3\nsq8eypp+GTXNWll7z9Ox9dYsMKL5kz8NQYhjq6RTVFSEtLQ0JCQkwOFwYN26dZb3wdWGWW9C4mm8\n4cKOtwoJwJfLJnl/Vtbai3TXwxgOLC/W3Ifnt8PTrLUkGRE934jmT/40BCGG7Rr+ihUrkJGRYVv7\nerXPPI03llDW2yv1b1GNnQEYu7wSZROHma4llzX5puZ27zn3j0fZll5c/V1OjF1eSZ40BGEhUS/p\n6NU+x5OW669/G/EWkvcdNzzTcC25UpMHzo8N8PR4vbicCRJau7rJk4YgLMb2hH/fffdh2rRpeOON\nN2xpX6/2WdZ446VoQ6l/q50b2e+Gt++WvScM15JrafJqerx/XMplFbPSXeiTkmhLLT9BxDsSY/bp\nHceOHcOgQYNw8uRJ3HvvvXjyySdx7bXXcrevra1FcnKyUNsdHR1ISUkxFM+kFQ1hrYMPFRKA9+/J\n8fnM/3zxzoXavnronVetNtWuo5WxmcXM/RUKIjGuSIwJiK+48pS+KRrYquEPGjQIADBw4ECMHz8e\nu3bt0kz4ycnJwoHX19cLbyszJP1IXPjlJ0gSXt/X7a23H/KNl85Pigu92/DOxZB0l+XnVW5TzXdn\nWErgzWokNrv8583cX6EgEuOKxJiA+Imrvr5eeFvbJJ22tjacO3fO+/+tW7fi29/+tl3dCRFKv3yn\n3QX3GvjX26t56VwyUF3W4X2uhdZ5lfV/nld8ZUOLUHtW+NUTRLxjW8I/efIk7rjjDkyZMgUzZ87E\njTfeiO9973t2dSeEUju2kwQJKDdRD28n/l46PA8a3uda+J9XNd97nlf8ih2B/dnlV08Q8Y5tkk52\ndjbeeecdu5o3jVw3fomAH7xZetj5fkRr4UOBsradV6pqtoRVz0OGV1d/QmXZRZH2tNqMBm8lgggH\nMeGlo4e/zjtueKbtfeY9uREpTkfEJHvAt5Zea35C4c8346mSEUFr4crzzvPtyUwzfwuS/zxBGCPq\n6/D1UNN5V1U32t5vu7sn4vz5lX/otOYnnG5zo+zNnUFp4f7nXS3Zu5wO3HPVANN9kP88QRgj5hO+\nnm9LJGP13IEte094/y/PT+Dh9tP8jcI77w5J8tHli3L6mu6D/OcJwhgxL+lEkp4rQcw8TQKw/xtv\nGyvHGvzPxdLSfLxe3ciNKZhzx9u3hzHvsQFAff1Z030A5D9PEEaI+YQv6icTCs8d0dYTJMm7lqyV\nnv1D0l0B4xlaawkEo4WTvk4QkUfMSzoitfcupwOzRmWbrtEfm5shtD6sKB7GvOMNvGTfL9lYrMkO\nCeOGZwaMZ7R2daveBE5HoP+9EUhfJ4jII+YTvpafjFL3XVqab6pGPy3JgdcfuB7lMwowINVpyzGo\n0drVw/1O7RjnjbkAW/aeCFyD1sPQ/xsvG5kBqU6UzygISiohfZ0gIo+Yl3QAcZ3XTO18W5fH9L7B\nwJOfJABbFxYFfF5fX49f/fVE4A7o9bpX6upWQfo6QUQWcZHwlah5rwDA0+/uMVVGKXvRy4TKUIE3\n5pAgSaioaVJNtMHo6lZ61ijbykxLxE8n96M/DAQRAuIq4cu14bKs0dTcjrI3d8LTw9Bj0WN5qCZa\njc4ZgB2NZwIkGg9jWLSuDkDgqlNlE4f5HD8gpqurnTdeH3r4t3W8tdt0WwRBGCPmNXwlarXhbo91\nyV6JXG9ul4fagZPtWDYtX3U9Wp6fjFld3UrPGvK/IYjwEVdP+KGsyZfrzS+1ybPncHM7Sguz8Ahn\nzV7esZrR1a30rCH/G4IIH3HxhF9R04SxyytD6msja/t29Snr7jz9XdbyrexL9PNQtUUQhDFiPuH7\nr7fqjyOMvvUiOBOkgBp/pe7Om2cga/lWJH0ra+qpPp8gwkfMJ3wtL52sdBf6JourWgkS4LTpjMma\nOuDrJ18+swDlMwq4urusyxvR8o1iZU29f1sXpiVSfT5BhIiY1/B52rBcry6qsUsAGpYF1qpbVXfP\noF4/L6OVEM1o+UaxsqZe2Vbvcm+U7AkiFMR8wufVnqenOg3p+sp6+7G5Gfj8SIul9seObzR3tTkC\nevXvFTVNXL95WRuvbGjB/esrA9qxa01YgiAij5hP+Gq1506HhHMd3aYT9tYvTxnex5EgwaNR/zk6\nZ4DqHAEwwP3Nfmr17/IYBc9vXl5P9oVtX6PT49vO3786hbc+a7Kkvp4giMgn5jV8Nf05LSnRm0T9\nkX1o1DRxES5MS8TY3Azv/g5JwuzRF+HXM8/r8C5ngrc+X/7+wMl21TkC/nH66/JavvPK9WTlZK9s\nZ/X2g1QTTxBxRMw/4QOB+jNPt1f60LxuYlUsCcCKGRchLy+PGwcPI/X6Sl1ey3de7o+3Dc+Ph2ri\nCSI2ifmEr6ZR83T9/grHSFEffSUJkoTKhhbk5QGLK+qwevtBeBiDQ5Iwa1Q2lpbmc/c10p+yZj09\n1akqTSm34bXN8+OxuiY+nOMERq8DQcQyMS3pqK1nu2hdHcYNz4RTpf6+tavbW7deNnGYYVsED2N4\nYdvXuPPlKqyqbvQmUw9jWFXdiMUVddx91erTnQ4pIE5lzXpFTRPOdXQHtOXvZV82cRiSVWr5R+eo\nrydr5SLvvGtg1aQwLRZX1Bm+DgQRy8R0wuf5tmzZewJ9UgJfbpTruJYWZuG5H4w03Genh3EHdVdv\nP8jdT22soXxGAcpn8mvwyzftUx2LSEtK9HmCLi3MwrwxFwS0c+Ck+huFcu3bYAmndw7vfGtdB4KI\nZWJa0jHj26L8Tq5vt8oeQW8JRV6tO0/+4B3HGZUlC4ty+uInxdf5fGZ37b5WW6EYJ+Cdb7uXsiSI\nSCWmE76e/ztPxx+7vFJozVejKNUZEV27oqYJP123C23u3tWtJAm4c9RFXg062HVjRcYyzCIfHy+1\nhsI7hzdGYbYCiyCinZiWdLR8W1Q18wQJrV3dPnpzS2egRm4a1psIRXTtipomPLqm1pvsgd7FzJUa\ndLC+NGUTh+mOZZhBz78oVN45s0ZlG/qcIGKdmE74Wh4wat/1SUmE269enTdZKi3JYXj92x70atoi\nunb5pn1cn35Zgw7W46a0MEt3LMMMev5FofLOWVqa7zOnQp7zQFU6RLwS05IOoO0BI1qfr0Zblwd7\nfl5k2EtHdPxAazulTBGsx00zZ7ZxMBq7nn9RKFlamk8JniC+IeYTvhb+Ojqvpl0NBuCKJzca7lNr\n/IAByF30vu6gopUadLDjAKFq0wjkD0QQ6sS0pKOFmo5+rqM7wHteizZ3j6Gne63xAxmRChIrNWg7\n/OnD6Xkfzrp/goh04vYJX3V92x6GdJcTacmJhmfZ6qH0tlHGYKQf/yodK1DW9Fv1RGxHm6JojY/Q\nUz4R79ie8D0eD6ZPn45BgwbhpZdesrs7Lv6v+bxEe6bdjdqnJljmcy+j9LYBzmvvlxgYN2Ds/ICt\n1Ulf6b5ZvmkfHnmjNqhEbaV/vhFozVyC4GO7pLNy5Urk5uba3Y0maq/5POFGb61YPXh2DGrtVdQ0\ncePgYac9QCzIIbRmLkHwsTXhHz16FB9//DFmzJhhZze6qL3mMyAg2fqvFatWo66Fy+nArZf3Fdav\ntSYm6WGHPUA4bRCsgtbMJQg+tko6zzzzDMrKytDa2iq0fWdnJ+rr64W27ejoEN6W9zrP0Otff6K1\nG5lpibjnqgEYlnIW9fVnMSwFmD/2Avx++9do6epNyykOoEO9vBwA8G+jMzBmiBNXXJiCFTtOq7Yr\nEhfQ+6agsV4KPIwJHz8gdr605BAjfRnByHUUYVhK73UQOf+hjMsqIjGuSIwJoLjUsC3hb9myBRkZ\nGfjOd76D7du3C+2TnJzM9ZL3p3ctVLFth6QfUdXss9JdmnXheXnAT/yWsR27vJLb1k+Kr0N9fT1+\nUlwYsJ/ZuHhlmg5JEj5+QOx88eIZku4y1JcRjFxHUdSum1HsiMsKIjGuSIwJiJ+4jPzxsE3S2bFj\nByorK1FUVIRHH30U1dXVeOyxx+zqThMrX/ND3VYo7QFIDiGI2Ma2J/wFCxZgwYIFAIDt27fj1Vdf\nxa9+9Su7utPEyjLBULclV+OEYhGPcJZTEgRhP3FTh29lmWCo2wqlPUC4yikJgrCfkCT8UaNGYdSo\nUaHoiiAIguAQt9YKBKNzRc0AAA4eSURBVEEQ8QYlfIIgiDiBEj5BEEScQAmfIAgiTqCETxAEESdI\njAkYsIeI2tpaJCcnhzsMgiCIqKGzsxMjR44U2jaiEj5BEARhHyTpEARBxAmU8AmCIOIESvgEQRBx\nAiV8giCIOIESPkEQRJwQlQn/k08+wcSJEzF+/Hj84Q9/CGnfixYtwvXXX4/Jkyd7P2tubsa9996L\nCRMm4N5778WZM2cAAIwxLF26FOPHj0dJSQn27NljS0xHjhzBXXfdhUmTJqG4uBgrVqyIiLg6Ozsx\nY8YMTJkyBcXFxXjhhRcAAAcPHsTMmTMxfvx4zJ8/H11dXQCArq4uzJ8/H+PHj8fMmTNx6NAhW+KS\n8Xg8KC0txY9//OOIiauoqAglJSWYOnUqpk2bBiD81xEAzp49i3nz5uGWW27BrbfeipqamrDH1dDQ\ngKlTp3r/XXXVVXjttdfCHtdrr72G4uJiTJ48GY8++ig6Ozsj4t4CALAoo7u7m910002ssbGRdXZ2\nspKSEvaPf/wjZP3/7W9/Y7t372bFxcXez/793/+dvfTSS4wxxl566SX27LPPMsYY+/jjj9l9993H\nenp6WE1NDZsxY4YtMR07dozt3r2bMcZYS0sLmzBhAvvHP/4R9rh6enrYuXPnGGOMdXV1sRkzZrCa\nmho2b9489t577zHGGHvyySfZ66+/zhhjbNWqVezJJ59kjDH23nvvsYcfftiWuGReffVV9uijj7IH\nH3yQMcYiIq5x48axkydP+nwW7uvIGGOPP/44W7NmDWOMsc7OTnbmzJmIiEumu7ubjRkzhh06dCis\ncR09epSNGzeOtbe3M8Z676m33norIu4txhiLuif8Xbt24eKLL0Z2djaSkpJQXFyMjz76KGT9X3vt\ntejfv7/PZx999BFKS0sBAKWlpfjwww99PpckCSNHjsTZs2dx/Phxy2O68MILMWLECABAnz59kJOT\ng2PHjoU9LkmSkJaWBgDo7u5Gd3c3JElCdXU1Jk6cCAC47bbbvNevsrISt912GwBg4sSJqKqqArNp\nmsjRo0fx8ccfY8aMGQB6n/4iIS41wn0dW1pa8Omnn3rPVVJSEvr16xf2uJRUVVUhOzsbWVlZYY/L\n4/Ggo6MD3d3d6OjoQGZmZsTcW1GX8I8dO4bBgwd7fx40aBCOHTsWxoiAkydP4sILLwQAZGZm4uTJ\nkwACYx08eLDtsR46dAj19fUoKCiIiLg8Hg+mTp2KMWPGYMyYMcjOzka/fv2QmJgY0PexY8fwrW99\nCwCQmJiIvn374vTp07bE9cwzz6CsrAwJCb2/AqdPn46IuADgvvvuw7Rp0/DGG28ACP/9dejQIWRk\nZGDRokUoLS3FE088gba2trDHpWTDhg1emTWccQ0aNAhz5szBuHHjcMMNN6BPnz4YMWJExNxbUZfw\nIx1JkiBJUlj6bm1txbx58/DTn/4Uffr0iYi4HA4H1q9fj//93//Frl270NDQEPIY/NmyZQsyMjLw\nne98J9yhBLB69Wq8/fbbePnll/H666/j008/9fk+HNexu7sbn3/+OWbNmoWKigq4XK6AsbNw3vdd\nXV2orKzELbfcEvBdqOM6c+YMPvroI3z00Uf461//ivb2dvz1r38NWf96RF3CHzRoEI4ePer9+dix\nYxg0aFAYIwIGDhzofTU8fvw4MjIyAATGevToUdtidbvdmDdvHkpKSjBhwoSIiUumX79+GDVqFGpr\na3H27Fl0d3cH9D1o0CAcOXIEQG+SaWlpwYABAyyPZceOHaisrERRUREeffRRVFdX45e//GXY45L7\nAnqv3fjx47Fr166wX8fBgwdj8ODBKCgoAADccsst+Pzzz8Mel8wnn3yCESNG4IILLgAQ3vt+27Zt\nGDp0KDIyMuB0OjFhwgTs2LEjIu4tIAoTfn5+Pg4cOICDBw+iq6sLGzZsQFFRUVhjKioqQkVFBQCg\noqICN910k8/njDHU1taib9++3ldNK2GM4YknnkBOTg7uvffeiInr1KlTOHv2LACgo6MD27ZtQ25u\nLkaNGoVNmzYBAN5++23v9SsqKsLbb78NANi0aRNGjx5ty9PZggUL8Mknn6CyshLPPfccRo8ejV//\n+tdhj6utrQ3nzp3z/n/r1q349re/HfbrmJmZicGDB3vfzqqqqpCbmxv2uGQ2bNiA4uJi78/hjGvI\nkCHYuXMn2tvbwRhDVVUVLrvssrDfW15sHRK2iY8//phNmDCB3XTTTex3v/tdSPt+5JFH2NixY9kV\nV1zBvvvd77I1a9awU6dOsbvvvpuNHz+e3XPPPez06dOMsd4qlSVLlrCbbrqJTZ48me3atcuWmD79\n9FN2+eWXs8mTJ7MpU6awKVOmsI8//jjscdXX17OpU6eyyZMns+LiYvbb3/6WMcZYY2Mjmz59Orv5\n5pvZ3LlzWWdnJ2OMsY6ODjZ37lx28803s+nTp7PGxkZb4lJSXV3trdIJd1yNjY2spKSElZSUsEmT\nJnnv7XBfR8YY+/zzz9ltt93GJk+ezB566CHW3NwcEXG1tray6667jp09e9b7Wbjj+s1vfsMmTpzI\niouL2WOPPcY6OzvDfm/JkFsmQRBEnBB1kg5BEARhDkr4BEEQcQIlfIIgiDiBEj5BEEScQAmfIAgi\nTqCETxAEESdQwidilh/+8IcAer1g3n33Xe/ndXV1WLp0qeH2Nm7ciFtvvRV33XWXZTGaRT42gjAC\n1eETMUd3d7fXqAoAtm/fjldffRUvvfRSUO3ed999eOihh3DNNdeYisPsNgRhFZTwCUs4dOgQHnjg\nAVx99dWoqanBoEGD8Lvf/Q4PPPAAHn/8ceTn5+PUqVOYMWMGKisrsW7dOnz44Ydob2/HV199hTlz\n5sDtdmP9+vVISkrCH/7wB6Snp6v29dVXX+Gpp57CqVOn4HA48Jvf/AZHjhzBb37zG/Tr1w/79+/H\npk2bUFhYiJqaGvzgBz/Al19+iaFDh+K2225DXl6e9w9Aa2srli5dit27dwMA/u3f/s1rY6vkxRdf\nxCuvvIILL7wQRUVFmD9/PpYsWYLdu3fD4XBg4cKFGD16NNatW4fNmzejra0NPT09WLVqVUBb27dv\nD4h1/fr1+J//+R+43W4UFBTgqaeewpo1a9DY2Ij/9//+HwBg3bp12L17N372s595jw0A/vjHP2Lj\nxo3o6urC+PHjMW/ePPzxj39EUlIS7r77bjzzzDPYu3cvVq5ciaqqKrz55pt49tln8cQTT2D37t2Q\nJAnTp0/Hj370I4vuBiJisXUeLxE3HDx4kOXl5bHPP/+cMda78ENFRQWbPXu2dwr7yZMn2bhx4xhj\njL311lvs5ptvZi0tLezkyZPsqquuYn/6058YY4z98pe/ZP/93//N7WvGjBls8+bNjLHeqeltbW2s\nurqaFRQU+ExNHzlyJGPM1z7B/+dnn32WLV261Ptdc3Mzt1/lsbzyyits4cKFjDHG/vnPf7Ibb7yR\ndXR0sLfeeot997vf9U7nV8M/1n/+85/sxz/+Mevq6mKMMfbUU0+xt99+m508eZLdfPPN3v3uu+8+\n9umnn/oc21//+le2ePFi1tPTwzweD3vwwQfZ3/72N1ZTU8Pmzp3LGGNs1qxZbPr06ayrq4v99re/\nZatXr2Z1dXXsRz/6kbftM2fOcOMlYgd6lyQsY+jQocjLywMAjBgxAk1NTZrbjxo1ymvj3LdvX6+h\n1OWXX459+/ap7nPu3DkcO3YM48ePBwAkJyd7v8vPz0d2drahmKuqqvDcc895f/Zf3IbHZ599htmz\nZwMAcnNzMWTIEOzfvx8AMHbsWO7biVqsVVVV2L17t3eBkY6ODgwcOBAZGRnIzs5GbW0tLr74YjQ0\nNODqq6/2aWfr1q3YunWrd8GPtrY2HDhwAKWlpdizZw/OnTuHpKQkXHHFFdi9ezf+/ve/Y/HixcjM\nzMTBgwfxi1/8AjfeeCNuuOEGoeMmohtK+IRlJCUlef/vcDjQ2dkJh8PhXcFHXsdTbfuEhAQ4nU7v\n/z0ej+H+U1NTzYRtOS6XS3cbZayMMdx2221YsGBBwHaTJk3Cxo0bkZOTg/Hjxwc4KTLG8OCDD6oO\n4g4dOhTr1q1DYWEhhg0bhu3bt6OxsRG5ubmQJAnr16/H//3f/+HPf/4zNm7ciGXLlpk4WiKaoCod\nwlaysrK8+vgHH3wQdHt9+vTB4MGDvcvWdXV1ob29XXOftLQ0tLa2qn43ZswYvP76696f5QWv9bjm\nmmu8lT/79+/HkSNHkJOTI7SvP9dffz02bdrkXZmpubnZ+3Y0fvx4fPTRR3jvvfd8LIBlbrjhBrz1\n1lve4zt27Ji3nWuuuQavvvoqrr32WlxzzTX485//jLy8PEiShFOnToExhokTJ2L+/Pn4/PPPTcVO\nRBeU8AlbmTNnDlavXo3S0lLLlm579tlnsXLlSpSUlOCHP/whvv76a83thw0bhoSEBEyZMgWvvfaa\nz3cPPfQQzp49i8mTJ2PKlCnYvn27UAx33HEHGGMoKSnBI488gmXLlvm8sRjhsssuw/z58zFnzhyU\nlJRgzpw5OHHiBIBeiSk3NxeHDx/GlVdeGbDvDTfcgMmTJ+OHP/whSkpKMG/ePG/yv+aaa3DixAmM\nHDkSF1xwAZKTk70VRsePH8ddd92FqVOnoqysDI8++qip2Inogqp0CIIg4gR6wicIgogTaNCWiFie\nfvpp7Nixw+ezu+++G9OnT7e135kzZwYMMD/77LMYNmyYoXb27duHxx9/3OezpKQkrF27NugYCcIM\nJOkQBEHECSTpEARBxAmU8AmCIOIESvgEQRBxAiV8giCIOIESPkEQRJzw/wE+LtHE6hehnAAAAABJ\nRU5ErkJggg==\n",
      "text/plain": [
       "<Figure size 432x288 with 1 Axes>"
      ]
     },
     "metadata": {},
     "output_type": "display_data"
    },
    {
     "data": {
      "image/png": "iVBORw0KGgoAAAANSUhEUgAAAXwAAAEKCAYAAAARnO4WAAAABHNCSVQICAgIfAhkiAAAAAlwSFlz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\nIk6ghE8QBBEnUMInCIKIE/4/+KXiNBzkCtEAAAAASUVORK5CYII=\n",
      "text/plain": [
       "<Figure size 432x288 with 1 Axes>"
      ]
     },
     "metadata": {},
     "output_type": "display_data"
    },
    {
     "data": {
      "image/png": "iVBORw0KGgoAAAANSUhEUgAAAXwAAAELCAYAAADawD2zAAAABHNCSVQICAgIfAhkiAAAAAlwSFlz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\ngg==\n",
      "text/plain": [
       "<Figure size 432x288 with 1 Axes>"
      ]
     },
     "metadata": {},
     "output_type": "display_data"
    },
    {
     "data": {
      "image/png": "iVBORw0KGgoAAAANSUhEUgAAAXwAAAELCAYAAADawD2zAAAABHNCSVQICAgIfAhkiAAAAAlwSFlz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\n",
      "text/plain": [
       "<Figure size 432x288 with 1 Axes>"
      ]
     },
     "metadata": {},
     "output_type": "display_data"
    },
    {
     "data": {
      "image/png": "iVBORw0KGgoAAAANSUhEUgAAAXwAAAELCAYAAADawD2zAAAABHNCSVQICAgIfAhkiAAAAAlwSFlz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\n",
      "text/plain": [
       "<Figure size 432x288 with 1 Axes>"
      ]
     },
     "metadata": {},
     "output_type": "display_data"
    },
    {
     "data": {
      "image/png": "iVBORw0KGgoAAAANSUhEUgAAAXwAAAEKCAYAAAARnO4WAAAABHNCSVQICAgIfAhkiAAAAAlwSFlz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\n",
      "text/plain": [
       "<Figure size 432x288 with 1 Axes>"
      ]
     },
     "metadata": {},
     "output_type": "display_data"
    },
    {
     "data": {
      "image/png": "iVBORw0KGgoAAAANSUhEUgAAAYwAAAELCAYAAADKjLEqAAAABHNCSVQICAgIfAhkiAAAAAlwSFlz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\n",
      "text/plain": [
       "<Figure size 432x288 with 1 Axes>"
      ]
     },
     "metadata": {},
     "output_type": "display_data"
    },
    {
     "data": {
      "image/png": "iVBORw0KGgoAAAANSUhEUgAAAXwAAAELCAYAAADawD2zAAAABHNCSVQICAgIfAhkiAAAAAlwSFlz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\n",
      "text/plain": [
       "<Figure size 432x288 with 1 Axes>"
      ]
     },
     "metadata": {},
     "output_type": "display_data"
    },
    {
     "data": {
      "image/png": "iVBORw0KGgoAAAANSUhEUgAAAXwAAAELCAYAAADawD2zAAAABHNCSVQICAgIfAhkiAAAAAlwSFlz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\nRK5CYII=\n",
      "text/plain": [
       "<Figure size 432x288 with 1 Axes>"
      ]
     },
     "metadata": {},
     "output_type": "display_data"
    },
    {
     "data": {
      "image/png": "iVBORw0KGgoAAAANSUhEUgAAAXwAAAELCAYAAADawD2zAAAABHNCSVQICAgIfAhkiAAAAAlwSFlz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\nRK5CYII=\n",
      "text/plain": [
       "<Figure size 432x288 with 1 Axes>"
      ]
     },
     "metadata": {},
     "output_type": "display_data"
    },
    {
     "data": {
      "image/png": "iVBORw0KGgoAAAANSUhEUgAAAXwAAAEKCAYAAAARnO4WAAAABHNCSVQICAgIfAhkiAAAAAlwSFlz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\n8f+CG7xgt20ZUwAAAABJRU5ErkJggg==\n",
      "text/plain": [
       "<Figure size 432x288 with 1 Axes>"
      ]
     },
     "metadata": {},
     "output_type": "display_data"
    },
    {
     "data": {
      "image/png": "iVBORw0KGgoAAAANSUhEUgAAAYIAAAELCAYAAADURYGZAAAABHNCSVQICAgIfAhkiAAAAAlwSFlz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\n",
      "text/plain": [
       "<Figure size 432x288 with 1 Axes>"
      ]
     },
     "metadata": {},
     "output_type": "display_data"
    },
    {
     "data": {
      "image/png": "iVBORw0KGgoAAAANSUhEUgAAAXwAAAELCAYAAADawD2zAAAABHNCSVQICAgIfAhkiAAAAAlwSFlz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\nTRD4AGAT/w+Eb7by1ph2MQAAAABJRU5ErkJggg==\n",
      "text/plain": [
       "<Figure size 432x288 with 1 Axes>"
      ]
     },
     "metadata": {},
     "output_type": "display_data"
    },
    {
     "data": {
      "image/png": "iVBORw0KGgoAAAANSUhEUgAAAXwAAAELCAYAAADawD2zAAAABHNCSVQICAgIfAhkiAAAAAlwSFlz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\niMgmmPCJiGzi/wNpTtoJwUAibAAAAABJRU5ErkJggg==\n",
      "text/plain": [
       "<Figure size 432x288 with 1 Axes>"
      ]
     },
     "metadata": {},
     "output_type": "display_data"
    },
    {
     "data": {
      "image/png": "iVBORw0KGgoAAAANSUhEUgAAAX0AAAELCAYAAAA1AlaNAAAABHNCSVQICAgIfAhkiAAAAAlwSFlz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\n",
      "text/plain": [
       "<Figure size 432x288 with 1 Axes>"
      ]
     },
     "metadata": {},
     "output_type": "display_data"
    }
   ],
   "source": [
    "for i in range(0, len(numerical_features)):\n",
    "    z = numerical_features[i]\n",
    "    x = num_data[z]\n",
    "    y = num_data['imdb_score']\n",
    "    plt.xlabel(z)\n",
    "    plt.ylabel('imdb score')\n",
    "    plt.scatter(x,y)\n",
    "    plt.show()"
   ]
  },
  {
   "cell_type": "code",
   "execution_count": 33,
   "metadata": {},
   "outputs": [
    {
     "data": {
      "image/png": "iVBORw0KGgoAAAANSUhEUgAAApUAAAIKCAYAAAByYbQxAAAABHNCSVQICAgIfAhkiAAAAAlwSFlz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\n",
      "text/plain": [
       "<Figure size 720x504 with 2 Axes>"
      ]
     },
     "metadata": {},
     "output_type": "display_data"
    }
   ],
   "source": [
    "# most correlated features\n",
    "import seaborn as sns\n",
    "corrmat = num_data.corr()\n",
    "plt.figure(figsize = (10,7))\n",
    "# or fig, ax = plt.subplots(figsize=(20, 10))\n",
    "top_corr_features = corrmat.index[abs(corrmat[\"imdb_score\"])>0.1]\n",
    "g = sns.heatmap(df[top_corr_features].corr(),annot=True,cmap=\"RdYlGn\")\n",
    "#g = sns.heatmap(corrmat,annot=True,cmap=\"RdYlGn\")"
   ]
  },
  {
   "cell_type": "code",
   "execution_count": 34,
   "metadata": {},
   "outputs": [
    {
     "name": "stdout",
     "output_type": "stream",
     "text": [
      "imdb_score                   1.000000\n",
      "num_voted_users              0.514526\n",
      "duration                     0.371942\n",
      "num_user_for_reviews         0.333493\n",
      "num_critic_for_reviews       0.309514\n",
      "movie_facebook_likes         0.285769\n",
      "director_facebook_likes      0.203727\n",
      "gross                        0.185152\n",
      "cast_total_facebook_likes    0.079889\n",
      "actor_2_facebook_likes       0.079078\n",
      "actor_1_facebook_likes       0.069796\n",
      "actor_3_facebook_likes       0.049147\n",
      "budget                       0.018063\n",
      "aspect_ratio                -0.019651\n",
      "facenumber_in_poster        -0.050432\n",
      "Name: imdb_score, dtype: float64\n"
     ]
    }
   ],
   "source": [
    "corrmat.sort_values([\"imdb_score\"], ascending = False, inplace = True)\n",
    "print(corrmat.imdb_score)"
   ]
  },
  {
   "cell_type": "code",
   "execution_count": 35,
   "metadata": {},
   "outputs": [
    {
     "data": {
      "text/plain": [
       "['imdb_score',\n",
       " 'num_voted_users',\n",
       " 'duration',\n",
       " 'num_user_for_reviews',\n",
       " 'num_critic_for_reviews']"
      ]
     },
     "execution_count": 35,
     "metadata": {},
     "output_type": "execute_result"
    }
   ],
   "source": [
    "corrmat.index[abs(corrmat['imdb_score']) > 0.3].tolist()"
   ]
  },
  {
   "cell_type": "code",
   "execution_count": 36,
   "metadata": {},
   "outputs": [
    {
     "data": {
      "text/plain": [
       "['num_critic_for_reviews',\n",
       " 'duration',\n",
       " 'director_facebook_likes',\n",
       " 'actor_3_facebook_likes',\n",
       " 'actor_1_facebook_likes',\n",
       " 'gross',\n",
       " 'num_voted_users',\n",
       " 'cast_total_facebook_likes',\n",
       " 'facenumber_in_poster',\n",
       " 'num_user_for_reviews',\n",
       " 'budget',\n",
       " 'actor_2_facebook_likes',\n",
       " 'imdb_score',\n",
       " 'aspect_ratio',\n",
       " 'movie_facebook_likes']"
      ]
     },
     "execution_count": 36,
     "metadata": {},
     "output_type": "execute_result"
    }
   ],
   "source": [
    "num_data.columns.tolist()"
   ]
  },
  {
   "cell_type": "code",
   "execution_count": 37,
   "metadata": {
    "collapsed": true
   },
   "outputs": [],
   "source": [
    "num_data.drop([\n",
    " 'actor_3_facebook_likes',\n",
    " 'actor_1_facebook_likes',\n",
    " 'cast_total_facebook_likes',\n",
    " 'facenumber_in_poster',\n",
    " 'budget',\n",
    " 'actor_2_facebook_likes',\n",
    " 'aspect_ratio'],inplace = True,axis = 1)"
   ]
  },
  {
   "cell_type": "code",
   "execution_count": 38,
   "metadata": {},
   "outputs": [
    {
     "data": {
      "text/plain": [
       "movie_facebook_likes       0\n",
       "imdb_score                 0\n",
       "num_user_for_reviews       0\n",
       "num_voted_users            0\n",
       "gross                      0\n",
       "director_facebook_likes    0\n",
       "duration                   0\n",
       "num_critic_for_reviews     0\n",
       "dtype: int64"
      ]
     },
     "execution_count": 38,
     "metadata": {},
     "output_type": "execute_result"
    }
   ],
   "source": [
    "num_data.isnull().sum().sort_values(ascending = False)"
   ]
  },
  {
   "cell_type": "code",
   "execution_count": 39,
   "metadata": {},
   "outputs": [
    {
     "data": {
      "text/plain": [
       "num_critic_for_reviews          159.0\n",
       "duration                        107.0\n",
       "director_facebook_likes          79.0\n",
       "gross                      36874745.0\n",
       "num_voted_users               68935.0\n",
       "num_user_for_reviews            248.0\n",
       "imdb_score                        6.7\n",
       "movie_facebook_likes              0.0\n",
       "dtype: float64"
      ]
     },
     "execution_count": 39,
     "metadata": {},
     "output_type": "execute_result"
    }
   ],
   "source": [
    "num_data.median()"
   ]
  },
  {
   "cell_type": "markdown",
   "metadata": {},
   "source": [
    "# Imputing NaN with Median (Because data has outliers)¶\n"
   ]
  },
  {
   "cell_type": "code",
   "execution_count": 40,
   "metadata": {},
   "outputs": [
    {
     "data": {
      "text/html": [
       "<div>\n",
       "<style>\n",
       "    .dataframe thead tr:only-child th {\n",
       "        text-align: right;\n",
       "    }\n",
       "\n",
       "    .dataframe thead th {\n",
       "        text-align: left;\n",
       "    }\n",
       "\n",
       "    .dataframe tbody tr th {\n",
       "        vertical-align: top;\n",
       "    }\n",
       "</style>\n",
       "<table border=\"1\" class=\"dataframe\">\n",
       "  <thead>\n",
       "    <tr style=\"text-align: right;\">\n",
       "      <th></th>\n",
       "      <th>num_critic_for_reviews</th>\n",
       "      <th>duration</th>\n",
       "      <th>director_facebook_likes</th>\n",
       "      <th>gross</th>\n",
       "      <th>num_voted_users</th>\n",
       "      <th>num_user_for_reviews</th>\n",
       "      <th>imdb_score</th>\n",
       "      <th>movie_facebook_likes</th>\n",
       "    </tr>\n",
       "  </thead>\n",
       "  <tbody>\n",
       "    <tr>\n",
       "      <th>0</th>\n",
       "      <td>723.0</td>\n",
       "      <td>178.0</td>\n",
       "      <td>0.0</td>\n",
       "      <td>760505847.0</td>\n",
       "      <td>886204</td>\n",
       "      <td>3054.0</td>\n",
       "      <td>7.9</td>\n",
       "      <td>33000</td>\n",
       "    </tr>\n",
       "    <tr>\n",
       "      <th>1</th>\n",
       "      <td>302.0</td>\n",
       "      <td>169.0</td>\n",
       "      <td>563.0</td>\n",
       "      <td>309404152.0</td>\n",
       "      <td>471220</td>\n",
       "      <td>1238.0</td>\n",
       "      <td>7.1</td>\n",
       "      <td>0</td>\n",
       "    </tr>\n",
       "    <tr>\n",
       "      <th>2</th>\n",
       "      <td>602.0</td>\n",
       "      <td>148.0</td>\n",
       "      <td>0.0</td>\n",
       "      <td>200074175.0</td>\n",
       "      <td>275868</td>\n",
       "      <td>994.0</td>\n",
       "      <td>6.8</td>\n",
       "      <td>85000</td>\n",
       "    </tr>\n",
       "    <tr>\n",
       "      <th>3</th>\n",
       "      <td>813.0</td>\n",
       "      <td>164.0</td>\n",
       "      <td>22000.0</td>\n",
       "      <td>448130642.0</td>\n",
       "      <td>1144337</td>\n",
       "      <td>2701.0</td>\n",
       "      <td>8.5</td>\n",
       "      <td>164000</td>\n",
       "    </tr>\n",
       "    <tr>\n",
       "      <th>5</th>\n",
       "      <td>462.0</td>\n",
       "      <td>132.0</td>\n",
       "      <td>475.0</td>\n",
       "      <td>73058679.0</td>\n",
       "      <td>212204</td>\n",
       "      <td>738.0</td>\n",
       "      <td>6.6</td>\n",
       "      <td>24000</td>\n",
       "    </tr>\n",
       "    <tr>\n",
       "      <th>6</th>\n",
       "      <td>392.0</td>\n",
       "      <td>156.0</td>\n",
       "      <td>0.0</td>\n",
       "      <td>336530303.0</td>\n",
       "      <td>383056</td>\n",
       "      <td>1902.0</td>\n",
       "      <td>6.2</td>\n",
       "      <td>0</td>\n",
       "    </tr>\n",
       "    <tr>\n",
       "      <th>7</th>\n",
       "      <td>324.0</td>\n",
       "      <td>100.0</td>\n",
       "      <td>15.0</td>\n",
       "      <td>200807262.0</td>\n",
       "      <td>294810</td>\n",
       "      <td>387.0</td>\n",
       "      <td>7.8</td>\n",
       "      <td>29000</td>\n",
       "    </tr>\n",
       "    <tr>\n",
       "      <th>8</th>\n",
       "      <td>635.0</td>\n",
       "      <td>141.0</td>\n",
       "      <td>0.0</td>\n",
       "      <td>458991599.0</td>\n",
       "      <td>462669</td>\n",
       "      <td>1117.0</td>\n",
       "      <td>7.5</td>\n",
       "      <td>118000</td>\n",
       "    </tr>\n",
       "    <tr>\n",
       "      <th>9</th>\n",
       "      <td>375.0</td>\n",
       "      <td>153.0</td>\n",
       "      <td>282.0</td>\n",
       "      <td>301956980.0</td>\n",
       "      <td>321795</td>\n",
       "      <td>973.0</td>\n",
       "      <td>7.5</td>\n",
       "      <td>10000</td>\n",
       "    </tr>\n",
       "    <tr>\n",
       "      <th>10</th>\n",
       "      <td>673.0</td>\n",
       "      <td>183.0</td>\n",
       "      <td>0.0</td>\n",
       "      <td>330249062.0</td>\n",
       "      <td>371639</td>\n",
       "      <td>3018.0</td>\n",
       "      <td>6.9</td>\n",
       "      <td>197000</td>\n",
       "    </tr>\n",
       "    <tr>\n",
       "      <th>11</th>\n",
       "      <td>434.0</td>\n",
       "      <td>169.0</td>\n",
       "      <td>0.0</td>\n",
       "      <td>200069408.0</td>\n",
       "      <td>240396</td>\n",
       "      <td>2367.0</td>\n",
       "      <td>6.1</td>\n",
       "      <td>0</td>\n",
       "    </tr>\n",
       "    <tr>\n",
       "      <th>12</th>\n",
       "      <td>403.0</td>\n",
       "      <td>106.0</td>\n",
       "      <td>395.0</td>\n",
       "      <td>168368427.0</td>\n",
       "      <td>330784</td>\n",
       "      <td>1243.0</td>\n",
       "      <td>6.7</td>\n",
       "      <td>0</td>\n",
       "    </tr>\n",
       "    <tr>\n",
       "      <th>13</th>\n",
       "      <td>313.0</td>\n",
       "      <td>151.0</td>\n",
       "      <td>563.0</td>\n",
       "      <td>423032628.0</td>\n",
       "      <td>522040</td>\n",
       "      <td>1832.0</td>\n",
       "      <td>7.3</td>\n",
       "      <td>5000</td>\n",
       "    </tr>\n",
       "    <tr>\n",
       "      <th>14</th>\n",
       "      <td>450.0</td>\n",
       "      <td>150.0</td>\n",
       "      <td>563.0</td>\n",
       "      <td>89289910.0</td>\n",
       "      <td>181792</td>\n",
       "      <td>711.0</td>\n",
       "      <td>6.5</td>\n",
       "      <td>48000</td>\n",
       "    </tr>\n",
       "    <tr>\n",
       "      <th>15</th>\n",
       "      <td>733.0</td>\n",
       "      <td>143.0</td>\n",
       "      <td>0.0</td>\n",
       "      <td>291021565.0</td>\n",
       "      <td>548573</td>\n",
       "      <td>2536.0</td>\n",
       "      <td>7.2</td>\n",
       "      <td>118000</td>\n",
       "    </tr>\n",
       "    <tr>\n",
       "      <th>16</th>\n",
       "      <td>258.0</td>\n",
       "      <td>150.0</td>\n",
       "      <td>80.0</td>\n",
       "      <td>141614023.0</td>\n",
       "      <td>149922</td>\n",
       "      <td>438.0</td>\n",
       "      <td>6.6</td>\n",
       "      <td>0</td>\n",
       "    </tr>\n",
       "    <tr>\n",
       "      <th>17</th>\n",
       "      <td>703.0</td>\n",
       "      <td>173.0</td>\n",
       "      <td>0.0</td>\n",
       "      <td>623279547.0</td>\n",
       "      <td>995415</td>\n",
       "      <td>1722.0</td>\n",
       "      <td>8.1</td>\n",
       "      <td>123000</td>\n",
       "    </tr>\n",
       "    <tr>\n",
       "      <th>18</th>\n",
       "      <td>448.0</td>\n",
       "      <td>136.0</td>\n",
       "      <td>252.0</td>\n",
       "      <td>241063875.0</td>\n",
       "      <td>370704</td>\n",
       "      <td>484.0</td>\n",
       "      <td>6.7</td>\n",
       "      <td>58000</td>\n",
       "    </tr>\n",
       "    <tr>\n",
       "      <th>19</th>\n",
       "      <td>451.0</td>\n",
       "      <td>106.0</td>\n",
       "      <td>188.0</td>\n",
       "      <td>179020854.0</td>\n",
       "      <td>268154</td>\n",
       "      <td>341.0</td>\n",
       "      <td>6.8</td>\n",
       "      <td>40000</td>\n",
       "    </tr>\n",
       "    <tr>\n",
       "      <th>20</th>\n",
       "      <td>422.0</td>\n",
       "      <td>164.0</td>\n",
       "      <td>0.0</td>\n",
       "      <td>255108370.0</td>\n",
       "      <td>354228</td>\n",
       "      <td>802.0</td>\n",
       "      <td>7.5</td>\n",
       "      <td>65000</td>\n",
       "    </tr>\n",
       "    <tr>\n",
       "      <th>21</th>\n",
       "      <td>599.0</td>\n",
       "      <td>153.0</td>\n",
       "      <td>464.0</td>\n",
       "      <td>262030663.0</td>\n",
       "      <td>451803</td>\n",
       "      <td>1225.0</td>\n",
       "      <td>7.0</td>\n",
       "      <td>56000</td>\n",
       "    </tr>\n",
       "    <tr>\n",
       "      <th>22</th>\n",
       "      <td>343.0</td>\n",
       "      <td>156.0</td>\n",
       "      <td>0.0</td>\n",
       "      <td>105219735.0</td>\n",
       "      <td>211765</td>\n",
       "      <td>546.0</td>\n",
       "      <td>6.7</td>\n",
       "      <td>17000</td>\n",
       "    </tr>\n",
       "    <tr>\n",
       "      <th>23</th>\n",
       "      <td>509.0</td>\n",
       "      <td>186.0</td>\n",
       "      <td>0.0</td>\n",
       "      <td>258355354.0</td>\n",
       "      <td>483540</td>\n",
       "      <td>951.0</td>\n",
       "      <td>7.9</td>\n",
       "      <td>83000</td>\n",
       "    </tr>\n",
       "    <tr>\n",
       "      <th>24</th>\n",
       "      <td>251.0</td>\n",
       "      <td>113.0</td>\n",
       "      <td>129.0</td>\n",
       "      <td>70083519.0</td>\n",
       "      <td>149019</td>\n",
       "      <td>666.0</td>\n",
       "      <td>6.1</td>\n",
       "      <td>0</td>\n",
       "    </tr>\n",
       "    <tr>\n",
       "      <th>25</th>\n",
       "      <td>446.0</td>\n",
       "      <td>201.0</td>\n",
       "      <td>0.0</td>\n",
       "      <td>218051260.0</td>\n",
       "      <td>316018</td>\n",
       "      <td>2618.0</td>\n",
       "      <td>7.2</td>\n",
       "      <td>0</td>\n",
       "    </tr>\n",
       "    <tr>\n",
       "      <th>26</th>\n",
       "      <td>315.0</td>\n",
       "      <td>194.0</td>\n",
       "      <td>0.0</td>\n",
       "      <td>658672302.0</td>\n",
       "      <td>793059</td>\n",
       "      <td>2528.0</td>\n",
       "      <td>7.7</td>\n",
       "      <td>26000</td>\n",
       "    </tr>\n",
       "    <tr>\n",
       "      <th>27</th>\n",
       "      <td>516.0</td>\n",
       "      <td>147.0</td>\n",
       "      <td>94.0</td>\n",
       "      <td>407197282.0</td>\n",
       "      <td>272670</td>\n",
       "      <td>1022.0</td>\n",
       "      <td>8.2</td>\n",
       "      <td>72000</td>\n",
       "    </tr>\n",
       "    <tr>\n",
       "      <th>28</th>\n",
       "      <td>377.0</td>\n",
       "      <td>131.0</td>\n",
       "      <td>532.0</td>\n",
       "      <td>65173160.0</td>\n",
       "      <td>202382</td>\n",
       "      <td>751.0</td>\n",
       "      <td>5.9</td>\n",
       "      <td>44000</td>\n",
       "    </tr>\n",
       "    <tr>\n",
       "      <th>29</th>\n",
       "      <td>644.0</td>\n",
       "      <td>124.0</td>\n",
       "      <td>365.0</td>\n",
       "      <td>652177271.0</td>\n",
       "      <td>418214</td>\n",
       "      <td>1290.0</td>\n",
       "      <td>7.0</td>\n",
       "      <td>150000</td>\n",
       "    </tr>\n",
       "    <tr>\n",
       "      <th>30</th>\n",
       "      <td>750.0</td>\n",
       "      <td>143.0</td>\n",
       "      <td>0.0</td>\n",
       "      <td>304360277.0</td>\n",
       "      <td>522030</td>\n",
       "      <td>1498.0</td>\n",
       "      <td>7.8</td>\n",
       "      <td>80000</td>\n",
       "    </tr>\n",
       "    <tr>\n",
       "      <th>...</th>\n",
       "      <td>...</td>\n",
       "      <td>...</td>\n",
       "      <td>...</td>\n",
       "      <td>...</td>\n",
       "      <td>...</td>\n",
       "      <td>...</td>\n",
       "      <td>...</td>\n",
       "      <td>...</td>\n",
       "    </tr>\n",
       "    <tr>\n",
       "      <th>4830</th>\n",
       "      <td>131.0</td>\n",
       "      <td>80.0</td>\n",
       "      <td>54.0</td>\n",
       "      <td>2360184.0</td>\n",
       "      <td>18035</td>\n",
       "      <td>177.0</td>\n",
       "      <td>7.1</td>\n",
       "      <td>0</td>\n",
       "    </tr>\n",
       "    <tr>\n",
       "      <th>4833</th>\n",
       "      <td>189.0</td>\n",
       "      <td>80.0</td>\n",
       "      <td>129.0</td>\n",
       "      <td>856942.0</td>\n",
       "      <td>12241</td>\n",
       "      <td>112.0</td>\n",
       "      <td>7.1</td>\n",
       "      <td>0</td>\n",
       "    </tr>\n",
       "    <tr>\n",
       "      <th>4842</th>\n",
       "      <td>156.0</td>\n",
       "      <td>133.0</td>\n",
       "      <td>278.0</td>\n",
       "      <td>24343673.0</td>\n",
       "      <td>91863</td>\n",
       "      <td>524.0</td>\n",
       "      <td>7.4</td>\n",
       "      <td>14000</td>\n",
       "    </tr>\n",
       "    <tr>\n",
       "      <th>4851</th>\n",
       "      <td>286.0</td>\n",
       "      <td>90.0</td>\n",
       "      <td>25.0</td>\n",
       "      <td>318622.0</td>\n",
       "      <td>24668</td>\n",
       "      <td>175.0</td>\n",
       "      <td>6.4</td>\n",
       "      <td>0</td>\n",
       "    </tr>\n",
       "    <tr>\n",
       "      <th>4852</th>\n",
       "      <td>147.0</td>\n",
       "      <td>113.0</td>\n",
       "      <td>0.0</td>\n",
       "      <td>12006514.0</td>\n",
       "      <td>114070</td>\n",
       "      <td>500.0</td>\n",
       "      <td>7.3</td>\n",
       "      <td>0</td>\n",
       "    </tr>\n",
       "    <tr>\n",
       "      <th>4860</th>\n",
       "      <td>99.0</td>\n",
       "      <td>90.0</td>\n",
       "      <td>165.0</td>\n",
       "      <td>489220.0</td>\n",
       "      <td>160511</td>\n",
       "      <td>696.0</td>\n",
       "      <td>7.3</td>\n",
       "      <td>11000</td>\n",
       "    </tr>\n",
       "    <tr>\n",
       "      <th>4864</th>\n",
       "      <td>206.0</td>\n",
       "      <td>90.0</td>\n",
       "      <td>52.0</td>\n",
       "      <td>3388210.0</td>\n",
       "      <td>46813</td>\n",
       "      <td>150.0</td>\n",
       "      <td>6.7</td>\n",
       "      <td>12000</td>\n",
       "    </tr>\n",
       "    <tr>\n",
       "      <th>4896</th>\n",
       "      <td>77.0</td>\n",
       "      <td>96.0</td>\n",
       "      <td>218.0</td>\n",
       "      <td>4505922.0</td>\n",
       "      <td>63951</td>\n",
       "      <td>252.0</td>\n",
       "      <td>7.4</td>\n",
       "      <td>0</td>\n",
       "    </tr>\n",
       "    <tr>\n",
       "      <th>4897</th>\n",
       "      <td>122.0</td>\n",
       "      <td>99.0</td>\n",
       "      <td>0.0</td>\n",
       "      <td>3500000.0</td>\n",
       "      <td>147566</td>\n",
       "      <td>235.0</td>\n",
       "      <td>8.0</td>\n",
       "      <td>0</td>\n",
       "    </tr>\n",
       "    <tr>\n",
       "      <th>4905</th>\n",
       "      <td>450.0</td>\n",
       "      <td>106.0</td>\n",
       "      <td>0.0</td>\n",
       "      <td>32154410.0</td>\n",
       "      <td>148334</td>\n",
       "      <td>274.0</td>\n",
       "      <td>7.1</td>\n",
       "      <td>29000</td>\n",
       "    </tr>\n",
       "    <tr>\n",
       "      <th>4921</th>\n",
       "      <td>46.0</td>\n",
       "      <td>89.0</td>\n",
       "      <td>373.0</td>\n",
       "      <td>925402.0</td>\n",
       "      <td>27882</td>\n",
       "      <td>130.0</td>\n",
       "      <td>8.5</td>\n",
       "      <td>0</td>\n",
       "    </tr>\n",
       "    <tr>\n",
       "      <th>4922</th>\n",
       "      <td>143.0</td>\n",
       "      <td>97.0</td>\n",
       "      <td>131.0</td>\n",
       "      <td>469947.0</td>\n",
       "      <td>19846</td>\n",
       "      <td>68.0</td>\n",
       "      <td>7.7</td>\n",
       "      <td>0</td>\n",
       "    </tr>\n",
       "    <tr>\n",
       "      <th>4926</th>\n",
       "      <td>242.0</td>\n",
       "      <td>92.0</td>\n",
       "      <td>135.0</td>\n",
       "      <td>1316074.0</td>\n",
       "      <td>71387</td>\n",
       "      <td>228.0</td>\n",
       "      <td>7.0</td>\n",
       "      <td>21000</td>\n",
       "    </tr>\n",
       "    <tr>\n",
       "      <th>4931</th>\n",
       "      <td>232.0</td>\n",
       "      <td>85.0</td>\n",
       "      <td>109.0</td>\n",
       "      <td>9437933.0</td>\n",
       "      <td>90827</td>\n",
       "      <td>329.0</td>\n",
       "      <td>7.9</td>\n",
       "      <td>26000</td>\n",
       "    </tr>\n",
       "    <tr>\n",
       "      <th>4936</th>\n",
       "      <td>277.0</td>\n",
       "      <td>88.0</td>\n",
       "      <td>365.0</td>\n",
       "      <td>30859000.0</td>\n",
       "      <td>96411</td>\n",
       "      <td>826.0</td>\n",
       "      <td>7.5</td>\n",
       "      <td>0</td>\n",
       "    </tr>\n",
       "    <tr>\n",
       "      <th>4941</th>\n",
       "      <td>40.0</td>\n",
       "      <td>91.0</td>\n",
       "      <td>909.0</td>\n",
       "      <td>6706368.0</td>\n",
       "      <td>22800</td>\n",
       "      <td>133.0</td>\n",
       "      <td>7.5</td>\n",
       "      <td>667</td>\n",
       "    </tr>\n",
       "    <tr>\n",
       "      <th>4955</th>\n",
       "      <td>31.0</td>\n",
       "      <td>111.0</td>\n",
       "      <td>589.0</td>\n",
       "      <td>10174663.0</td>\n",
       "      <td>12399</td>\n",
       "      <td>382.0</td>\n",
       "      <td>6.7</td>\n",
       "      <td>0</td>\n",
       "    </tr>\n",
       "    <tr>\n",
       "      <th>4956</th>\n",
       "      <td>159.0</td>\n",
       "      <td>81.0</td>\n",
       "      <td>3.0</td>\n",
       "      <td>22757819.0</td>\n",
       "      <td>13521</td>\n",
       "      <td>150.0</td>\n",
       "      <td>4.2</td>\n",
       "      <td>0</td>\n",
       "    </tr>\n",
       "    <tr>\n",
       "      <th>4964</th>\n",
       "      <td>193.0</td>\n",
       "      <td>88.0</td>\n",
       "      <td>3.0</td>\n",
       "      <td>59379.0</td>\n",
       "      <td>12796</td>\n",
       "      <td>52.0</td>\n",
       "      <td>6.8</td>\n",
       "      <td>0</td>\n",
       "    </tr>\n",
       "    <tr>\n",
       "      <th>4971</th>\n",
       "      <td>241.0</td>\n",
       "      <td>114.0</td>\n",
       "      <td>29.0</td>\n",
       "      <td>32721635.0</td>\n",
       "      <td>67824</td>\n",
       "      <td>279.0</td>\n",
       "      <td>6.6</td>\n",
       "      <td>0</td>\n",
       "    </tr>\n",
       "    <tr>\n",
       "      <th>4973</th>\n",
       "      <td>138.0</td>\n",
       "      <td>84.0</td>\n",
       "      <td>0.0</td>\n",
       "      <td>3216970.0</td>\n",
       "      <td>142619</td>\n",
       "      <td>586.0</td>\n",
       "      <td>7.5</td>\n",
       "      <td>24000</td>\n",
       "    </tr>\n",
       "    <tr>\n",
       "      <th>4977</th>\n",
       "      <td>193.0</td>\n",
       "      <td>100.0</td>\n",
       "      <td>293.0</td>\n",
       "      <td>11529368.0</td>\n",
       "      <td>85028</td>\n",
       "      <td>404.0</td>\n",
       "      <td>7.3</td>\n",
       "      <td>0</td>\n",
       "    </tr>\n",
       "    <tr>\n",
       "      <th>4987</th>\n",
       "      <td>113.0</td>\n",
       "      <td>98.0</td>\n",
       "      <td>969.0</td>\n",
       "      <td>389804.0</td>\n",
       "      <td>11816</td>\n",
       "      <td>35.0</td>\n",
       "      <td>6.3</td>\n",
       "      <td>0</td>\n",
       "    </tr>\n",
       "    <tr>\n",
       "      <th>5008</th>\n",
       "      <td>136.0</td>\n",
       "      <td>102.0</td>\n",
       "      <td>0.0</td>\n",
       "      <td>3151130.0</td>\n",
       "      <td>181749</td>\n",
       "      <td>615.0</td>\n",
       "      <td>7.8</td>\n",
       "      <td>0</td>\n",
       "    </tr>\n",
       "    <tr>\n",
       "      <th>5011</th>\n",
       "      <td>80.0</td>\n",
       "      <td>97.0</td>\n",
       "      <td>119.0</td>\n",
       "      <td>2856622.0</td>\n",
       "      <td>11550</td>\n",
       "      <td>197.0</td>\n",
       "      <td>7.3</td>\n",
       "      <td>489</td>\n",
       "    </tr>\n",
       "    <tr>\n",
       "      <th>5012</th>\n",
       "      <td>233.0</td>\n",
       "      <td>109.0</td>\n",
       "      <td>453.0</td>\n",
       "      <td>10499968.0</td>\n",
       "      <td>47502</td>\n",
       "      <td>212.0</td>\n",
       "      <td>5.7</td>\n",
       "      <td>10000</td>\n",
       "    </tr>\n",
       "    <tr>\n",
       "      <th>5015</th>\n",
       "      <td>61.0</td>\n",
       "      <td>100.0</td>\n",
       "      <td>0.0</td>\n",
       "      <td>1227508.0</td>\n",
       "      <td>15103</td>\n",
       "      <td>80.0</td>\n",
       "      <td>7.1</td>\n",
       "      <td>2000</td>\n",
       "    </tr>\n",
       "    <tr>\n",
       "      <th>5025</th>\n",
       "      <td>73.0</td>\n",
       "      <td>108.0</td>\n",
       "      <td>0.0</td>\n",
       "      <td>180483.0</td>\n",
       "      <td>16792</td>\n",
       "      <td>183.0</td>\n",
       "      <td>6.1</td>\n",
       "      <td>0</td>\n",
       "    </tr>\n",
       "    <tr>\n",
       "      <th>5033</th>\n",
       "      <td>143.0</td>\n",
       "      <td>77.0</td>\n",
       "      <td>291.0</td>\n",
       "      <td>424760.0</td>\n",
       "      <td>72639</td>\n",
       "      <td>371.0</td>\n",
       "      <td>7.0</td>\n",
       "      <td>19000</td>\n",
       "    </tr>\n",
       "    <tr>\n",
       "      <th>5035</th>\n",
       "      <td>56.0</td>\n",
       "      <td>81.0</td>\n",
       "      <td>0.0</td>\n",
       "      <td>2040920.0</td>\n",
       "      <td>52055</td>\n",
       "      <td>130.0</td>\n",
       "      <td>6.9</td>\n",
       "      <td>0</td>\n",
       "    </tr>\n",
       "  </tbody>\n",
       "</table>\n",
       "<p>3167 rows × 8 columns</p>\n",
       "</div>"
      ],
      "text/plain": [
       "      num_critic_for_reviews  duration  director_facebook_likes        gross  \\\n",
       "0                      723.0     178.0                      0.0  760505847.0   \n",
       "1                      302.0     169.0                    563.0  309404152.0   \n",
       "2                      602.0     148.0                      0.0  200074175.0   \n",
       "3                      813.0     164.0                  22000.0  448130642.0   \n",
       "5                      462.0     132.0                    475.0   73058679.0   \n",
       "6                      392.0     156.0                      0.0  336530303.0   \n",
       "7                      324.0     100.0                     15.0  200807262.0   \n",
       "8                      635.0     141.0                      0.0  458991599.0   \n",
       "9                      375.0     153.0                    282.0  301956980.0   \n",
       "10                     673.0     183.0                      0.0  330249062.0   \n",
       "11                     434.0     169.0                      0.0  200069408.0   \n",
       "12                     403.0     106.0                    395.0  168368427.0   \n",
       "13                     313.0     151.0                    563.0  423032628.0   \n",
       "14                     450.0     150.0                    563.0   89289910.0   \n",
       "15                     733.0     143.0                      0.0  291021565.0   \n",
       "16                     258.0     150.0                     80.0  141614023.0   \n",
       "17                     703.0     173.0                      0.0  623279547.0   \n",
       "18                     448.0     136.0                    252.0  241063875.0   \n",
       "19                     451.0     106.0                    188.0  179020854.0   \n",
       "20                     422.0     164.0                      0.0  255108370.0   \n",
       "21                     599.0     153.0                    464.0  262030663.0   \n",
       "22                     343.0     156.0                      0.0  105219735.0   \n",
       "23                     509.0     186.0                      0.0  258355354.0   \n",
       "24                     251.0     113.0                    129.0   70083519.0   \n",
       "25                     446.0     201.0                      0.0  218051260.0   \n",
       "26                     315.0     194.0                      0.0  658672302.0   \n",
       "27                     516.0     147.0                     94.0  407197282.0   \n",
       "28                     377.0     131.0                    532.0   65173160.0   \n",
       "29                     644.0     124.0                    365.0  652177271.0   \n",
       "30                     750.0     143.0                      0.0  304360277.0   \n",
       "...                      ...       ...                      ...          ...   \n",
       "4830                   131.0      80.0                     54.0    2360184.0   \n",
       "4833                   189.0      80.0                    129.0     856942.0   \n",
       "4842                   156.0     133.0                    278.0   24343673.0   \n",
       "4851                   286.0      90.0                     25.0     318622.0   \n",
       "4852                   147.0     113.0                      0.0   12006514.0   \n",
       "4860                    99.0      90.0                    165.0     489220.0   \n",
       "4864                   206.0      90.0                     52.0    3388210.0   \n",
       "4896                    77.0      96.0                    218.0    4505922.0   \n",
       "4897                   122.0      99.0                      0.0    3500000.0   \n",
       "4905                   450.0     106.0                      0.0   32154410.0   \n",
       "4921                    46.0      89.0                    373.0     925402.0   \n",
       "4922                   143.0      97.0                    131.0     469947.0   \n",
       "4926                   242.0      92.0                    135.0    1316074.0   \n",
       "4931                   232.0      85.0                    109.0    9437933.0   \n",
       "4936                   277.0      88.0                    365.0   30859000.0   \n",
       "4941                    40.0      91.0                    909.0    6706368.0   \n",
       "4955                    31.0     111.0                    589.0   10174663.0   \n",
       "4956                   159.0      81.0                      3.0   22757819.0   \n",
       "4964                   193.0      88.0                      3.0      59379.0   \n",
       "4971                   241.0     114.0                     29.0   32721635.0   \n",
       "4973                   138.0      84.0                      0.0    3216970.0   \n",
       "4977                   193.0     100.0                    293.0   11529368.0   \n",
       "4987                   113.0      98.0                    969.0     389804.0   \n",
       "5008                   136.0     102.0                      0.0    3151130.0   \n",
       "5011                    80.0      97.0                    119.0    2856622.0   \n",
       "5012                   233.0     109.0                    453.0   10499968.0   \n",
       "5015                    61.0     100.0                      0.0    1227508.0   \n",
       "5025                    73.0     108.0                      0.0     180483.0   \n",
       "5033                   143.0      77.0                    291.0     424760.0   \n",
       "5035                    56.0      81.0                      0.0    2040920.0   \n",
       "\n",
       "      num_voted_users  num_user_for_reviews  imdb_score  movie_facebook_likes  \n",
       "0              886204                3054.0         7.9                 33000  \n",
       "1              471220                1238.0         7.1                     0  \n",
       "2              275868                 994.0         6.8                 85000  \n",
       "3             1144337                2701.0         8.5                164000  \n",
       "5              212204                 738.0         6.6                 24000  \n",
       "6              383056                1902.0         6.2                     0  \n",
       "7              294810                 387.0         7.8                 29000  \n",
       "8              462669                1117.0         7.5                118000  \n",
       "9              321795                 973.0         7.5                 10000  \n",
       "10             371639                3018.0         6.9                197000  \n",
       "11             240396                2367.0         6.1                     0  \n",
       "12             330784                1243.0         6.7                     0  \n",
       "13             522040                1832.0         7.3                  5000  \n",
       "14             181792                 711.0         6.5                 48000  \n",
       "15             548573                2536.0         7.2                118000  \n",
       "16             149922                 438.0         6.6                     0  \n",
       "17             995415                1722.0         8.1                123000  \n",
       "18             370704                 484.0         6.7                 58000  \n",
       "19             268154                 341.0         6.8                 40000  \n",
       "20             354228                 802.0         7.5                 65000  \n",
       "21             451803                1225.0         7.0                 56000  \n",
       "22             211765                 546.0         6.7                 17000  \n",
       "23             483540                 951.0         7.9                 83000  \n",
       "24             149019                 666.0         6.1                     0  \n",
       "25             316018                2618.0         7.2                     0  \n",
       "26             793059                2528.0         7.7                 26000  \n",
       "27             272670                1022.0         8.2                 72000  \n",
       "28             202382                 751.0         5.9                 44000  \n",
       "29             418214                1290.0         7.0                150000  \n",
       "30             522030                1498.0         7.8                 80000  \n",
       "...               ...                   ...         ...                   ...  \n",
       "4830            18035                 177.0         7.1                     0  \n",
       "4833            12241                 112.0         7.1                     0  \n",
       "4842            91863                 524.0         7.4                 14000  \n",
       "4851            24668                 175.0         6.4                     0  \n",
       "4852           114070                 500.0         7.3                     0  \n",
       "4860           160511                 696.0         7.3                 11000  \n",
       "4864            46813                 150.0         6.7                 12000  \n",
       "4896            63951                 252.0         7.4                     0  \n",
       "4897           147566                 235.0         8.0                     0  \n",
       "4905           148334                 274.0         7.1                 29000  \n",
       "4921            27882                 130.0         8.5                     0  \n",
       "4922            19846                  68.0         7.7                     0  \n",
       "4926            71387                 228.0         7.0                 21000  \n",
       "4931            90827                 329.0         7.9                 26000  \n",
       "4936            96411                 826.0         7.5                     0  \n",
       "4941            22800                 133.0         7.5                   667  \n",
       "4955            12399                 382.0         6.7                     0  \n",
       "4956            13521                 150.0         4.2                     0  \n",
       "4964            12796                  52.0         6.8                     0  \n",
       "4971            67824                 279.0         6.6                     0  \n",
       "4973           142619                 586.0         7.5                 24000  \n",
       "4977            85028                 404.0         7.3                     0  \n",
       "4987            11816                  35.0         6.3                     0  \n",
       "5008           181749                 615.0         7.8                     0  \n",
       "5011            11550                 197.0         7.3                   489  \n",
       "5012            47502                 212.0         5.7                 10000  \n",
       "5015            15103                  80.0         7.1                  2000  \n",
       "5025            16792                 183.0         6.1                     0  \n",
       "5033            72639                 371.0         7.0                 19000  \n",
       "5035            52055                 130.0         6.9                     0  \n",
       "\n",
       "[3167 rows x 8 columns]"
      ]
     },
     "execution_count": 40,
     "metadata": {},
     "output_type": "execute_result"
    }
   ],
   "source": [
    "num_data.fillna(num_data.median(),inplace = True)"
   ]
  },
  {
   "cell_type": "markdown",
   "metadata": {},
   "source": [
    "# Categorical Variable Genre"
   ]
  },
  {
   "cell_type": "code",
   "execution_count": 41,
   "metadata": {},
   "outputs": [
    {
     "data": {
      "text/html": [
       "<div>\n",
       "<style>\n",
       "    .dataframe thead tr:only-child th {\n",
       "        text-align: right;\n",
       "    }\n",
       "\n",
       "    .dataframe thead th {\n",
       "        text-align: left;\n",
       "    }\n",
       "\n",
       "    .dataframe tbody tr th {\n",
       "        vertical-align: top;\n",
       "    }\n",
       "</style>\n",
       "<table border=\"1\" class=\"dataframe\">\n",
       "  <thead>\n",
       "    <tr style=\"text-align: right;\">\n",
       "      <th></th>\n",
       "      <th>color</th>\n",
       "      <th>director_name</th>\n",
       "      <th>actor_2_name</th>\n",
       "      <th>genres</th>\n",
       "      <th>actor_1_name</th>\n",
       "      <th>movie_title</th>\n",
       "      <th>actor_3_name</th>\n",
       "      <th>plot_keywords</th>\n",
       "      <th>movie_imdb_link</th>\n",
       "      <th>language</th>\n",
       "      <th>country</th>\n",
       "      <th>content_rating</th>\n",
       "    </tr>\n",
       "  </thead>\n",
       "  <tbody>\n",
       "    <tr>\n",
       "      <th>0</th>\n",
       "      <td>Color</td>\n",
       "      <td>James Cameron</td>\n",
       "      <td>Joel David Moore</td>\n",
       "      <td>Action|Adventure|Fantasy|Sci-Fi</td>\n",
       "      <td>CCH Pounder</td>\n",
       "      <td>Avatar</td>\n",
       "      <td>Wes Studi</td>\n",
       "      <td>avatar|future|marine|native|paraplegic</td>\n",
       "      <td>http://www.imdb.com/title/tt0499549/?ref_=fn_t...</td>\n",
       "      <td>English</td>\n",
       "      <td>USA</td>\n",
       "      <td>PG-13</td>\n",
       "    </tr>\n",
       "    <tr>\n",
       "      <th>1</th>\n",
       "      <td>Color</td>\n",
       "      <td>Gore Verbinski</td>\n",
       "      <td>Orlando Bloom</td>\n",
       "      <td>Action|Adventure|Fantasy</td>\n",
       "      <td>Johnny Depp</td>\n",
       "      <td>Pirates of the Caribbean: At World's End</td>\n",
       "      <td>Jack Davenport</td>\n",
       "      <td>goddess|marriage ceremony|marriage proposal|pi...</td>\n",
       "      <td>http://www.imdb.com/title/tt0449088/?ref_=fn_t...</td>\n",
       "      <td>English</td>\n",
       "      <td>USA</td>\n",
       "      <td>PG-13</td>\n",
       "    </tr>\n",
       "    <tr>\n",
       "      <th>2</th>\n",
       "      <td>Color</td>\n",
       "      <td>Sam Mendes</td>\n",
       "      <td>Rory Kinnear</td>\n",
       "      <td>Action|Adventure|Thriller</td>\n",
       "      <td>Christoph Waltz</td>\n",
       "      <td>Spectre</td>\n",
       "      <td>Stephanie Sigman</td>\n",
       "      <td>bomb|espionage|sequel|spy|terrorist</td>\n",
       "      <td>http://www.imdb.com/title/tt2379713/?ref_=fn_t...</td>\n",
       "      <td>English</td>\n",
       "      <td>UK</td>\n",
       "      <td>PG-13</td>\n",
       "    </tr>\n",
       "    <tr>\n",
       "      <th>3</th>\n",
       "      <td>Color</td>\n",
       "      <td>Christopher Nolan</td>\n",
       "      <td>Christian Bale</td>\n",
       "      <td>Action|Thriller</td>\n",
       "      <td>Tom Hardy</td>\n",
       "      <td>The Dark Knight Rises</td>\n",
       "      <td>Joseph Gordon-Levitt</td>\n",
       "      <td>deception|imprisonment|lawlessness|police offi...</td>\n",
       "      <td>http://www.imdb.com/title/tt1345836/?ref_=fn_t...</td>\n",
       "      <td>English</td>\n",
       "      <td>USA</td>\n",
       "      <td>PG-13</td>\n",
       "    </tr>\n",
       "    <tr>\n",
       "      <th>5</th>\n",
       "      <td>Color</td>\n",
       "      <td>Andrew Stanton</td>\n",
       "      <td>Samantha Morton</td>\n",
       "      <td>Action|Adventure|Sci-Fi</td>\n",
       "      <td>Daryl Sabara</td>\n",
       "      <td>John Carter</td>\n",
       "      <td>Polly Walker</td>\n",
       "      <td>alien|american civil war|male nipple|mars|prin...</td>\n",
       "      <td>http://www.imdb.com/title/tt0401729/?ref_=fn_t...</td>\n",
       "      <td>English</td>\n",
       "      <td>USA</td>\n",
       "      <td>PG-13</td>\n",
       "    </tr>\n",
       "  </tbody>\n",
       "</table>\n",
       "</div>"
      ],
      "text/plain": [
       "   color      director_name      actor_2_name  \\\n",
       "0  Color      James Cameron  Joel David Moore   \n",
       "1  Color     Gore Verbinski     Orlando Bloom   \n",
       "2  Color         Sam Mendes      Rory Kinnear   \n",
       "3  Color  Christopher Nolan    Christian Bale   \n",
       "5  Color     Andrew Stanton   Samantha Morton   \n",
       "\n",
       "                            genres     actor_1_name  \\\n",
       "0  Action|Adventure|Fantasy|Sci-Fi      CCH Pounder   \n",
       "1         Action|Adventure|Fantasy      Johnny Depp   \n",
       "2        Action|Adventure|Thriller  Christoph Waltz   \n",
       "3                  Action|Thriller        Tom Hardy   \n",
       "5          Action|Adventure|Sci-Fi     Daryl Sabara   \n",
       "\n",
       "                                 movie_title          actor_3_name  \\\n",
       "0                                    Avatar              Wes Studi   \n",
       "1  Pirates of the Caribbean: At World's End         Jack Davenport   \n",
       "2                                   Spectre       Stephanie Sigman   \n",
       "3                     The Dark Knight Rises   Joseph Gordon-Levitt   \n",
       "5                               John Carter           Polly Walker   \n",
       "\n",
       "                                       plot_keywords  \\\n",
       "0             avatar|future|marine|native|paraplegic   \n",
       "1  goddess|marriage ceremony|marriage proposal|pi...   \n",
       "2                bomb|espionage|sequel|spy|terrorist   \n",
       "3  deception|imprisonment|lawlessness|police offi...   \n",
       "5  alien|american civil war|male nipple|mars|prin...   \n",
       "\n",
       "                                     movie_imdb_link language country  \\\n",
       "0  http://www.imdb.com/title/tt0499549/?ref_=fn_t...  English     USA   \n",
       "1  http://www.imdb.com/title/tt0449088/?ref_=fn_t...  English     USA   \n",
       "2  http://www.imdb.com/title/tt2379713/?ref_=fn_t...  English      UK   \n",
       "3  http://www.imdb.com/title/tt1345836/?ref_=fn_t...  English     USA   \n",
       "5  http://www.imdb.com/title/tt0401729/?ref_=fn_t...  English     USA   \n",
       "\n",
       "  content_rating  \n",
       "0          PG-13  \n",
       "1          PG-13  \n",
       "2          PG-13  \n",
       "3          PG-13  \n",
       "5          PG-13  "
      ]
     },
     "execution_count": 41,
     "metadata": {},
     "output_type": "execute_result"
    }
   ],
   "source": [
    "cat_data.head()"
   ]
  },
  {
   "cell_type": "code",
   "execution_count": 42,
   "metadata": {
    "collapsed": true
   },
   "outputs": [],
   "source": [
    "df_genres = pd.DataFrame(cat_data['genres'])\n",
    "df_genres = pd.DataFrame(df_genres.genres.str.split('|').tolist(),columns = [\"Genre_\"+str(i) for i in  range(0,8)] )\n",
    "\n",
    "df_genres = df_genres.reindex(cat_data.index)\n",
    "\n",
    "\n",
    "cat_data.drop('genres',inplace = True, axis = 1)\n",
    "cat_data = cat_data.merge(df_genres,left_index = True,right_index = True)"
   ]
  },
  {
   "cell_type": "code",
   "execution_count": 43,
   "metadata": {},
   "outputs": [
    {
     "data": {
      "text/plain": [
       "(3167, 19)"
      ]
     },
     "execution_count": 43,
     "metadata": {},
     "output_type": "execute_result"
    }
   ],
   "source": [
    "cat_data.shape\n",
    "#df_genres.head()"
   ]
  },
  {
   "cell_type": "markdown",
   "metadata": {},
   "source": [
    "Plot Keywords Handling"
   ]
  },
  {
   "cell_type": "code",
   "execution_count": 44,
   "metadata": {
    "collapsed": true
   },
   "outputs": [],
   "source": [
    "df_plot_keywords = pd.DataFrame(cat_data['plot_keywords'])\n",
    "df_plot_keywords = pd.DataFrame(df_plot_keywords.plot_keywords.str.split('|').tolist(),columns = [\"plot_keywords_\"+str(i) for i in  range(0,5)] )\n",
    "cat_data.drop('plot_keywords',inplace = True, axis = 1)\n",
    "df_plot_keywords = df_plot_keywords.reindex(cat_data.index)\n",
    "cat_data = cat_data.merge(df_plot_keywords,left_index = True,right_index = True)"
   ]
  },
  {
   "cell_type": "code",
   "execution_count": 45,
   "metadata": {},
   "outputs": [
    {
     "data": {
      "text/html": [
       "<div>\n",
       "<style>\n",
       "    .dataframe thead tr:only-child th {\n",
       "        text-align: right;\n",
       "    }\n",
       "\n",
       "    .dataframe thead th {\n",
       "        text-align: left;\n",
       "    }\n",
       "\n",
       "    .dataframe tbody tr th {\n",
       "        vertical-align: top;\n",
       "    }\n",
       "</style>\n",
       "<table border=\"1\" class=\"dataframe\">\n",
       "  <thead>\n",
       "    <tr style=\"text-align: right;\">\n",
       "      <th></th>\n",
       "      <th>color</th>\n",
       "      <th>director_name</th>\n",
       "      <th>actor_2_name</th>\n",
       "      <th>actor_1_name</th>\n",
       "      <th>movie_title</th>\n",
       "      <th>actor_3_name</th>\n",
       "      <th>movie_imdb_link</th>\n",
       "      <th>language</th>\n",
       "      <th>country</th>\n",
       "      <th>content_rating</th>\n",
       "      <th>Genre_0</th>\n",
       "      <th>Genre_1</th>\n",
       "      <th>Genre_2</th>\n",
       "      <th>Genre_3</th>\n",
       "      <th>Genre_4</th>\n",
       "      <th>Genre_5</th>\n",
       "      <th>Genre_6</th>\n",
       "      <th>Genre_7</th>\n",
       "      <th>plot_keywords_0</th>\n",
       "      <th>plot_keywords_1</th>\n",
       "      <th>plot_keywords_2</th>\n",
       "      <th>plot_keywords_3</th>\n",
       "      <th>plot_keywords_4</th>\n",
       "    </tr>\n",
       "  </thead>\n",
       "  <tbody>\n",
       "    <tr>\n",
       "      <th>0</th>\n",
       "      <td>Color</td>\n",
       "      <td>James Cameron</td>\n",
       "      <td>Joel David Moore</td>\n",
       "      <td>CCH Pounder</td>\n",
       "      <td>Avatar</td>\n",
       "      <td>Wes Studi</td>\n",
       "      <td>http://www.imdb.com/title/tt0499549/?ref_=fn_t...</td>\n",
       "      <td>English</td>\n",
       "      <td>USA</td>\n",
       "      <td>PG-13</td>\n",
       "      <td>Action</td>\n",
       "      <td>Adventure</td>\n",
       "      <td>Fantasy</td>\n",
       "      <td>Sci-Fi</td>\n",
       "      <td>None</td>\n",
       "      <td>None</td>\n",
       "      <td>None</td>\n",
       "      <td>None</td>\n",
       "      <td>avatar</td>\n",
       "      <td>future</td>\n",
       "      <td>marine</td>\n",
       "      <td>native</td>\n",
       "      <td>paraplegic</td>\n",
       "    </tr>\n",
       "    <tr>\n",
       "      <th>1</th>\n",
       "      <td>Color</td>\n",
       "      <td>Gore Verbinski</td>\n",
       "      <td>Orlando Bloom</td>\n",
       "      <td>Johnny Depp</td>\n",
       "      <td>Pirates of the Caribbean: At World's End</td>\n",
       "      <td>Jack Davenport</td>\n",
       "      <td>http://www.imdb.com/title/tt0449088/?ref_=fn_t...</td>\n",
       "      <td>English</td>\n",
       "      <td>USA</td>\n",
       "      <td>PG-13</td>\n",
       "      <td>Action</td>\n",
       "      <td>Adventure</td>\n",
       "      <td>Fantasy</td>\n",
       "      <td>None</td>\n",
       "      <td>None</td>\n",
       "      <td>None</td>\n",
       "      <td>None</td>\n",
       "      <td>None</td>\n",
       "      <td>goddess</td>\n",
       "      <td>marriage ceremony</td>\n",
       "      <td>marriage proposal</td>\n",
       "      <td>pirate</td>\n",
       "      <td>singapore</td>\n",
       "    </tr>\n",
       "  </tbody>\n",
       "</table>\n",
       "</div>"
      ],
      "text/plain": [
       "   color   director_name      actor_2_name actor_1_name  \\\n",
       "0  Color   James Cameron  Joel David Moore  CCH Pounder   \n",
       "1  Color  Gore Verbinski     Orlando Bloom  Johnny Depp   \n",
       "\n",
       "                                 movie_title    actor_3_name  \\\n",
       "0                                    Avatar        Wes Studi   \n",
       "1  Pirates of the Caribbean: At World's End   Jack Davenport   \n",
       "\n",
       "                                     movie_imdb_link language country  \\\n",
       "0  http://www.imdb.com/title/tt0499549/?ref_=fn_t...  English     USA   \n",
       "1  http://www.imdb.com/title/tt0449088/?ref_=fn_t...  English     USA   \n",
       "\n",
       "  content_rating Genre_0    Genre_1  Genre_2 Genre_3 Genre_4 Genre_5 Genre_6  \\\n",
       "0          PG-13  Action  Adventure  Fantasy  Sci-Fi    None    None    None   \n",
       "1          PG-13  Action  Adventure  Fantasy    None    None    None    None   \n",
       "\n",
       "  Genre_7 plot_keywords_0    plot_keywords_1    plot_keywords_2  \\\n",
       "0    None          avatar             future             marine   \n",
       "1    None         goddess  marriage ceremony  marriage proposal   \n",
       "\n",
       "  plot_keywords_3 plot_keywords_4  \n",
       "0          native      paraplegic  \n",
       "1          pirate       singapore  "
      ]
     },
     "execution_count": 45,
     "metadata": {},
     "output_type": "execute_result"
    }
   ],
   "source": [
    "cat_data.head(2)"
   ]
  },
  {
   "cell_type": "code",
   "execution_count": 46,
   "metadata": {},
   "outputs": [
    {
     "data": {
      "text/plain": [
       "(3167, 23)"
      ]
     },
     "execution_count": 46,
     "metadata": {},
     "output_type": "execute_result"
    }
   ],
   "source": [
    "cat_data.shape"
   ]
  },
  {
   "cell_type": "markdown",
   "metadata": {},
   "source": [
    "Filling NaN values in Categorical Features with Mode"
   ]
  },
  {
   "cell_type": "code",
   "execution_count": 47,
   "metadata": {},
   "outputs": [
    {
     "data": {
      "text/plain": [
       "color                 2\n",
       "Genre_7               3\n",
       "Genre_6               9\n",
       "Genre_5              11\n",
       "content_rating       12\n",
       "Genre_4              16\n",
       "Genre_0              16\n",
       "Genre_3              17\n",
       "Genre_2              20\n",
       "Genre_1              21\n",
       "language             29\n",
       "country              41\n",
       "actor_1_name       1174\n",
       "plot_keywords_0    1257\n",
       "director_name      1294\n",
       "plot_keywords_4    1422\n",
       "plot_keywords_1    1493\n",
       "plot_keywords_3    1515\n",
       "plot_keywords_2    1576\n",
       "actor_2_name       1834\n",
       "actor_3_name       2220\n",
       "movie_title        3069\n",
       "movie_imdb_link    3070\n",
       "dtype: int64"
      ]
     },
     "execution_count": 47,
     "metadata": {},
     "output_type": "execute_result"
    }
   ],
   "source": [
    "cat_data.nunique().sort_values()\n"
   ]
  },
  {
   "cell_type": "code",
   "execution_count": 48,
   "metadata": {},
   "outputs": [
    {
     "data": {
      "text/plain": [
       "Index(['color', 'director_name', 'actor_2_name', 'actor_1_name', 'movie_title',\n",
       "       'actor_3_name', 'movie_imdb_link', 'language', 'country',\n",
       "       'content_rating', 'Genre_0', 'Genre_1', 'Genre_2', 'Genre_3', 'Genre_4',\n",
       "       'Genre_5', 'Genre_6', 'Genre_7', 'plot_keywords_0', 'plot_keywords_1',\n",
       "       'plot_keywords_2', 'plot_keywords_3', 'plot_keywords_4'],\n",
       "      dtype='object')"
      ]
     },
     "execution_count": 48,
     "metadata": {},
     "output_type": "execute_result"
    }
   ],
   "source": [
    "cat_data.columns"
   ]
  },
  {
   "cell_type": "code",
   "execution_count": 49,
   "metadata": {
    "collapsed": true
   },
   "outputs": [],
   "source": [
    "cat_data.drop(['movie_imdb_link','Genre_6','Genre_7'],inplace = True, axis = 1)"
   ]
  },
  {
   "cell_type": "markdown",
   "metadata": {},
   "source": [
    "# Split Data before doing any transformations"
   ]
  },
  {
   "cell_type": "code",
   "execution_count": 50,
   "metadata": {
    "collapsed": true
   },
   "outputs": [],
   "source": [
    "whole_data = pd.concat([num_data,cat_data],axis = 1)"
   ]
  },
  {
   "cell_type": "code",
   "execution_count": 51,
   "metadata": {},
   "outputs": [
    {
     "data": {
      "text/html": [
       "<div>\n",
       "<style>\n",
       "    .dataframe thead tr:only-child th {\n",
       "        text-align: right;\n",
       "    }\n",
       "\n",
       "    .dataframe thead th {\n",
       "        text-align: left;\n",
       "    }\n",
       "\n",
       "    .dataframe tbody tr th {\n",
       "        vertical-align: top;\n",
       "    }\n",
       "</style>\n",
       "<table border=\"1\" class=\"dataframe\">\n",
       "  <thead>\n",
       "    <tr style=\"text-align: right;\">\n",
       "      <th></th>\n",
       "      <th>num_critic_for_reviews</th>\n",
       "      <th>duration</th>\n",
       "      <th>director_facebook_likes</th>\n",
       "      <th>gross</th>\n",
       "      <th>num_voted_users</th>\n",
       "      <th>num_user_for_reviews</th>\n",
       "      <th>imdb_score</th>\n",
       "      <th>movie_facebook_likes</th>\n",
       "      <th>color</th>\n",
       "      <th>director_name</th>\n",
       "      <th>actor_2_name</th>\n",
       "      <th>actor_1_name</th>\n",
       "      <th>movie_title</th>\n",
       "      <th>actor_3_name</th>\n",
       "      <th>language</th>\n",
       "      <th>country</th>\n",
       "      <th>content_rating</th>\n",
       "      <th>Genre_0</th>\n",
       "      <th>Genre_1</th>\n",
       "      <th>Genre_2</th>\n",
       "      <th>Genre_3</th>\n",
       "      <th>Genre_4</th>\n",
       "      <th>Genre_5</th>\n",
       "      <th>plot_keywords_0</th>\n",
       "      <th>plot_keywords_1</th>\n",
       "      <th>plot_keywords_2</th>\n",
       "      <th>plot_keywords_3</th>\n",
       "      <th>plot_keywords_4</th>\n",
       "    </tr>\n",
       "  </thead>\n",
       "  <tbody>\n",
       "    <tr>\n",
       "      <th>0</th>\n",
       "      <td>723.0</td>\n",
       "      <td>178.0</td>\n",
       "      <td>0.0</td>\n",
       "      <td>760505847.0</td>\n",
       "      <td>886204</td>\n",
       "      <td>3054.0</td>\n",
       "      <td>7.9</td>\n",
       "      <td>33000</td>\n",
       "      <td>Color</td>\n",
       "      <td>James Cameron</td>\n",
       "      <td>Joel David Moore</td>\n",
       "      <td>CCH Pounder</td>\n",
       "      <td>Avatar</td>\n",
       "      <td>Wes Studi</td>\n",
       "      <td>English</td>\n",
       "      <td>USA</td>\n",
       "      <td>PG-13</td>\n",
       "      <td>Action</td>\n",
       "      <td>Adventure</td>\n",
       "      <td>Fantasy</td>\n",
       "      <td>Sci-Fi</td>\n",
       "      <td>None</td>\n",
       "      <td>None</td>\n",
       "      <td>avatar</td>\n",
       "      <td>future</td>\n",
       "      <td>marine</td>\n",
       "      <td>native</td>\n",
       "      <td>paraplegic</td>\n",
       "    </tr>\n",
       "    <tr>\n",
       "      <th>1</th>\n",
       "      <td>302.0</td>\n",
       "      <td>169.0</td>\n",
       "      <td>563.0</td>\n",
       "      <td>309404152.0</td>\n",
       "      <td>471220</td>\n",
       "      <td>1238.0</td>\n",
       "      <td>7.1</td>\n",
       "      <td>0</td>\n",
       "      <td>Color</td>\n",
       "      <td>Gore Verbinski</td>\n",
       "      <td>Orlando Bloom</td>\n",
       "      <td>Johnny Depp</td>\n",
       "      <td>Pirates of the Caribbean: At World's End</td>\n",
       "      <td>Jack Davenport</td>\n",
       "      <td>English</td>\n",
       "      <td>USA</td>\n",
       "      <td>PG-13</td>\n",
       "      <td>Action</td>\n",
       "      <td>Adventure</td>\n",
       "      <td>Fantasy</td>\n",
       "      <td>None</td>\n",
       "      <td>None</td>\n",
       "      <td>None</td>\n",
       "      <td>goddess</td>\n",
       "      <td>marriage ceremony</td>\n",
       "      <td>marriage proposal</td>\n",
       "      <td>pirate</td>\n",
       "      <td>singapore</td>\n",
       "    </tr>\n",
       "    <tr>\n",
       "      <th>2</th>\n",
       "      <td>602.0</td>\n",
       "      <td>148.0</td>\n",
       "      <td>0.0</td>\n",
       "      <td>200074175.0</td>\n",
       "      <td>275868</td>\n",
       "      <td>994.0</td>\n",
       "      <td>6.8</td>\n",
       "      <td>85000</td>\n",
       "      <td>Color</td>\n",
       "      <td>Sam Mendes</td>\n",
       "      <td>Rory Kinnear</td>\n",
       "      <td>Christoph Waltz</td>\n",
       "      <td>Spectre</td>\n",
       "      <td>Stephanie Sigman</td>\n",
       "      <td>English</td>\n",
       "      <td>UK</td>\n",
       "      <td>PG-13</td>\n",
       "      <td>Action</td>\n",
       "      <td>Adventure</td>\n",
       "      <td>Thriller</td>\n",
       "      <td>None</td>\n",
       "      <td>None</td>\n",
       "      <td>None</td>\n",
       "      <td>bomb</td>\n",
       "      <td>espionage</td>\n",
       "      <td>sequel</td>\n",
       "      <td>spy</td>\n",
       "      <td>terrorist</td>\n",
       "    </tr>\n",
       "    <tr>\n",
       "      <th>3</th>\n",
       "      <td>813.0</td>\n",
       "      <td>164.0</td>\n",
       "      <td>22000.0</td>\n",
       "      <td>448130642.0</td>\n",
       "      <td>1144337</td>\n",
       "      <td>2701.0</td>\n",
       "      <td>8.5</td>\n",
       "      <td>164000</td>\n",
       "      <td>Color</td>\n",
       "      <td>Christopher Nolan</td>\n",
       "      <td>Christian Bale</td>\n",
       "      <td>Tom Hardy</td>\n",
       "      <td>The Dark Knight Rises</td>\n",
       "      <td>Joseph Gordon-Levitt</td>\n",
       "      <td>English</td>\n",
       "      <td>USA</td>\n",
       "      <td>PG-13</td>\n",
       "      <td>Action</td>\n",
       "      <td>Thriller</td>\n",
       "      <td>None</td>\n",
       "      <td>None</td>\n",
       "      <td>None</td>\n",
       "      <td>None</td>\n",
       "      <td>deception</td>\n",
       "      <td>imprisonment</td>\n",
       "      <td>lawlessness</td>\n",
       "      <td>police officer</td>\n",
       "      <td>terrorist plot</td>\n",
       "    </tr>\n",
       "    <tr>\n",
       "      <th>5</th>\n",
       "      <td>462.0</td>\n",
       "      <td>132.0</td>\n",
       "      <td>475.0</td>\n",
       "      <td>73058679.0</td>\n",
       "      <td>212204</td>\n",
       "      <td>738.0</td>\n",
       "      <td>6.6</td>\n",
       "      <td>24000</td>\n",
       "      <td>Color</td>\n",
       "      <td>Andrew Stanton</td>\n",
       "      <td>Samantha Morton</td>\n",
       "      <td>Daryl Sabara</td>\n",
       "      <td>John Carter</td>\n",
       "      <td>Polly Walker</td>\n",
       "      <td>English</td>\n",
       "      <td>USA</td>\n",
       "      <td>PG-13</td>\n",
       "      <td>Action</td>\n",
       "      <td>Adventure</td>\n",
       "      <td>Romance</td>\n",
       "      <td>None</td>\n",
       "      <td>None</td>\n",
       "      <td>None</td>\n",
       "      <td>sandman</td>\n",
       "      <td>spider man</td>\n",
       "      <td>symbiote</td>\n",
       "      <td>venom</td>\n",
       "      <td>villain</td>\n",
       "    </tr>\n",
       "  </tbody>\n",
       "</table>\n",
       "</div>"
      ],
      "text/plain": [
       "   num_critic_for_reviews  duration  director_facebook_likes        gross  \\\n",
       "0                   723.0     178.0                      0.0  760505847.0   \n",
       "1                   302.0     169.0                    563.0  309404152.0   \n",
       "2                   602.0     148.0                      0.0  200074175.0   \n",
       "3                   813.0     164.0                  22000.0  448130642.0   \n",
       "5                   462.0     132.0                    475.0   73058679.0   \n",
       "\n",
       "   num_voted_users  num_user_for_reviews  imdb_score  movie_facebook_likes  \\\n",
       "0           886204                3054.0         7.9                 33000   \n",
       "1           471220                1238.0         7.1                     0   \n",
       "2           275868                 994.0         6.8                 85000   \n",
       "3          1144337                2701.0         8.5                164000   \n",
       "5           212204                 738.0         6.6                 24000   \n",
       "\n",
       "   color      director_name      actor_2_name     actor_1_name  \\\n",
       "0  Color      James Cameron  Joel David Moore      CCH Pounder   \n",
       "1  Color     Gore Verbinski     Orlando Bloom      Johnny Depp   \n",
       "2  Color         Sam Mendes      Rory Kinnear  Christoph Waltz   \n",
       "3  Color  Christopher Nolan    Christian Bale        Tom Hardy   \n",
       "5  Color     Andrew Stanton   Samantha Morton     Daryl Sabara   \n",
       "\n",
       "                                 movie_title          actor_3_name language  \\\n",
       "0                                    Avatar              Wes Studi  English   \n",
       "1  Pirates of the Caribbean: At World's End         Jack Davenport  English   \n",
       "2                                   Spectre       Stephanie Sigman  English   \n",
       "3                     The Dark Knight Rises   Joseph Gordon-Levitt  English   \n",
       "5                               John Carter           Polly Walker  English   \n",
       "\n",
       "  country content_rating Genre_0    Genre_1   Genre_2 Genre_3 Genre_4 Genre_5  \\\n",
       "0     USA          PG-13  Action  Adventure   Fantasy  Sci-Fi    None    None   \n",
       "1     USA          PG-13  Action  Adventure   Fantasy    None    None    None   \n",
       "2      UK          PG-13  Action  Adventure  Thriller    None    None    None   \n",
       "3     USA          PG-13  Action   Thriller      None    None    None    None   \n",
       "5     USA          PG-13  Action  Adventure   Romance    None    None    None   \n",
       "\n",
       "  plot_keywords_0    plot_keywords_1    plot_keywords_2 plot_keywords_3  \\\n",
       "0          avatar             future             marine          native   \n",
       "1         goddess  marriage ceremony  marriage proposal          pirate   \n",
       "2            bomb          espionage             sequel             spy   \n",
       "3       deception       imprisonment        lawlessness  police officer   \n",
       "5         sandman         spider man           symbiote           venom   \n",
       "\n",
       "  plot_keywords_4  \n",
       "0      paraplegic  \n",
       "1       singapore  \n",
       "2       terrorist  \n",
       "3  terrorist plot  \n",
       "5         villain  "
      ]
     },
     "execution_count": 51,
     "metadata": {},
     "output_type": "execute_result"
    }
   ],
   "source": [
    "whole_data.head()"
   ]
  },
  {
   "cell_type": "code",
   "execution_count": 52,
   "metadata": {},
   "outputs": [
    {
     "data": {
      "text/plain": [
       "(3167, 28)"
      ]
     },
     "execution_count": 52,
     "metadata": {},
     "output_type": "execute_result"
    }
   ],
   "source": [
    "whole_data.shape"
   ]
  },
  {
   "cell_type": "code",
   "execution_count": 53,
   "metadata": {
    "collapsed": true
   },
   "outputs": [],
   "source": [
    "y = whole_data['imdb_score']"
   ]
  },
  {
   "cell_type": "code",
   "execution_count": 54,
   "metadata": {
    "collapsed": true
   },
   "outputs": [],
   "source": [
    "whole_data.drop('imdb_score',axis = 1,inplace = True)"
   ]
  },
  {
   "cell_type": "code",
   "execution_count": 55,
   "metadata": {
    "collapsed": true
   },
   "outputs": [],
   "source": [
    "from sklearn.model_selection import train_test_split # to split the data into two parts\n",
    "X_train,X_test,y_train,y_test = train_test_split(whole_data,y, random_state = 0,test_size = 0.20) # test_size = 0.10"
   ]
  },
  {
   "cell_type": "code",
   "execution_count": 56,
   "metadata": {
    "collapsed": true
   },
   "outputs": [],
   "source": [
    "num_feat = whole_data.select_dtypes(exclude=['object']).columns.tolist()\n",
    "cat_feat = whole_data.select_dtypes(include=['object']).columns.tolist()"
   ]
  },
  {
   "cell_type": "code",
   "execution_count": 57,
   "metadata": {
    "collapsed": true
   },
   "outputs": [],
   "source": [
    "X_train_num = X_train[num_feat]\n",
    "\n",
    "X_train_cat = X_train[cat_feat]"
   ]
  },
  {
   "cell_type": "code",
   "execution_count": 58,
   "metadata": {
    "collapsed": true
   },
   "outputs": [],
   "source": [
    "X_test_num = X_test[num_feat]\n",
    "\n",
    "X_test_cat = X_test[cat_feat]"
   ]
  },
  {
   "cell_type": "markdown",
   "metadata": {},
   "source": [
    "# Skewness"
   ]
  },
  {
   "cell_type": "code",
   "execution_count": 59,
   "metadata": {
    "collapsed": true
   },
   "outputs": [],
   "source": [
    "from scipy.stats import skew \n",
    "skewness = X_train_num.apply(lambda x: skew(x.dropna()))\n",
    "skewness = skewness[abs(skewness) > 0.75]\n",
    "skew_features = X_train_num[skewness.index]\n",
    "skew_features  = np.log1p(skew_features)\n",
    "X_train_num[skewness.index] = skew_features"
   ]
  },
  {
   "cell_type": "code",
   "execution_count": 60,
   "metadata": {},
   "outputs": [
    {
     "data": {
      "text/html": [
       "<div>\n",
       "<style>\n",
       "    .dataframe thead tr:only-child th {\n",
       "        text-align: right;\n",
       "    }\n",
       "\n",
       "    .dataframe thead th {\n",
       "        text-align: left;\n",
       "    }\n",
       "\n",
       "    .dataframe tbody tr th {\n",
       "        vertical-align: top;\n",
       "    }\n",
       "</style>\n",
       "<table border=\"1\" class=\"dataframe\">\n",
       "  <thead>\n",
       "    <tr style=\"text-align: right;\">\n",
       "      <th></th>\n",
       "      <th>num_critic_for_reviews</th>\n",
       "      <th>duration</th>\n",
       "      <th>director_facebook_likes</th>\n",
       "      <th>gross</th>\n",
       "      <th>num_voted_users</th>\n",
       "      <th>num_user_for_reviews</th>\n",
       "      <th>movie_facebook_likes</th>\n",
       "    </tr>\n",
       "  </thead>\n",
       "  <tbody>\n",
       "    <tr>\n",
       "      <th>2803</th>\n",
       "      <td>5.529429</td>\n",
       "      <td>4.927254</td>\n",
       "      <td>4.969813</td>\n",
       "      <td>15.512927</td>\n",
       "      <td>11.438008</td>\n",
       "      <td>5.771441</td>\n",
       "      <td>8.517393</td>\n",
       "    </tr>\n",
       "    <tr>\n",
       "      <th>371</th>\n",
       "      <td>5.293305</td>\n",
       "      <td>4.736198</td>\n",
       "      <td>5.402677</td>\n",
       "      <td>18.420869</td>\n",
       "      <td>11.959846</td>\n",
       "      <td>5.942799</td>\n",
       "      <td>0.000000</td>\n",
       "    </tr>\n",
       "    <tr>\n",
       "      <th>1080</th>\n",
       "      <td>3.688879</td>\n",
       "      <td>4.787492</td>\n",
       "      <td>6.295266</td>\n",
       "      <td>18.338551</td>\n",
       "      <td>10.732018</td>\n",
       "      <td>4.553877</td>\n",
       "      <td>6.908755</td>\n",
       "    </tr>\n",
       "    <tr>\n",
       "      <th>2493</th>\n",
       "      <td>5.648974</td>\n",
       "      <td>4.394449</td>\n",
       "      <td>6.416732</td>\n",
       "      <td>11.349959</td>\n",
       "      <td>11.914483</td>\n",
       "      <td>6.735780</td>\n",
       "      <td>0.000000</td>\n",
       "    </tr>\n",
       "    <tr>\n",
       "      <th>1217</th>\n",
       "      <td>4.836282</td>\n",
       "      <td>5.332719</td>\n",
       "      <td>0.000000</td>\n",
       "      <td>18.069782</td>\n",
       "      <td>11.639320</td>\n",
       "      <td>6.093570</td>\n",
       "      <td>0.000000</td>\n",
       "    </tr>\n",
       "  </tbody>\n",
       "</table>\n",
       "</div>"
      ],
      "text/plain": [
       "      num_critic_for_reviews  duration  director_facebook_likes      gross  \\\n",
       "2803                5.529429  4.927254                 4.969813  15.512927   \n",
       "371                 5.293305  4.736198                 5.402677  18.420869   \n",
       "1080                3.688879  4.787492                 6.295266  18.338551   \n",
       "2493                5.648974  4.394449                 6.416732  11.349959   \n",
       "1217                4.836282  5.332719                 0.000000  18.069782   \n",
       "\n",
       "      num_voted_users  num_user_for_reviews  movie_facebook_likes  \n",
       "2803        11.438008              5.771441              8.517393  \n",
       "371         11.959846              5.942799              0.000000  \n",
       "1080        10.732018              4.553877              6.908755  \n",
       "2493        11.914483              6.735780              0.000000  \n",
       "1217        11.639320              6.093570              0.000000  "
      ]
     },
     "execution_count": 60,
     "metadata": {},
     "output_type": "execute_result"
    }
   ],
   "source": [
    "X_train_num.head()"
   ]
  },
  {
   "cell_type": "markdown",
   "metadata": {},
   "source": [
    "# Standardize"
   ]
  },
  {
   "cell_type": "code",
   "execution_count": 61,
   "metadata": {
    "collapsed": true
   },
   "outputs": [],
   "source": [
    "from sklearn.preprocessing import StandardScaler\n",
    "scaler = StandardScaler()\n",
    "X_train_num_scaled = scaler.fit_transform(X_train_num)"
   ]
  },
  {
   "cell_type": "code",
   "execution_count": 62,
   "metadata": {
    "collapsed": true
   },
   "outputs": [],
   "source": [
    "for i, col in enumerate(num_feat):\n",
    "    X_train_num.loc[:,col] = X_train_num_scaled[:, i]"
   ]
  },
  {
   "cell_type": "markdown",
   "metadata": {},
   "source": [
    "# Transformations on Numeric Test data"
   ]
  },
  {
   "cell_type": "code",
   "execution_count": 63,
   "metadata": {
    "collapsed": true
   },
   "outputs": [],
   "source": [
    "from scipy.stats import skew \n",
    "skewness = X_test_num.apply(lambda x: skew(x.dropna()))\n",
    "skewness = skewness[abs(skewness) > 0.75]\n",
    "skew_features = X_test_num[skewness.index]\n",
    "skew_features  = np.log1p(skew_features)\n",
    "X_test_num[skewness.index] = skew_features"
   ]
  },
  {
   "cell_type": "code",
   "execution_count": 64,
   "metadata": {
    "collapsed": true
   },
   "outputs": [],
   "source": [
    "X_test_num_scaled = scaler.transform(X_test_num)"
   ]
  },
  {
   "cell_type": "code",
   "execution_count": 65,
   "metadata": {
    "collapsed": true
   },
   "outputs": [],
   "source": [
    "for i, col in enumerate(num_feat):\n",
    "    X_test_num.loc[:,col] = X_test_num_scaled[:, i]"
   ]
  },
  {
   "cell_type": "markdown",
   "metadata": {
    "collapsed": true
   },
   "source": [
    "# Random Forest Regressor"
   ]
  },
  {
   "cell_type": "code",
   "execution_count": 66,
   "metadata": {},
   "outputs": [
    {
     "name": "stdout",
     "output_type": "stream",
     "text": [
      "Training score:  0.9321352259417813\n",
      "Testing score:  0.5419233110045173\n"
     ]
    }
   ],
   "source": [
    "from sklearn.ensemble import RandomForestRegressor\n",
    "dt = RandomForestRegressor(n_estimators = 1000,n_jobs=-1,random_state = 0)\n",
    "dt.fit(X_train_num, y_train)\n",
    "dt_score_train = dt.score(X_train_num, y_train)\n",
    "print(\"Training score: \",dt_score_train)\n",
    "dt_score_test = dt.score(X_test_num, y_test)\n",
    "print(\"Testing score: \",dt_score_test)"
   ]
  },
  {
   "cell_type": "code",
   "execution_count": 67,
   "metadata": {},
   "outputs": [
    {
     "data": {
      "text/plain": [
       "Text(0.5, 0, 'importance')"
      ]
     },
     "execution_count": 67,
     "metadata": {},
     "output_type": "execute_result"
    },
    {
     "data": {
      "image/png": "iVBORw0KGgoAAAANSUhEUgAABOoAAAJQCAYAAAAwg4v2AAAABHNCSVQICAgIfAhkiAAAAAlwSFlz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\nYII=\n",
      "text/plain": [
       "<Figure size 1440x720 with 1 Axes>"
      ]
     },
     "metadata": {},
     "output_type": "display_data"
    }
   ],
   "source": [
    "df = pd.DataFrame(data = dt.feature_importances_,index = X_train_num.columns.tolist())\n",
    "\n",
    "df = df[df.iloc[:,0] > 0].sort_values(by = 0,ascending = False)\n",
    "fig, ax = plt.subplots(figsize=(20,10))\n",
    "sns.barplot(y = df.index, x= df[0])\n",
    "plt.xlabel('importance')"
   ]
  },
  {
   "cell_type": "code",
   "execution_count": 68,
   "metadata": {},
   "outputs": [
    {
     "data": {
      "text/plain": [
       "<seaborn.axisgrid.PairGrid at 0x7fd4436241d0>"
      ]
     },
     "execution_count": 68,
     "metadata": {},
     "output_type": "execute_result"
    },
    {
     "data": {
      "image/png": "iVBORw0KGgoAAAANSUhEUgAAAsoAAALACAYAAACKDVQmAAAABHNCSVQICAgIfAhkiAAAAAlwSFlz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\n",
      "text/plain": [
       "<Figure size 720x720 with 20 Axes>"
      ]
     },
     "metadata": {},
     "output_type": "display_data"
    }
   ],
   "source": [
    "sns.set(style=\"ticks\")\n",
    "sns.pairplot(X_train_num.iloc[:,:4],diag_kind=\"kde\")"
   ]
  },
  {
   "cell_type": "code",
   "execution_count": 69,
   "metadata": {},
   "outputs": [
    {
     "data": {
      "text/html": [
       "<div>\n",
       "<style>\n",
       "    .dataframe thead tr:only-child th {\n",
       "        text-align: right;\n",
       "    }\n",
       "\n",
       "    .dataframe thead th {\n",
       "        text-align: left;\n",
       "    }\n",
       "\n",
       "    .dataframe tbody tr th {\n",
       "        vertical-align: top;\n",
       "    }\n",
       "</style>\n",
       "<table border=\"1\" class=\"dataframe\">\n",
       "  <thead>\n",
       "    <tr style=\"text-align: right;\">\n",
       "      <th></th>\n",
       "      <th>color</th>\n",
       "      <th>director_name</th>\n",
       "      <th>actor_2_name</th>\n",
       "      <th>actor_1_name</th>\n",
       "      <th>movie_title</th>\n",
       "      <th>actor_3_name</th>\n",
       "      <th>language</th>\n",
       "      <th>country</th>\n",
       "      <th>content_rating</th>\n",
       "      <th>Genre_0</th>\n",
       "      <th>Genre_1</th>\n",
       "      <th>Genre_2</th>\n",
       "      <th>Genre_3</th>\n",
       "      <th>Genre_4</th>\n",
       "      <th>Genre_5</th>\n",
       "      <th>plot_keywords_0</th>\n",
       "      <th>plot_keywords_1</th>\n",
       "      <th>plot_keywords_2</th>\n",
       "      <th>plot_keywords_3</th>\n",
       "      <th>plot_keywords_4</th>\n",
       "    </tr>\n",
       "  </thead>\n",
       "  <tbody>\n",
       "    <tr>\n",
       "      <th>0</th>\n",
       "      <td>Color</td>\n",
       "      <td>James Cameron</td>\n",
       "      <td>Joel David Moore</td>\n",
       "      <td>CCH Pounder</td>\n",
       "      <td>Avatar</td>\n",
       "      <td>Wes Studi</td>\n",
       "      <td>English</td>\n",
       "      <td>USA</td>\n",
       "      <td>PG-13</td>\n",
       "      <td>Action</td>\n",
       "      <td>Adventure</td>\n",
       "      <td>Fantasy</td>\n",
       "      <td>Sci-Fi</td>\n",
       "      <td>None</td>\n",
       "      <td>None</td>\n",
       "      <td>avatar</td>\n",
       "      <td>future</td>\n",
       "      <td>marine</td>\n",
       "      <td>native</td>\n",
       "      <td>paraplegic</td>\n",
       "    </tr>\n",
       "    <tr>\n",
       "      <th>1</th>\n",
       "      <td>Color</td>\n",
       "      <td>Gore Verbinski</td>\n",
       "      <td>Orlando Bloom</td>\n",
       "      <td>Johnny Depp</td>\n",
       "      <td>Pirates of the Caribbean: At World's End</td>\n",
       "      <td>Jack Davenport</td>\n",
       "      <td>English</td>\n",
       "      <td>USA</td>\n",
       "      <td>PG-13</td>\n",
       "      <td>Action</td>\n",
       "      <td>Adventure</td>\n",
       "      <td>Fantasy</td>\n",
       "      <td>None</td>\n",
       "      <td>None</td>\n",
       "      <td>None</td>\n",
       "      <td>goddess</td>\n",
       "      <td>marriage ceremony</td>\n",
       "      <td>marriage proposal</td>\n",
       "      <td>pirate</td>\n",
       "      <td>singapore</td>\n",
       "    </tr>\n",
       "    <tr>\n",
       "      <th>2</th>\n",
       "      <td>Color</td>\n",
       "      <td>Sam Mendes</td>\n",
       "      <td>Rory Kinnear</td>\n",
       "      <td>Christoph Waltz</td>\n",
       "      <td>Spectre</td>\n",
       "      <td>Stephanie Sigman</td>\n",
       "      <td>English</td>\n",
       "      <td>UK</td>\n",
       "      <td>PG-13</td>\n",
       "      <td>Action</td>\n",
       "      <td>Adventure</td>\n",
       "      <td>Thriller</td>\n",
       "      <td>None</td>\n",
       "      <td>None</td>\n",
       "      <td>None</td>\n",
       "      <td>bomb</td>\n",
       "      <td>espionage</td>\n",
       "      <td>sequel</td>\n",
       "      <td>spy</td>\n",
       "      <td>terrorist</td>\n",
       "    </tr>\n",
       "    <tr>\n",
       "      <th>3</th>\n",
       "      <td>Color</td>\n",
       "      <td>Christopher Nolan</td>\n",
       "      <td>Christian Bale</td>\n",
       "      <td>Tom Hardy</td>\n",
       "      <td>The Dark Knight Rises</td>\n",
       "      <td>Joseph Gordon-Levitt</td>\n",
       "      <td>English</td>\n",
       "      <td>USA</td>\n",
       "      <td>PG-13</td>\n",
       "      <td>Action</td>\n",
       "      <td>Thriller</td>\n",
       "      <td>None</td>\n",
       "      <td>None</td>\n",
       "      <td>None</td>\n",
       "      <td>None</td>\n",
       "      <td>deception</td>\n",
       "      <td>imprisonment</td>\n",
       "      <td>lawlessness</td>\n",
       "      <td>police officer</td>\n",
       "      <td>terrorist plot</td>\n",
       "    </tr>\n",
       "    <tr>\n",
       "      <th>5</th>\n",
       "      <td>Color</td>\n",
       "      <td>Andrew Stanton</td>\n",
       "      <td>Samantha Morton</td>\n",
       "      <td>Daryl Sabara</td>\n",
       "      <td>John Carter</td>\n",
       "      <td>Polly Walker</td>\n",
       "      <td>English</td>\n",
       "      <td>USA</td>\n",
       "      <td>PG-13</td>\n",
       "      <td>Action</td>\n",
       "      <td>Adventure</td>\n",
       "      <td>Romance</td>\n",
       "      <td>None</td>\n",
       "      <td>None</td>\n",
       "      <td>None</td>\n",
       "      <td>sandman</td>\n",
       "      <td>spider man</td>\n",
       "      <td>symbiote</td>\n",
       "      <td>venom</td>\n",
       "      <td>villain</td>\n",
       "    </tr>\n",
       "  </tbody>\n",
       "</table>\n",
       "</div>"
      ],
      "text/plain": [
       "   color      director_name      actor_2_name     actor_1_name  \\\n",
       "0  Color      James Cameron  Joel David Moore      CCH Pounder   \n",
       "1  Color     Gore Verbinski     Orlando Bloom      Johnny Depp   \n",
       "2  Color         Sam Mendes      Rory Kinnear  Christoph Waltz   \n",
       "3  Color  Christopher Nolan    Christian Bale        Tom Hardy   \n",
       "5  Color     Andrew Stanton   Samantha Morton     Daryl Sabara   \n",
       "\n",
       "                                 movie_title          actor_3_name language  \\\n",
       "0                                    Avatar              Wes Studi  English   \n",
       "1  Pirates of the Caribbean: At World's End         Jack Davenport  English   \n",
       "2                                   Spectre       Stephanie Sigman  English   \n",
       "3                     The Dark Knight Rises   Joseph Gordon-Levitt  English   \n",
       "5                               John Carter           Polly Walker  English   \n",
       "\n",
       "  country content_rating Genre_0    Genre_1   Genre_2 Genre_3 Genre_4 Genre_5  \\\n",
       "0     USA          PG-13  Action  Adventure   Fantasy  Sci-Fi    None    None   \n",
       "1     USA          PG-13  Action  Adventure   Fantasy    None    None    None   \n",
       "2      UK          PG-13  Action  Adventure  Thriller    None    None    None   \n",
       "3     USA          PG-13  Action   Thriller      None    None    None    None   \n",
       "5     USA          PG-13  Action  Adventure   Romance    None    None    None   \n",
       "\n",
       "  plot_keywords_0    plot_keywords_1    plot_keywords_2 plot_keywords_3  \\\n",
       "0          avatar             future             marine          native   \n",
       "1         goddess  marriage ceremony  marriage proposal          pirate   \n",
       "2            bomb          espionage             sequel             spy   \n",
       "3       deception       imprisonment        lawlessness  police officer   \n",
       "5         sandman         spider man           symbiote           venom   \n",
       "\n",
       "  plot_keywords_4  \n",
       "0      paraplegic  \n",
       "1       singapore  \n",
       "2       terrorist  \n",
       "3  terrorist plot  \n",
       "5         villain  "
      ]
     },
     "execution_count": 69,
     "metadata": {},
     "output_type": "execute_result"
    }
   ],
   "source": [
    "cat_data.head()"
   ]
  },
  {
   "cell_type": "code",
   "execution_count": 74,
   "metadata": {},
   "outputs": [
    {
     "data": {
      "text/plain": [
       "Action         756\n",
       "Comedy         611\n",
       "Drama          415\n",
       "Adventure      276\n",
       "Crime          168\n",
       "Biography      132\n",
       "Horror         106\n",
       "Animation       36\n",
       "Fantasy         23\n",
       "Mystery         14\n",
       "Documentary      7\n",
       "Sci-Fi           5\n",
       "Family           2\n",
       "Romance          1\n",
       "Western          1\n",
       "Musical          1\n",
       "Name: Genre_0, dtype: int64"
      ]
     },
     "execution_count": 74,
     "metadata": {},
     "output_type": "execute_result"
    }
   ],
   "source": [
    "cat_data.Genre_0.value_counts()"
   ]
  },
  {
   "cell_type": "code",
   "execution_count": 75,
   "metadata": {},
   "outputs": [
    {
     "data": {
      "text/plain": [
       "color                 0\n",
       "director_name         0\n",
       "actor_2_name          0\n",
       "actor_1_name          0\n",
       "movie_title           0\n",
       "actor_3_name          0\n",
       "language              0\n",
       "country               0\n",
       "content_rating        0\n",
       "Genre_0             613\n",
       "Genre_1             813\n",
       "Genre_2            1417\n",
       "Genre_3            2300\n",
       "Genre_4            2890\n",
       "Genre_5            3102\n",
       "plot_keywords_0     613\n",
       "plot_keywords_1     614\n",
       "plot_keywords_2     615\n",
       "plot_keywords_3     615\n",
       "plot_keywords_4     617\n",
       "dtype: int64"
      ]
     },
     "execution_count": 75,
     "metadata": {},
     "output_type": "execute_result"
    }
   ],
   "source": [
    "cat_data.isnull().sum()"
   ]
  },
  {
   "cell_type": "code",
   "execution_count": 76,
   "metadata": {},
   "outputs": [
    {
     "data": {
      "text/plain": [
       "(3167, 20)"
      ]
     },
     "execution_count": 76,
     "metadata": {},
     "output_type": "execute_result"
    }
   ],
   "source": [
    "cat_data.shape"
   ]
  },
  {
   "cell_type": "code",
   "execution_count": 98,
   "metadata": {},
   "outputs": [],
   "source": [
    "refined_cat_data = cat_data.drop(['Genre_3', 'Genre_4', 'Genre_5'] , axis = 1 ) "
   ]
  },
  {
   "cell_type": "code",
   "execution_count": 99,
   "metadata": {},
   "outputs": [
    {
     "data": {
      "text/plain": [
       "color                 0\n",
       "director_name         0\n",
       "actor_2_name          0\n",
       "actor_1_name          0\n",
       "movie_title           0\n",
       "actor_3_name          0\n",
       "language              0\n",
       "country               0\n",
       "content_rating        0\n",
       "Genre_0             613\n",
       "Genre_1             813\n",
       "Genre_2            1417\n",
       "plot_keywords_0     613\n",
       "plot_keywords_1     614\n",
       "plot_keywords_2     615\n",
       "plot_keywords_3     615\n",
       "plot_keywords_4     617\n",
       "dtype: int64"
      ]
     },
     "execution_count": 99,
     "metadata": {},
     "output_type": "execute_result"
    }
   ],
   "source": [
    "refined_cat_data.isnull().sum()"
   ]
  },
  {
   "cell_type": "code",
   "execution_count": 105,
   "metadata": {},
   "outputs": [],
   "source": [
    "refined_cat_data['Genre_0'].fillna(refined_cat_data['Genre_0'].value_counts().index[0], inplace=True)\n",
    "refined_cat_data['Genre_1'].fillna(refined_cat_data['Genre_1'].value_counts().index[0], inplace=True)\n",
    "refined_cat_data['Genre_2'].fillna(refined_cat_data['Genre_2'].value_counts().index[0], inplace=True)\n",
    "refined_cat_data['plot_keywords_0'].fillna(refined_cat_data['plot_keywords_0'].value_counts().index[0], inplace=True)\n",
    "refined_cat_data['plot_keywords_1'].fillna(refined_cat_data['plot_keywords_1'].value_counts().index[0], inplace=True)\n",
    "refined_cat_data['plot_keywords_2'].fillna(refined_cat_data['plot_keywords_2'].value_counts().index[0], inplace=True)\n",
    "refined_cat_data['plot_keywords_3'].fillna(refined_cat_data['plot_keywords_3'].value_counts().index[0], inplace=True)\n",
    "refined_cat_data['plot_keywords_4'].fillna(refined_cat_data['plot_keywords_4'].value_counts().index[0], inplace=True)"
   ]
  },
  {
   "cell_type": "code",
   "execution_count": 106,
   "metadata": {},
   "outputs": [
    {
     "data": {
      "text/plain": [
       "color              0\n",
       "director_name      0\n",
       "actor_2_name       0\n",
       "actor_1_name       0\n",
       "movie_title        0\n",
       "actor_3_name       0\n",
       "language           0\n",
       "country            0\n",
       "content_rating     0\n",
       "Genre_0            0\n",
       "Genre_1            0\n",
       "Genre_2            0\n",
       "plot_keywords_0    0\n",
       "plot_keywords_1    0\n",
       "plot_keywords_2    0\n",
       "plot_keywords_3    0\n",
       "plot_keywords_4    0\n",
       "dtype: int64"
      ]
     },
     "execution_count": 106,
     "metadata": {},
     "output_type": "execute_result"
    }
   ],
   "source": [
    "refined_cat_data.isnull().sum()"
   ]
  },
  {
   "cell_type": "code",
   "execution_count": 107,
   "metadata": {},
   "outputs": [
    {
     "data": {
      "text/html": [
       "<div>\n",
       "<style>\n",
       "    .dataframe thead tr:only-child th {\n",
       "        text-align: right;\n",
       "    }\n",
       "\n",
       "    .dataframe thead th {\n",
       "        text-align: left;\n",
       "    }\n",
       "\n",
       "    .dataframe tbody tr th {\n",
       "        vertical-align: top;\n",
       "    }\n",
       "</style>\n",
       "<table border=\"1\" class=\"dataframe\">\n",
       "  <thead>\n",
       "    <tr style=\"text-align: right;\">\n",
       "      <th></th>\n",
       "      <th>color</th>\n",
       "      <th>director_name</th>\n",
       "      <th>actor_2_name</th>\n",
       "      <th>actor_1_name</th>\n",
       "      <th>movie_title</th>\n",
       "      <th>actor_3_name</th>\n",
       "      <th>language</th>\n",
       "      <th>country</th>\n",
       "      <th>content_rating</th>\n",
       "      <th>Genre_0</th>\n",
       "      <th>Genre_1</th>\n",
       "      <th>Genre_2</th>\n",
       "      <th>plot_keywords_0</th>\n",
       "      <th>plot_keywords_1</th>\n",
       "      <th>plot_keywords_2</th>\n",
       "      <th>plot_keywords_3</th>\n",
       "      <th>plot_keywords_4</th>\n",
       "    </tr>\n",
       "  </thead>\n",
       "  <tbody>\n",
       "    <tr>\n",
       "      <th>0</th>\n",
       "      <td>Color</td>\n",
       "      <td>James Cameron</td>\n",
       "      <td>Joel David Moore</td>\n",
       "      <td>CCH Pounder</td>\n",
       "      <td>Avatar</td>\n",
       "      <td>Wes Studi</td>\n",
       "      <td>English</td>\n",
       "      <td>USA</td>\n",
       "      <td>PG-13</td>\n",
       "      <td>Action</td>\n",
       "      <td>Adventure</td>\n",
       "      <td>Fantasy</td>\n",
       "      <td>avatar</td>\n",
       "      <td>future</td>\n",
       "      <td>marine</td>\n",
       "      <td>native</td>\n",
       "      <td>paraplegic</td>\n",
       "    </tr>\n",
       "    <tr>\n",
       "      <th>1</th>\n",
       "      <td>Color</td>\n",
       "      <td>Gore Verbinski</td>\n",
       "      <td>Orlando Bloom</td>\n",
       "      <td>Johnny Depp</td>\n",
       "      <td>Pirates of the Caribbean: At World's End</td>\n",
       "      <td>Jack Davenport</td>\n",
       "      <td>English</td>\n",
       "      <td>USA</td>\n",
       "      <td>PG-13</td>\n",
       "      <td>Action</td>\n",
       "      <td>Adventure</td>\n",
       "      <td>Fantasy</td>\n",
       "      <td>goddess</td>\n",
       "      <td>marriage ceremony</td>\n",
       "      <td>marriage proposal</td>\n",
       "      <td>pirate</td>\n",
       "      <td>singapore</td>\n",
       "    </tr>\n",
       "    <tr>\n",
       "      <th>2</th>\n",
       "      <td>Color</td>\n",
       "      <td>Sam Mendes</td>\n",
       "      <td>Rory Kinnear</td>\n",
       "      <td>Christoph Waltz</td>\n",
       "      <td>Spectre</td>\n",
       "      <td>Stephanie Sigman</td>\n",
       "      <td>English</td>\n",
       "      <td>UK</td>\n",
       "      <td>PG-13</td>\n",
       "      <td>Action</td>\n",
       "      <td>Adventure</td>\n",
       "      <td>Thriller</td>\n",
       "      <td>bomb</td>\n",
       "      <td>espionage</td>\n",
       "      <td>sequel</td>\n",
       "      <td>spy</td>\n",
       "      <td>terrorist</td>\n",
       "    </tr>\n",
       "    <tr>\n",
       "      <th>3</th>\n",
       "      <td>Color</td>\n",
       "      <td>Christopher Nolan</td>\n",
       "      <td>Christian Bale</td>\n",
       "      <td>Tom Hardy</td>\n",
       "      <td>The Dark Knight Rises</td>\n",
       "      <td>Joseph Gordon-Levitt</td>\n",
       "      <td>English</td>\n",
       "      <td>USA</td>\n",
       "      <td>PG-13</td>\n",
       "      <td>Action</td>\n",
       "      <td>Thriller</td>\n",
       "      <td>Thriller</td>\n",
       "      <td>deception</td>\n",
       "      <td>imprisonment</td>\n",
       "      <td>lawlessness</td>\n",
       "      <td>police officer</td>\n",
       "      <td>terrorist plot</td>\n",
       "    </tr>\n",
       "    <tr>\n",
       "      <th>5</th>\n",
       "      <td>Color</td>\n",
       "      <td>Andrew Stanton</td>\n",
       "      <td>Samantha Morton</td>\n",
       "      <td>Daryl Sabara</td>\n",
       "      <td>John Carter</td>\n",
       "      <td>Polly Walker</td>\n",
       "      <td>English</td>\n",
       "      <td>USA</td>\n",
       "      <td>PG-13</td>\n",
       "      <td>Action</td>\n",
       "      <td>Adventure</td>\n",
       "      <td>Romance</td>\n",
       "      <td>sandman</td>\n",
       "      <td>spider man</td>\n",
       "      <td>symbiote</td>\n",
       "      <td>venom</td>\n",
       "      <td>villain</td>\n",
       "    </tr>\n",
       "  </tbody>\n",
       "</table>\n",
       "</div>"
      ],
      "text/plain": [
       "   color      director_name      actor_2_name     actor_1_name  \\\n",
       "0  Color      James Cameron  Joel David Moore      CCH Pounder   \n",
       "1  Color     Gore Verbinski     Orlando Bloom      Johnny Depp   \n",
       "2  Color         Sam Mendes      Rory Kinnear  Christoph Waltz   \n",
       "3  Color  Christopher Nolan    Christian Bale        Tom Hardy   \n",
       "5  Color     Andrew Stanton   Samantha Morton     Daryl Sabara   \n",
       "\n",
       "                                 movie_title          actor_3_name language  \\\n",
       "0                                    Avatar              Wes Studi  English   \n",
       "1  Pirates of the Caribbean: At World's End         Jack Davenport  English   \n",
       "2                                   Spectre       Stephanie Sigman  English   \n",
       "3                     The Dark Knight Rises   Joseph Gordon-Levitt  English   \n",
       "5                               John Carter           Polly Walker  English   \n",
       "\n",
       "  country content_rating Genre_0    Genre_1   Genre_2 plot_keywords_0  \\\n",
       "0     USA          PG-13  Action  Adventure   Fantasy          avatar   \n",
       "1     USA          PG-13  Action  Adventure   Fantasy         goddess   \n",
       "2      UK          PG-13  Action  Adventure  Thriller            bomb   \n",
       "3     USA          PG-13  Action   Thriller  Thriller       deception   \n",
       "5     USA          PG-13  Action  Adventure   Romance         sandman   \n",
       "\n",
       "     plot_keywords_1    plot_keywords_2 plot_keywords_3 plot_keywords_4  \n",
       "0             future             marine          native      paraplegic  \n",
       "1  marriage ceremony  marriage proposal          pirate       singapore  \n",
       "2          espionage             sequel             spy       terrorist  \n",
       "3       imprisonment        lawlessness  police officer  terrorist plot  \n",
       "5         spider man           symbiote           venom         villain  "
      ]
     },
     "execution_count": 107,
     "metadata": {},
     "output_type": "execute_result"
    }
   ],
   "source": [
    "refined_cat_data.head()"
   ]
  },
  {
   "cell_type": "code",
   "execution_count": 109,
   "metadata": {},
   "outputs": [
    {
     "data": {
      "text/plain": [
       "Index(['color', 'director_name', 'actor_2_name', 'actor_1_name', 'movie_title',\n",
       "       'actor_3_name', 'language', 'country', 'content_rating', 'Genre_0',\n",
       "       'Genre_1', 'Genre_2', 'plot_keywords_0', 'plot_keywords_1',\n",
       "       'plot_keywords_2', 'plot_keywords_3', 'plot_keywords_4'],\n",
       "      dtype='object')"
      ]
     },
     "execution_count": 109,
     "metadata": {},
     "output_type": "execute_result"
    }
   ],
   "source": [
    "k = refined_cat_data.columns\n",
    "k"
   ]
  },
  {
   "cell_type": "code",
   "execution_count": 110,
   "metadata": {},
   "outputs": [
    {
     "data": {
      "text/plain": [
       "color              int64\n",
       "director_name      int64\n",
       "actor_2_name       int64\n",
       "actor_1_name       int64\n",
       "movie_title        int64\n",
       "actor_3_name       int64\n",
       "language           int64\n",
       "country            int64\n",
       "content_rating     int64\n",
       "Genre_0            int64\n",
       "Genre_1            int64\n",
       "Genre_2            int64\n",
       "plot_keywords_0    int64\n",
       "plot_keywords_1    int64\n",
       "plot_keywords_2    int64\n",
       "plot_keywords_3    int64\n",
       "plot_keywords_4    int64\n",
       "dtype: object"
      ]
     },
     "execution_count": 110,
     "metadata": {},
     "output_type": "execute_result"
    }
   ],
   "source": [
    "from sklearn.preprocessing import LabelEncoder\n",
    "var_mod = k\n",
    "le = LabelEncoder()\n",
    "for i in var_mod:\n",
    "    refined_cat_data[i] = le.fit_transform(refined_cat_data[i])\n",
    "refined_cat_data.dtypes"
   ]
  },
  {
   "cell_type": "code",
   "execution_count": 115,
   "metadata": {},
   "outputs": [
    {
     "data": {
      "text/plain": [
       "num_critic_for_reviews     float64\n",
       "duration                   float64\n",
       "director_facebook_likes    float64\n",
       "gross                      float64\n",
       "num_voted_users              int64\n",
       "num_user_for_reviews       float64\n",
       "imdb_score                 float64\n",
       "movie_facebook_likes         int64\n",
       "dtype: object"
      ]
     },
     "execution_count": 115,
     "metadata": {},
     "output_type": "execute_result"
    }
   ],
   "source": [
    "num_data.head()\n",
    "num_data.shape\n",
    "num_data.dtypes"
   ]
  },
  {
   "cell_type": "code",
   "execution_count": 114,
   "metadata": {},
   "outputs": [
    {
     "data": {
      "text/plain": [
       "(3167, 17)"
      ]
     },
     "execution_count": 114,
     "metadata": {},
     "output_type": "execute_result"
    }
   ],
   "source": [
    "refined_cat_data.head()\n",
    "refined_cat_data.shape"
   ]
  },
  {
   "cell_type": "code",
   "execution_count": 123,
   "metadata": {},
   "outputs": [
    {
     "data": {
      "text/html": [
       "<div>\n",
       "<style>\n",
       "    .dataframe thead tr:only-child th {\n",
       "        text-align: right;\n",
       "    }\n",
       "\n",
       "    .dataframe thead th {\n",
       "        text-align: left;\n",
       "    }\n",
       "\n",
       "    .dataframe tbody tr th {\n",
       "        vertical-align: top;\n",
       "    }\n",
       "</style>\n",
       "<table border=\"1\" class=\"dataframe\">\n",
       "  <thead>\n",
       "    <tr style=\"text-align: right;\">\n",
       "      <th></th>\n",
       "      <th>num_critic_for_reviews</th>\n",
       "      <th>duration</th>\n",
       "      <th>director_facebook_likes</th>\n",
       "      <th>gross</th>\n",
       "      <th>num_voted_users</th>\n",
       "      <th>num_user_for_reviews</th>\n",
       "      <th>imdb_score</th>\n",
       "      <th>movie_facebook_likes</th>\n",
       "      <th>color</th>\n",
       "      <th>director_name</th>\n",
       "      <th>actor_2_name</th>\n",
       "      <th>actor_1_name</th>\n",
       "      <th>movie_title</th>\n",
       "      <th>actor_3_name</th>\n",
       "      <th>language</th>\n",
       "      <th>country</th>\n",
       "      <th>content_rating</th>\n",
       "      <th>Genre_0</th>\n",
       "      <th>Genre_1</th>\n",
       "      <th>Genre_2</th>\n",
       "      <th>plot_keywords_0</th>\n",
       "      <th>plot_keywords_1</th>\n",
       "      <th>plot_keywords_2</th>\n",
       "      <th>plot_keywords_3</th>\n",
       "      <th>plot_keywords_4</th>\n",
       "    </tr>\n",
       "  </thead>\n",
       "  <tbody>\n",
       "    <tr>\n",
       "      <th>0</th>\n",
       "      <td>723.0</td>\n",
       "      <td>178.0</td>\n",
       "      <td>0.0</td>\n",
       "      <td>760505847.0</td>\n",
       "      <td>886204</td>\n",
       "      <td>3054.0</td>\n",
       "      <td>7.9</td>\n",
       "      <td>33000</td>\n",
       "      <td>1</td>\n",
       "      <td>482</td>\n",
       "      <td>836</td>\n",
       "      <td>159</td>\n",
       "      <td>242</td>\n",
       "      <td>2167</td>\n",
       "      <td>7</td>\n",
       "      <td>39</td>\n",
       "      <td>7</td>\n",
       "      <td>0</td>\n",
       "      <td>0</td>\n",
       "      <td>7</td>\n",
       "      <td>301</td>\n",
       "      <td>861</td>\n",
       "      <td>939</td>\n",
       "      <td>589</td>\n",
       "      <td>272</td>\n",
       "    </tr>\n",
       "    <tr>\n",
       "      <th>1</th>\n",
       "      <td>302.0</td>\n",
       "      <td>169.0</td>\n",
       "      <td>563.0</td>\n",
       "      <td>309404152.0</td>\n",
       "      <td>471220</td>\n",
       "      <td>1238.0</td>\n",
       "      <td>7.1</td>\n",
       "      <td>0</td>\n",
       "      <td>1</td>\n",
       "      <td>424</td>\n",
       "      <td>1327</td>\n",
       "      <td>568</td>\n",
       "      <td>1679</td>\n",
       "      <td>857</td>\n",
       "      <td>7</td>\n",
       "      <td>39</td>\n",
       "      <td>7</td>\n",
       "      <td>0</td>\n",
       "      <td>0</td>\n",
       "      <td>7</td>\n",
       "      <td>1076</td>\n",
       "      <td>1228</td>\n",
       "      <td>945</td>\n",
       "      <td>769</td>\n",
       "      <td>633</td>\n",
       "    </tr>\n",
       "    <tr>\n",
       "      <th>2</th>\n",
       "      <td>602.0</td>\n",
       "      <td>148.0</td>\n",
       "      <td>0.0</td>\n",
       "      <td>200074175.0</td>\n",
       "      <td>275868</td>\n",
       "      <td>994.0</td>\n",
       "      <td>6.8</td>\n",
       "      <td>85000</td>\n",
       "      <td>1</td>\n",
       "      <td>1085</td>\n",
       "      <td>1507</td>\n",
       "      <td>212</td>\n",
       "      <td>2022</td>\n",
       "      <td>1965</td>\n",
       "      <td>7</td>\n",
       "      <td>38</td>\n",
       "      <td>7</td>\n",
       "      <td>0</td>\n",
       "      <td>0</td>\n",
       "      <td>16</td>\n",
       "      <td>467</td>\n",
       "      <td>684</td>\n",
       "      <td>1449</td>\n",
       "      <td>1222</td>\n",
       "      <td>925</td>\n",
       "    </tr>\n",
       "    <tr>\n",
       "      <th>3</th>\n",
       "      <td>813.0</td>\n",
       "      <td>164.0</td>\n",
       "      <td>22000.0</td>\n",
       "      <td>448130642.0</td>\n",
       "      <td>1144337</td>\n",
       "      <td>2701.0</td>\n",
       "      <td>8.5</td>\n",
       "      <td>164000</td>\n",
       "      <td>1</td>\n",
       "      <td>196</td>\n",
       "      <td>320</td>\n",
       "      <td>1101</td>\n",
       "      <td>2293</td>\n",
       "      <td>1088</td>\n",
       "      <td>7</td>\n",
       "      <td>39</td>\n",
       "      <td>7</td>\n",
       "      <td>0</td>\n",
       "      <td>17</td>\n",
       "      <td>16</td>\n",
       "      <td>842</td>\n",
       "      <td>1057</td>\n",
       "      <td>830</td>\n",
       "      <td>805</td>\n",
       "      <td>928</td>\n",
       "    </tr>\n",
       "    <tr>\n",
       "      <th>5</th>\n",
       "      <td>462.0</td>\n",
       "      <td>132.0</td>\n",
       "      <td>475.0</td>\n",
       "      <td>73058679.0</td>\n",
       "      <td>212204</td>\n",
       "      <td>738.0</td>\n",
       "      <td>6.6</td>\n",
       "      <td>24000</td>\n",
       "      <td>1</td>\n",
       "      <td>48</td>\n",
       "      <td>1543</td>\n",
       "      <td>265</td>\n",
       "      <td>1186</td>\n",
       "      <td>1685</td>\n",
       "      <td>7</td>\n",
       "      <td>39</td>\n",
       "      <td>7</td>\n",
       "      <td>0</td>\n",
       "      <td>0</td>\n",
       "      <td>13</td>\n",
       "      <td>1253</td>\n",
       "      <td>1477</td>\n",
       "      <td>1534</td>\n",
       "      <td>1456</td>\n",
       "      <td>1201</td>\n",
       "    </tr>\n",
       "  </tbody>\n",
       "</table>\n",
       "</div>"
      ],
      "text/plain": [
       "   num_critic_for_reviews  duration  director_facebook_likes        gross  \\\n",
       "0                   723.0     178.0                      0.0  760505847.0   \n",
       "1                   302.0     169.0                    563.0  309404152.0   \n",
       "2                   602.0     148.0                      0.0  200074175.0   \n",
       "3                   813.0     164.0                  22000.0  448130642.0   \n",
       "5                   462.0     132.0                    475.0   73058679.0   \n",
       "\n",
       "   num_voted_users  num_user_for_reviews  imdb_score  movie_facebook_likes  \\\n",
       "0           886204                3054.0         7.9                 33000   \n",
       "1           471220                1238.0         7.1                     0   \n",
       "2           275868                 994.0         6.8                 85000   \n",
       "3          1144337                2701.0         8.5                164000   \n",
       "5           212204                 738.0         6.6                 24000   \n",
       "\n",
       "   color  director_name  actor_2_name  actor_1_name  movie_title  \\\n",
       "0      1            482           836           159          242   \n",
       "1      1            424          1327           568         1679   \n",
       "2      1           1085          1507           212         2022   \n",
       "3      1            196           320          1101         2293   \n",
       "5      1             48          1543           265         1186   \n",
       "\n",
       "   actor_3_name  language  country  content_rating  Genre_0  Genre_1  Genre_2  \\\n",
       "0          2167         7       39               7        0        0        7   \n",
       "1           857         7       39               7        0        0        7   \n",
       "2          1965         7       38               7        0        0       16   \n",
       "3          1088         7       39               7        0       17       16   \n",
       "5          1685         7       39               7        0        0       13   \n",
       "\n",
       "   plot_keywords_0  plot_keywords_1  plot_keywords_2  plot_keywords_3  \\\n",
       "0              301              861              939              589   \n",
       "1             1076             1228              945              769   \n",
       "2              467              684             1449             1222   \n",
       "3              842             1057              830              805   \n",
       "5             1253             1477             1534             1456   \n",
       "\n",
       "   plot_keywords_4  \n",
       "0              272  \n",
       "1              633  \n",
       "2              925  \n",
       "3              928  \n",
       "5             1201  "
      ]
     },
     "execution_count": 123,
     "metadata": {},
     "output_type": "execute_result"
    }
   ],
   "source": [
    "whole_data_1 = pd.concat([num_data,refined_cat_data] , axis =1)\n",
    "whole_data_1.head()\n"
   ]
  },
  {
   "cell_type": "code",
   "execution_count": 124,
   "metadata": {},
   "outputs": [
    {
     "data": {
      "text/plain": [
       "(3167, 25)"
      ]
     },
     "execution_count": 124,
     "metadata": {},
     "output_type": "execute_result"
    }
   ],
   "source": [
    "whole_data_1.shape"
   ]
  },
  {
   "cell_type": "code",
   "execution_count": 125,
   "metadata": {
    "collapsed": true
   },
   "outputs": [],
   "source": [
    "from sklearn.model_selection import train_test_split\n",
    "X_train, X_test, y_train, y_test = train_test_split(whole_data_1, y, test_size=0.20)"
   ]
  },
  {
   "cell_type": "code",
   "execution_count": 127,
   "metadata": {},
   "outputs": [
    {
     "name": "stdout",
     "output_type": "stream",
     "text": [
      "Training score:  0.9999977015721606\n",
      "Testing score:  0.9999964978576229\n"
     ]
    }
   ],
   "source": [
    "from sklearn.ensemble import RandomForestRegressor\n",
    "dt = RandomForestRegressor(n_estimators = 1000,n_jobs=-1,random_state = 0)\n",
    "dt.fit(X_train, y_train)\n",
    "dt_score_train = dt.score(X_train, y_train)\n",
    "print(\"Training score: \",dt_score_train)\n",
    "dt_score_test = dt.score(X_test, y_test)\n",
    "print(\"Testing score: \",dt_score_test)"
   ]
  },
  {
   "cell_type": "code",
   "execution_count": 128,
   "metadata": {},
   "outputs": [
    {
     "name": "stdout",
     "output_type": "stream",
     "text": [
      "Training score:  0.9999999790246279\n",
      "Testing score:  0.999999977971998\n"
     ]
    }
   ],
   "source": [
    "# Lasso Regression\n",
    "from sklearn.linear_model import LinearRegression, RidgeCV, LassoCV\n",
    "from sklearn.linear_model import Lasso\n",
    "from sklearn.model_selection import KFold\n",
    "from sklearn.model_selection import GridSearchCV\n",
    "\n",
    "\n",
    "#lasso = Lasso(random_state=0)\n",
    "alphas = np.logspace(-4, -0.5, 30)\n",
    "\n",
    "tuned_parameters = [{'alpha': alphas}]\n",
    "n_folds = 3\n",
    "lasso_cv = LassoCV(alphas=alphas, random_state=0)\n",
    "# lasso_cv = Lasso(alpha = 0.001)\n",
    "lasso_cv.fit(X_train, y_train)\n",
    "#lasso_cv.predict(X_test)\n",
    "print(\"Training score: \",lasso_cv.score(X_train, y_train))\n",
    "print(\"Testing score: \",lasso_cv.score(X_test, y_test))"
   ]
  },
  {
   "cell_type": "code",
   "execution_count": null,
   "metadata": {
    "collapsed": true
   },
   "outputs": [],
   "source": []
  }
 ],
 "metadata": {
  "kernelspec": {
   "display_name": "Python 3",
   "language": "python",
   "name": "python3"
  },
  "language_info": {
   "codemirror_mode": {
    "name": "ipython",
    "version": 3
   },
   "file_extension": ".py",
   "mimetype": "text/x-python",
   "name": "python",
   "nbconvert_exporter": "python",
   "pygments_lexer": "ipython3",
   "version": "3.6.3"
  }
 },
 "nbformat": 4,
 "nbformat_minor": 2
}
